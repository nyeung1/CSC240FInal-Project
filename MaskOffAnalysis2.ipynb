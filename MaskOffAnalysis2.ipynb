{
  "nbformat": 4,
  "nbformat_minor": 0,
  "metadata": {
    "colab": {
      "name": "MaskOffAnalysis2.ipynb",
      "provenance": [],
      "collapsed_sections": []
    },
    "kernelspec": {
      "name": "python3",
      "display_name": "Python 3"
    }
  },
  "cells": [
    {
      "cell_type": "code",
      "metadata": {
        "id": "7vJmXVb0Acy-",
        "colab_type": "code",
        "colab": {}
      },
      "source": [
        "import pandas as pd"
      ],
      "execution_count": 0,
      "outputs": []
    },
    {
      "cell_type": "code",
      "metadata": {
        "id": "-F6GvMkPCXlP",
        "colab_type": "code",
        "outputId": "f167b12a-78b8-4346-be42-4b4d99ed7c1a",
        "colab": {
          "base_uri": "https://localhost:8080/",
          "height": 598
        }
      },
      "source": [
        "PATH = 'Scam.csv'\n",
        "df = pd.read_csv(PATH)\n",
        "df.head()"
      ],
      "execution_count": 0,
      "outputs": [
        {
          "output_type": "execute_result",
          "data": {
            "text/html": [
              "<div>\n",
              "<style scoped>\n",
              "    .dataframe tbody tr th:only-of-type {\n",
              "        vertical-align: middle;\n",
              "    }\n",
              "\n",
              "    .dataframe tbody tr th {\n",
              "        vertical-align: top;\n",
              "    }\n",
              "\n",
              "    .dataframe thead th {\n",
              "        text-align: right;\n",
              "    }\n",
              "</style>\n",
              "<table border=\"1\" class=\"dataframe\">\n",
              "  <thead>\n",
              "    <tr style=\"text-align: right;\">\n",
              "      <th></th>\n",
              "      <th>Unnamed: 0</th>\n",
              "      <th>Unnamed: 0.1</th>\n",
              "      <th>Tweet_id</th>\n",
              "      <th>name</th>\n",
              "      <th>id</th>\n",
              "      <th>location</th>\n",
              "      <th>text</th>\n",
              "      <th>sentiment</th>\n",
              "      <th>age</th>\n",
              "      <th>gender</th>\n",
              "      <th>date</th>\n",
              "      <th>time</th>\n",
              "      <th>race</th>\n",
              "      <th>score</th>\n",
              "      <th>screen_name</th>\n",
              "    </tr>\n",
              "  </thead>\n",
              "  <tbody>\n",
              "    <tr>\n",
              "      <th>0</th>\n",
              "      <td>0</td>\n",
              "      <td>0</td>\n",
              "      <td>1243234186049314800</td>\n",
              "      <td>Hosea Bigirwenkya</td>\n",
              "      <td>319059357</td>\n",
              "      <td>NaN</td>\n",
              "      <td>My sister is doing covid19 intubations all day...</td>\n",
              "      <td>Negative</td>\n",
              "      <td>&gt;40</td>\n",
              "      <td>Male</td>\n",
              "      <td>Mar26</td>\n",
              "      <td>17:51:42</td>\n",
              "      <td>GreaterEuropean,EastEuropean</td>\n",
              "      <td>-0.6289</td>\n",
              "      <td>hoseakb</td>\n",
              "    </tr>\n",
              "    <tr>\n",
              "      <th>1</th>\n",
              "      <td>1</td>\n",
              "      <td>1</td>\n",
              "      <td>1246371006375063600</td>\n",
              "      <td>Tania Britto Amaral</td>\n",
              "      <td>974765978520207360</td>\n",
              "      <td>NaN</td>\n",
              "      <td>“America is not prepared, and nurses are not b...</td>\n",
              "      <td>Negative</td>\n",
              "      <td>&gt;40</td>\n",
              "      <td>Female</td>\n",
              "      <td>Apr04</td>\n",
              "      <td>09:36:19</td>\n",
              "      <td>Asian,IndianSubContinent</td>\n",
              "      <td>-0.3749</td>\n",
              "      <td>AmaralBritto</td>\n",
              "    </tr>\n",
              "    <tr>\n",
              "      <th>2</th>\n",
              "      <td>2</td>\n",
              "      <td>2</td>\n",
              "      <td>1246501927132835800</td>\n",
              "      <td>Sana \"good &amp; normal\" Birbza 🐥</td>\n",
              "      <td>2597132532</td>\n",
              "      <td>go͜ʖod &amp; no͜ʖormal town</td>\n",
              "      <td>Now that the CDC recommends that everyone wear...</td>\n",
              "      <td>Positive</td>\n",
              "      <td>&gt;40</td>\n",
              "      <td>Female</td>\n",
              "      <td>Apr04</td>\n",
              "      <td>18:16:32</td>\n",
              "      <td>Asian,IndianSubContinent</td>\n",
              "      <td>0.7088</td>\n",
              "      <td>sanabirbza</td>\n",
              "    </tr>\n",
              "    <tr>\n",
              "      <th>3</th>\n",
              "      <td>3</td>\n",
              "      <td>3</td>\n",
              "      <td>1246361471296188400</td>\n",
              "      <td>Rachel McRea 🏳️‍🌈</td>\n",
              "      <td>122280853</td>\n",
              "      <td>Tuscaloosa, AL</td>\n",
              "      <td>This is where we're at in buying PPE.\\n\\nAn Il...</td>\n",
              "      <td>Negative</td>\n",
              "      <td>30-39</td>\n",
              "      <td>Female</td>\n",
              "      <td>Apr04</td>\n",
              "      <td>08:58:25</td>\n",
              "      <td>GreaterEuropean,British</td>\n",
              "      <td>-0.4588</td>\n",
              "      <td>Rachel_McRea</td>\n",
              "    </tr>\n",
              "    <tr>\n",
              "      <th>4</th>\n",
              "      <td>4</td>\n",
              "      <td>4</td>\n",
              "      <td>1242149459221504000</td>\n",
              "      <td>Organique #StayHome #BernieIsOurFDR</td>\n",
              "      <td>264623333</td>\n",
              "      <td>Cape Town, South Africa</td>\n",
              "      <td>Delusional. Nurses are being advised by the CD...</td>\n",
              "      <td>Negative</td>\n",
              "      <td>&gt;40</td>\n",
              "      <td>Female</td>\n",
              "      <td>Mar23</td>\n",
              "      <td>18:01:23</td>\n",
              "      <td>GreaterEuropean,WestEuropean,Hispanic</td>\n",
              "      <td>-0.5537</td>\n",
              "      <td>Organique</td>\n",
              "    </tr>\n",
              "  </tbody>\n",
              "</table>\n",
              "</div>"
            ],
            "text/plain": [
              "   Unnamed: 0  Unnamed: 0.1  ...   score   screen_name\n",
              "0           0             0  ... -0.6289       hoseakb\n",
              "1           1             1  ... -0.3749  AmaralBritto\n",
              "2           2             2  ...  0.7088    sanabirbza\n",
              "3           3             3  ... -0.4588  Rachel_McRea\n",
              "4           4             4  ... -0.5537     Organique\n",
              "\n",
              "[5 rows x 15 columns]"
            ]
          },
          "metadata": {
            "tags": []
          },
          "execution_count": 9
        }
      ]
    },
    {
      "cell_type": "code",
      "metadata": {
        "id": "Zeij0pNvDVAn",
        "colab_type": "code",
        "outputId": "c110932f-5310-4f15-92e4-d528cae9a86c",
        "colab": {
          "base_uri": "https://localhost:8080/",
          "height": 305
        }
      },
      "source": [
        "import seaborn as sns\n",
        "from pandas.api.types import is_datetime64_any_dtype\n",
        "\n",
        "#change date column to date object\n",
        "for i, row in df.iterrows():\n",
        "  # Convert to string\n",
        "  date = str(df.at[i, 'date'])\n",
        "  if ('Apr' in date):\n",
        "     df.at[i, 'date'] = \"2020-\" + \"04-\" + date[3:5]\n",
        "  elif ('Mar' in date):\n",
        "    df.at[i, 'date'] = \"2020-\" + \"03-\" + date[3:5]\n",
        "\n",
        "# Convert to date time obj.\n",
        "df['date'] = pd.to_datetime(df['date'])\n",
        "print(is_datetime64_any_dtype(df['date']))\n",
        "\n",
        "# Sort by date\n",
        "df = df.sort_values('date')\n",
        "\n",
        "# reset the index after sorting\n",
        "df = df.reset_index(drop=True)\n",
        "df.head()"
      ],
      "execution_count": 0,
      "outputs": [
        {
          "output_type": "stream",
          "text": [
            "True\n"
          ],
          "name": "stdout"
        },
        {
          "output_type": "execute_result",
          "data": {
            "text/html": [
              "<div>\n",
              "<style scoped>\n",
              "    .dataframe tbody tr th:only-of-type {\n",
              "        vertical-align: middle;\n",
              "    }\n",
              "\n",
              "    .dataframe tbody tr th {\n",
              "        vertical-align: top;\n",
              "    }\n",
              "\n",
              "    .dataframe thead th {\n",
              "        text-align: right;\n",
              "    }\n",
              "</style>\n",
              "<table border=\"1\" class=\"dataframe\">\n",
              "  <thead>\n",
              "    <tr style=\"text-align: right;\">\n",
              "      <th></th>\n",
              "      <th>Unnamed: 0</th>\n",
              "      <th>Unnamed: 0.1</th>\n",
              "      <th>Tweet_id</th>\n",
              "      <th>name</th>\n",
              "      <th>id</th>\n",
              "      <th>location</th>\n",
              "      <th>text</th>\n",
              "      <th>sentiment</th>\n",
              "      <th>age</th>\n",
              "      <th>gender</th>\n",
              "      <th>date</th>\n",
              "      <th>time</th>\n",
              "      <th>race</th>\n",
              "      <th>score</th>\n",
              "      <th>screen_name</th>\n",
              "    </tr>\n",
              "  </thead>\n",
              "  <tbody>\n",
              "    <tr>\n",
              "      <th>0</th>\n",
              "      <td>4</td>\n",
              "      <td>4</td>\n",
              "      <td>1242149459221504000</td>\n",
              "      <td>Organique #StayHome #BernieIsOurFDR</td>\n",
              "      <td>264623333</td>\n",
              "      <td>Cape Town, South Africa</td>\n",
              "      <td>Delusional. Nurses are being advised by the CD...</td>\n",
              "      <td>Negative</td>\n",
              "      <td>&gt;40</td>\n",
              "      <td>Female</td>\n",
              "      <td>2020-03-23</td>\n",
              "      <td>18:01:23</td>\n",
              "      <td>GreaterEuropean,WestEuropean,Hispanic</td>\n",
              "      <td>-0.5537</td>\n",
              "      <td>Organique</td>\n",
              "    </tr>\n",
              "    <tr>\n",
              "      <th>1</th>\n",
              "      <td>15</td>\n",
              "      <td>15</td>\n",
              "      <td>1242626431286468600</td>\n",
              "      <td>Metal Mixtress Ⓡ</td>\n",
              "      <td>2296859240</td>\n",
              "      <td>NaN</td>\n",
              "      <td>AT_USER Why are you forcing states to bid agai...</td>\n",
              "      <td>Neutral</td>\n",
              "      <td>19-29</td>\n",
              "      <td>Female</td>\n",
              "      <td>2020-03-25</td>\n",
              "      <td>01:36:42</td>\n",
              "      <td>GreaterEuropean,British</td>\n",
              "      <td>0.0000</td>\n",
              "      <td>Metal_Mlxtress</td>\n",
              "    </tr>\n",
              "    <tr>\n",
              "      <th>2</th>\n",
              "      <td>0</td>\n",
              "      <td>0</td>\n",
              "      <td>1243234186049314800</td>\n",
              "      <td>Hosea Bigirwenkya</td>\n",
              "      <td>319059357</td>\n",
              "      <td>NaN</td>\n",
              "      <td>My sister is doing covid19 intubations all day...</td>\n",
              "      <td>Negative</td>\n",
              "      <td>&gt;40</td>\n",
              "      <td>Male</td>\n",
              "      <td>2020-03-26</td>\n",
              "      <td>17:51:42</td>\n",
              "      <td>GreaterEuropean,EastEuropean</td>\n",
              "      <td>-0.6289</td>\n",
              "      <td>hoseakb</td>\n",
              "    </tr>\n",
              "    <tr>\n",
              "      <th>3</th>\n",
              "      <td>10</td>\n",
              "      <td>10</td>\n",
              "      <td>1243551350425882600</td>\n",
              "      <td>dpfaff</td>\n",
              "      <td>483021402</td>\n",
              "      <td>NaN</td>\n",
              "      <td>BREAKING: Dr. Fauci says “Right now, today, as...</td>\n",
              "      <td>Negative</td>\n",
              "      <td>&gt;40</td>\n",
              "      <td>Male</td>\n",
              "      <td>2020-03-27</td>\n",
              "      <td>14:52:00</td>\n",
              "      <td>GreaterAfrican,Muslim</td>\n",
              "      <td>-0.5867</td>\n",
              "      <td>PfaffSC</td>\n",
              "    </tr>\n",
              "    <tr>\n",
              "      <th>4</th>\n",
              "      <td>9</td>\n",
              "      <td>9</td>\n",
              "      <td>1243556341760876500</td>\n",
              "      <td>jholbrook</td>\n",
              "      <td>10718012</td>\n",
              "      <td>Buffalo, NY</td>\n",
              "      <td>We now know Trump was briefed on th coming Cor...</td>\n",
              "      <td>Negative</td>\n",
              "      <td>&gt;40</td>\n",
              "      <td>Female</td>\n",
              "      <td>2020-03-27</td>\n",
              "      <td>15:11:50</td>\n",
              "      <td>GreaterEuropean,British</td>\n",
              "      <td>-0.7469</td>\n",
              "      <td>jholbrook</td>\n",
              "    </tr>\n",
              "  </tbody>\n",
              "</table>\n",
              "</div>"
            ],
            "text/plain": [
              "   Unnamed: 0  Unnamed: 0.1  ...   score     screen_name\n",
              "0           4             4  ... -0.5537       Organique\n",
              "1          15            15  ...  0.0000  Metal_Mlxtress\n",
              "2           0             0  ... -0.6289         hoseakb\n",
              "3          10            10  ... -0.5867         PfaffSC\n",
              "4           9             9  ... -0.7469       jholbrook\n",
              "\n",
              "[5 rows x 15 columns]"
            ]
          },
          "metadata": {
            "tags": []
          },
          "execution_count": 57
        }
      ]
    },
    {
      "cell_type": "code",
      "metadata": {
        "id": "fhHcfGcDoDcR",
        "colab_type": "code",
        "outputId": "1daa3dc0-cd1a-4488-9a53-a65a8363648d",
        "colab": {
          "base_uri": "https://localhost:8080/",
          "height": 281
        }
      },
      "source": [
        "# initial date is the first one\n",
        "date = df.at[0, 'date']\n",
        "print(date)\n",
        "\n",
        "# init empty list\n",
        "ranges = [0]\n",
        "dates = []\n",
        "\n",
        "# append the first date\n",
        "dates.append(date)\n",
        "\n",
        "# iterate all rows\n",
        "for i, row in df.iterrows():\n",
        "  # if unique\n",
        "  if (df.at[i, 'date'] != date):\n",
        "    # change the date\n",
        "    date = df.at[i, 'date']\n",
        "\n",
        "    # add the date to unique dates\n",
        "    dates.append(date)\n",
        "    \n",
        "    # add the index of the change in rows\n",
        "    ranges.append(i)\n",
        "\n",
        "    print(\"date changes \" + str(date) + \"at index\" + str(i))\n",
        "\n",
        "# append the last range\n",
        "ranges.append(len(df)-1)\n",
        "\n",
        "# print\n",
        "print(ranges)\n",
        "print(dates)\n",
        "\n",
        "# They now match up in length\n",
        "print(str(len(ranges)))\n",
        "print(str(len(dates)))"
      ],
      "execution_count": 0,
      "outputs": [
        {
          "output_type": "stream",
          "text": [
            "2020-03-23 00:00:00\n",
            "date changes 2020-03-25 00:00:00at index1\n",
            "date changes 2020-03-26 00:00:00at index2\n",
            "date changes 2020-03-27 00:00:00at index3\n",
            "date changes 2020-03-28 00:00:00at index6\n",
            "date changes 2020-03-29 00:00:00at index7\n",
            "date changes 2020-03-30 00:00:00at index8\n",
            "date changes 2020-03-31 00:00:00at index9\n",
            "date changes 2020-04-02 00:00:00at index11\n",
            "date changes 2020-04-03 00:00:00at index12\n",
            "date changes 2020-04-04 00:00:00at index14\n",
            "[0, 1, 2, 3, 6, 7, 8, 9, 11, 12, 14, 16]\n",
            "[Timestamp('2020-03-23 00:00:00'), Timestamp('2020-03-25 00:00:00'), Timestamp('2020-03-26 00:00:00'), Timestamp('2020-03-27 00:00:00'), Timestamp('2020-03-28 00:00:00'), Timestamp('2020-03-29 00:00:00'), Timestamp('2020-03-30 00:00:00'), Timestamp('2020-03-31 00:00:00'), Timestamp('2020-04-02 00:00:00'), Timestamp('2020-04-03 00:00:00'), Timestamp('2020-04-04 00:00:00')]\n",
            "12\n",
            "11\n"
          ],
          "name": "stdout"
        }
      ]
    },
    {
      "cell_type": "code",
      "metadata": {
        "id": "1QRmFJxQsqhi",
        "colab_type": "code",
        "outputId": "681bbf4e-1134-4401-cf7e-97127f7111d2",
        "colab": {
          "base_uri": "https://localhost:8080/",
          "height": 846
        }
      },
      "source": [
        "# Tally up the sentiment\n",
        "sentiments = []\n",
        "\n",
        "# Ranges\n",
        "# 1, 2, 3\n",
        "# \n",
        "for i in range(0, len(ranges)-1):\n",
        "  start = ranges[i]\n",
        "  end = ranges[i + 1]\n",
        "  print(\"sentiment from \" + str(start) + \" to \" + str(end))\n",
        "  sum_sentiments = 0\n",
        "  for k in range(start, end):\n",
        "    sum_sentiments += df.at[k, 'score']\n",
        "    print(\"running sum of sentiments is: \" + str(sum_sentiments))\n",
        "  \n",
        "  avg_sentiment = sum_sentiments / (abs(start-end))\n",
        "  print(\"average sentiment is \" + str(avg_sentiment) + \" for \" + str(start) + \" to \" + str(end))\n",
        "  sentiments.append(avg_sentiment)\n",
        "  print(\"---------------------------------------\")\n",
        "print(sentiments)\n",
        "\n",
        "print(str(len(sentiments)))\n"
      ],
      "execution_count": 0,
      "outputs": [
        {
          "output_type": "stream",
          "text": [
            "sentiment from 0 to 1\n",
            "running sum of sentiments is: -0.5537\n",
            "average sentiment is -0.5537 for 0 to 1\n",
            "---------------------------------------\n",
            "sentiment from 1 to 2\n",
            "running sum of sentiments is: 0.0\n",
            "average sentiment is 0.0 for 1 to 2\n",
            "---------------------------------------\n",
            "sentiment from 2 to 3\n",
            "running sum of sentiments is: -0.6289\n",
            "average sentiment is -0.6289 for 2 to 3\n",
            "---------------------------------------\n",
            "sentiment from 3 to 6\n",
            "running sum of sentiments is: -0.5867\n",
            "running sum of sentiments is: -1.3336000000000001\n",
            "running sum of sentiments is: -1.0836000000000001\n",
            "average sentiment is -0.3612 for 3 to 6\n",
            "---------------------------------------\n",
            "sentiment from 6 to 7\n",
            "running sum of sentiments is: -0.7695\n",
            "average sentiment is -0.7695 for 6 to 7\n",
            "---------------------------------------\n",
            "sentiment from 7 to 8\n",
            "running sum of sentiments is: 0.4939\n",
            "average sentiment is 0.4939 for 7 to 8\n",
            "---------------------------------------\n",
            "sentiment from 8 to 9\n",
            "running sum of sentiments is: -0.8773\n",
            "average sentiment is -0.8773 for 8 to 9\n",
            "---------------------------------------\n",
            "sentiment from 9 to 11\n",
            "running sum of sentiments is: -0.5574\n",
            "running sum of sentiments is: -0.4043\n",
            "average sentiment is -0.20215 for 9 to 11\n",
            "---------------------------------------\n",
            "sentiment from 11 to 12\n",
            "running sum of sentiments is: 0.5994\n",
            "average sentiment is 0.5994 for 11 to 12\n",
            "---------------------------------------\n",
            "sentiment from 12 to 14\n",
            "running sum of sentiments is: 0.0\n",
            "running sum of sentiments is: 0.2023\n",
            "average sentiment is 0.10115 for 12 to 14\n",
            "---------------------------------------\n",
            "sentiment from 14 to 16\n",
            "running sum of sentiments is: -0.4588\n",
            "running sum of sentiments is: 0.25\n",
            "average sentiment is 0.125 for 14 to 16\n",
            "---------------------------------------\n",
            "[-0.5537, 0.0, -0.6289, -0.3612, -0.7695, 0.4939, -0.8773, -0.20215, 0.5994, 0.10115, 0.125]\n",
            "11\n"
          ],
          "name": "stdout"
        }
      ]
    },
    {
      "cell_type": "code",
      "metadata": {
        "id": "51kLuClczEpg",
        "colab_type": "code",
        "outputId": "ce26729e-efac-459f-b114-9ae09611b964",
        "colab": {
          "base_uri": "https://localhost:8080/",
          "height": 278
        }
      },
      "source": [
        "df1 = pd.DataFrame(dates, columns = [\"Unique Dates\"])\n",
        "df2 = pd.DataFrame(sentiments, columns = [\"Average Sentiment\"])\n",
        "\n",
        "df3 = pd.concat([df1, df2], axis = 1)\n",
        "df3.head()\n",
        "\n",
        "# seaborn plot\n",
        "plot = sns.lineplot(x = \"Unique Dates\", y = \"Average Sentiment\", data = df3)\n"
      ],
      "execution_count": 0,
      "outputs": [
        {
          "output_type": "display_data",
          "data": {
            "image/png": "[encoded data removed]",
            "text/plain": [
              "<Figure size 432x288 with 1 Axes>"
            ]
          },
          "metadata": {
            "tags": [],
            "needs_background": "light"
          }
        }
      ]
    },
    {
      "cell_type": "code",
      "metadata": {
        "id": "Gxt-Kyye6wRy",
        "colab_type": "code",
        "outputId": "0a57cb19-0db1-4a56-c4d8-3d87674554d7",
        "colab": {
          "base_uri": "https://localhost:8080/",
          "height": 385
        }
      },
      "source": [
        "# To do: order\n",
        "df4 = pd.concat([df[\"age\"], df[\"score\"]], axis = 1)\n",
        "df4.head()\n",
        "sns.catplot(x = \"age\", y = \"score\", data = df4)\n",
        "\n",
        "# Age v sentiment\n",
        "# Group all sentiments by age\n",
        "# Add them up\n"
      ],
      "execution_count": 0,
      "outputs": [
        {
          "output_type": "execute_result",
          "data": {
            "text/plain": [
              "<seaborn.axisgrid.FacetGrid at 0x7f1c30b596a0>"
            ]
          },
          "metadata": {
            "tags": []
          },
          "execution_count": 120
        },
        {
          "output_type": "display_data",
          "data": {
            "image/png": "[encoded data removed]",
            "text/plain": [
              "<Figure size 360x360 with 1 Axes>"
            ]
          },
          "metadata": {
            "tags": [],
            "needs_background": "light"
          }
        }
      ]
    },
    {
      "cell_type": "code",
      "metadata": {
        "id": "c72SlaWQ8R5I",
        "colab_type": "code",
        "outputId": "b7b0e1b2-9a2d-445a-d26a-205c7d2be956",
        "colab": {
          "base_uri": "https://localhost:8080/",
          "height": 385
        }
      },
      "source": [
        "df5 = pd.concat([df[\"race\"], df[\"score\"]], axis = 1)\n",
        "df5.head()\n",
        "sns.catplot(x = \"race\", y = \"score\", data = df5)"
      ],
      "execution_count": 0,
      "outputs": [
        {
          "output_type": "execute_result",
          "data": {
            "text/plain": [
              "<seaborn.axisgrid.FacetGrid at 0x7f1c31bf7a20>"
            ]
          },
          "metadata": {
            "tags": []
          },
          "execution_count": 127
        },
        {
          "output_type": "display_data",
          "data": {
            "image/png": "[encoded data removed]",
            "text/plain": [
              "<Figure size 360x360 with 1 Axes>"
            ]
          },
          "metadata": {
            "tags": [],
            "needs_background": "light"
          }
        }
      ]
    },
    {
      "cell_type": "code",
      "metadata": {
        "id": "L5b15QCb8dcE",
        "colab_type": "code",
        "colab": {}
      },
      "source": [
        ""
      ],
      "execution_count": 0,
      "outputs": []
    }
  ]
}