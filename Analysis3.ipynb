{
  "nbformat": 4,
  "nbformat_minor": 0,
  "metadata": {
    "colab": {
      "name": "Analysis3.ipynb",
      "provenance": [],
      "collapsed_sections": [],
      "machine_shape": "hm"
    },
    "kernelspec": {
      "name": "python3",
      "display_name": "Python 3"
    }
  },
  "cells": [
    {
      "cell_type": "code",
      "metadata": {
        "id": "dPnsenhGb3qt",
        "colab_type": "code",
        "colab": {}
      },
      "source": [
        "import pandas as pd\n",
        "import numpy as np\n",
        "import re\n",
        "import matplotlib.pyplot as plt"
      ],
      "execution_count": 0,
      "outputs": []
    },
    {
      "cell_type": "code",
      "metadata": {
        "id": "iOTCkyrU9SmS",
        "colab_type": "code",
        "outputId": "063c90fb-c101-4edc-9446-7179bafb6f45",
        "colab": {
          "base_uri": "https://localhost:8080/",
          "height": 245
        }
      },
      "source": [
        "!pip install uszipcode"
      ],
      "execution_count": 0,
      "outputs": [
        {
          "output_type": "stream",
          "text": [
            "Requirement already satisfied: uszipcode in /usr/local/lib/python3.6/dist-packages (0.2.4)\n",
            "Requirement already satisfied: requests in /usr/local/lib/python3.6/dist-packages (from uszipcode) (2.23.0)\n",
            "Requirement already satisfied: attrs in /usr/local/lib/python3.6/dist-packages (from uszipcode) (19.3.0)\n",
            "Requirement already satisfied: pathlib-mate in /usr/local/lib/python3.6/dist-packages (from uszipcode) (1.0.0)\n",
            "Requirement already satisfied: sqlalchemy in /usr/local/lib/python3.6/dist-packages (from uszipcode) (1.3.16)\n",
            "Requirement already satisfied: urllib3!=1.25.0,!=1.25.1,<1.26,>=1.21.1 in /usr/local/lib/python3.6/dist-packages (from requests->uszipcode) (1.24.3)\n",
            "Requirement already satisfied: chardet<4,>=3.0.2 in /usr/local/lib/python3.6/dist-packages (from requests->uszipcode) (3.0.4)\n",
            "Requirement already satisfied: certifi>=2017.4.17 in /usr/local/lib/python3.6/dist-packages (from requests->uszipcode) (2020.4.5.1)\n",
            "Requirement already satisfied: idna<3,>=2.5 in /usr/local/lib/python3.6/dist-packages (from requests->uszipcode) (2.9)\n",
            "Requirement already satisfied: six in /usr/local/lib/python3.6/dist-packages (from pathlib-mate->uszipcode) (1.12.0)\n",
            "Requirement already satisfied: autopep8 in /usr/local/lib/python3.6/dist-packages (from pathlib-mate->uszipcode) (1.5.2)\n",
            "Requirement already satisfied: pycodestyle>=2.5.0 in /usr/local/lib/python3.6/dist-packages (from autopep8->pathlib-mate->uszipcode) (2.5.0)\n"
          ],
          "name": "stdout"
        }
      ]
    },
    {
      "cell_type": "code",
      "metadata": {
        "id": "TjgpZsqOX85K",
        "colab_type": "code",
        "outputId": "11c7eba2-8c84-4855-a094-0bd68ba603d6",
        "colab": {
          "base_uri": "https://localhost:8080/",
          "height": 54
        }
      },
      "source": [
        "from google.colab import drive\n",
        "drive.mount('/content/drive')"
      ],
      "execution_count": 0,
      "outputs": [
        {
          "output_type": "stream",
          "text": [
            "Drive already mounted at /content/drive; to attempt to forcibly remount, call drive.mount(\"/content/drive\", force_remount=True).\n"
          ],
          "name": "stdout"
        }
      ]
    },
    {
      "cell_type": "code",
      "metadata": {
        "id": "mBqpKifwcWVB",
        "colab_type": "code",
        "outputId": "270d9bf0-e062-4dd5-cb13-8336558bead3",
        "colab": {
          "base_uri": "https://localhost:8080/",
          "height": 89
        }
      },
      "source": [
        "# df1 = pd.read_csv('WeekendData.csv')\n",
        "df = pd.read_csv('/content/drive/My Drive/CSC 240 Final Project/DataSet/CorrectFinalMaskOff.csv')\n",
        "\n",
        "df.shape"
      ],
      "execution_count": 0,
      "outputs": [
        {
          "output_type": "stream",
          "text": [
            "/usr/local/lib/python3.6/dist-packages/IPython/core/interactiveshell.py:2718: DtypeWarning: Columns (2,3,5) have mixed types.Specify dtype option on import or set low_memory=False.\n",
            "  interactivity=interactivity, compiler=compiler, result=result)\n"
          ],
          "name": "stderr"
        },
        {
          "output_type": "execute_result",
          "data": {
            "text/plain": [
              "(243994, 17)"
            ]
          },
          "metadata": {
            "tags": []
          },
          "execution_count": 79
        }
      ]
    },
    {
      "cell_type": "code",
      "metadata": {
        "id": "huCsi12cuNcf",
        "colab_type": "code",
        "outputId": "fb305215-707f-49f0-e319-936b58f47761",
        "colab": {
          "base_uri": "https://localhost:8080/",
          "height": 34
        }
      },
      "source": [
        "# Drop NaN values\n",
        "df2 = df.dropna(subset=['location'])\n",
        "df2.shape"
      ],
      "execution_count": 0,
      "outputs": [
        {
          "output_type": "execute_result",
          "data": {
            "text/plain": [
              "(164052, 17)"
            ]
          },
          "metadata": {
            "tags": []
          },
          "execution_count": 80
        }
      ]
    },
    {
      "cell_type": "code",
      "metadata": {
        "id": "K8oRGvyOtPrO",
        "colab_type": "code",
        "outputId": "f9dd1dc6-990c-4376-87c6-e3d065666357",
        "colab": {
          "base_uri": "https://localhost:8080/",
          "height": 34
        }
      },
      "source": [
        "# only consider entries w/ commas\n",
        "df2 = df2[df2['location'].str.contains(',')]\n",
        "df2.shape"
      ],
      "execution_count": 0,
      "outputs": [
        {
          "output_type": "execute_result",
          "data": {
            "text/plain": [
              "(81912, 17)"
            ]
          },
          "metadata": {
            "tags": []
          },
          "execution_count": 81
        }
      ]
    },
    {
      "cell_type": "code",
      "metadata": {
        "id": "dfj6izrH9kDU",
        "colab_type": "code",
        "colab": {}
      },
      "source": [
        "df2['zipcode'] = ''\n",
        "df2['state'] = ''\n",
        "df2['median_household_income'] = ''\n",
        "df2['pop_density'] = ''\n",
        "df2['county'] = ''\n",
        "df2['rural_suburban_urban'] = ''"
      ],
      "execution_count": 0,
      "outputs": []
    },
    {
      "cell_type": "code",
      "metadata": {
        "id": "6JlUzlZVCiFO",
        "colab_type": "code",
        "outputId": "93eb9b7d-c4f3-4018-abc3-a78033e1af7a",
        "colab": {
          "base_uri": "https://localhost:8080/",
          "height": 625
        }
      },
      "source": [
        "df2.head()"
      ],
      "execution_count": 0,
      "outputs": [
        {
          "output_type": "execute_result",
          "data": {
            "text/html": [
              "<div>\n",
              "<style scoped>\n",
              "    .dataframe tbody tr th:only-of-type {\n",
              "        vertical-align: middle;\n",
              "    }\n",
              "\n",
              "    .dataframe tbody tr th {\n",
              "        vertical-align: top;\n",
              "    }\n",
              "\n",
              "    .dataframe thead th {\n",
              "        text-align: right;\n",
              "    }\n",
              "</style>\n",
              "<table border=\"1\" class=\"dataframe\">\n",
              "  <thead>\n",
              "    <tr style=\"text-align: right;\">\n",
              "      <th></th>\n",
              "      <th>Unnamed: 0</th>\n",
              "      <th>Unnamed: 0.1</th>\n",
              "      <th>Unnamed: 0.1.1</th>\n",
              "      <th>Tweet_id</th>\n",
              "      <th>name</th>\n",
              "      <th>id</th>\n",
              "      <th>location</th>\n",
              "      <th>text</th>\n",
              "      <th>sentiment</th>\n",
              "      <th>age</th>\n",
              "      <th>gender</th>\n",
              "      <th>date</th>\n",
              "      <th>time</th>\n",
              "      <th>race</th>\n",
              "      <th>score</th>\n",
              "      <th>screen_name</th>\n",
              "      <th>Unnamed: 0.1.1.1</th>\n",
              "      <th>zipcode</th>\n",
              "      <th>state</th>\n",
              "      <th>median_household_income</th>\n",
              "      <th>pop_density</th>\n",
              "      <th>county</th>\n",
              "      <th>rural_suburban_urban</th>\n",
              "    </tr>\n",
              "  </thead>\n",
              "  <tbody>\n",
              "    <tr>\n",
              "      <th>3</th>\n",
              "      <td>3</td>\n",
              "      <td>3</td>\n",
              "      <td>3</td>\n",
              "      <td>1245941329651269600</td>\n",
              "      <td>killmonger'son</td>\n",
              "      <td>839285340955426821</td>\n",
              "      <td>Tembisa, South Africa</td>\n",
              "      <td>This is horrific. Two French doctors on live t...</td>\n",
              "      <td>Negative</td>\n",
              "      <td>&gt;40</td>\n",
              "      <td>Male</td>\n",
              "      <td>Apr03</td>\n",
              "      <td>05:08:56</td>\n",
              "      <td>GreaterEuropean,British</td>\n",
              "      <td>-0.5892</td>\n",
              "      <td>sizwe11121</td>\n",
              "      <td>NaN</td>\n",
              "      <td></td>\n",
              "      <td></td>\n",
              "      <td></td>\n",
              "      <td></td>\n",
              "      <td></td>\n",
              "      <td></td>\n",
              "    </tr>\n",
              "    <tr>\n",
              "      <th>7</th>\n",
              "      <td>7</td>\n",
              "      <td>7</td>\n",
              "      <td>7</td>\n",
              "      <td>1246158643612938200</td>\n",
              "      <td>HR_dancer</td>\n",
              "      <td>4429732393</td>\n",
              "      <td>NY, USA</td>\n",
              "      <td>Taiwan to donate 10 million masks to countries...</td>\n",
              "      <td>Neutral</td>\n",
              "      <td>19-29</td>\n",
              "      <td>Male</td>\n",
              "      <td>Apr03</td>\n",
              "      <td>19:32:27</td>\n",
              "      <td>GreaterEuropean,EastEuropean</td>\n",
              "      <td>0.0000</td>\n",
              "      <td>JFisk20</td>\n",
              "      <td>NaN</td>\n",
              "      <td></td>\n",
              "      <td></td>\n",
              "      <td></td>\n",
              "      <td></td>\n",
              "      <td></td>\n",
              "      <td></td>\n",
              "    </tr>\n",
              "    <tr>\n",
              "      <th>11</th>\n",
              "      <td>11</td>\n",
              "      <td>11</td>\n",
              "      <td>11</td>\n",
              "      <td>1246058055013466000</td>\n",
              "      <td>McNaughton &amp; Gunn</td>\n",
              "      <td>262711743</td>\n",
              "      <td>Saline, MI</td>\n",
              "      <td>Half the World Is Under Stay-Home Order; White...</td>\n",
              "      <td>Neutral</td>\n",
              "      <td>&gt;40</td>\n",
              "      <td>Female</td>\n",
              "      <td>Apr03</td>\n",
              "      <td>12:52:45</td>\n",
              "      <td>GreaterEuropean,British</td>\n",
              "      <td>0.0000</td>\n",
              "      <td>mcnaughtongunn</td>\n",
              "      <td>NaN</td>\n",
              "      <td></td>\n",
              "      <td></td>\n",
              "      <td></td>\n",
              "      <td></td>\n",
              "      <td></td>\n",
              "      <td></td>\n",
              "    </tr>\n",
              "    <tr>\n",
              "      <th>12</th>\n",
              "      <td>12</td>\n",
              "      <td>12</td>\n",
              "      <td>12</td>\n",
              "      <td>1246084995615035400</td>\n",
              "      <td>seahawkfan</td>\n",
              "      <td>27535658</td>\n",
              "      <td>Washington, USA</td>\n",
              "      <td>So a healthcare worker union in California jus...</td>\n",
              "      <td>Negative</td>\n",
              "      <td>&gt;40</td>\n",
              "      <td>Male</td>\n",
              "      <td>Apr03</td>\n",
              "      <td>14:39:48</td>\n",
              "      <td>GreaterEuropean,British</td>\n",
              "      <td>-0.4019</td>\n",
              "      <td>chawkfan2</td>\n",
              "      <td>NaN</td>\n",
              "      <td></td>\n",
              "      <td></td>\n",
              "      <td></td>\n",
              "      <td></td>\n",
              "      <td></td>\n",
              "      <td></td>\n",
              "    </tr>\n",
              "    <tr>\n",
              "      <th>13</th>\n",
              "      <td>13</td>\n",
              "      <td>13</td>\n",
              "      <td>13</td>\n",
              "      <td>1246122916523188200</td>\n",
              "      <td>🇺🇲️    Virginia Shaubel</td>\n",
              "      <td>4033177277</td>\n",
              "      <td>W.Va  and  Port Colborne, Ontario</td>\n",
              "      <td>Coronavirus: China Floods Europe With Defectiv...</td>\n",
              "      <td>Positive</td>\n",
              "      <td>&gt;40</td>\n",
              "      <td>Female</td>\n",
              "      <td>Apr03</td>\n",
              "      <td>17:10:29</td>\n",
              "      <td>GreaterEuropean,Jewish</td>\n",
              "      <td>0.3178</td>\n",
              "      <td>VirginiaShaubel</td>\n",
              "      <td>NaN</td>\n",
              "      <td></td>\n",
              "      <td></td>\n",
              "      <td></td>\n",
              "      <td></td>\n",
              "      <td></td>\n",
              "      <td></td>\n",
              "    </tr>\n",
              "  </tbody>\n",
              "</table>\n",
              "</div>"
            ],
            "text/plain": [
              "    Unnamed: 0  Unnamed: 0.1  ... county rural_suburban_urban\n",
              "3            3             3  ...                            \n",
              "7            7             7  ...                            \n",
              "11          11            11  ...                            \n",
              "12          12            12  ...                            \n",
              "13          13            13  ...                            \n",
              "\n",
              "[5 rows x 23 columns]"
            ]
          },
          "metadata": {
            "tags": []
          },
          "execution_count": 83
        }
      ]
    },
    {
      "cell_type": "code",
      "metadata": {
        "id": "dAXImRPXCjZv",
        "colab_type": "code",
        "outputId": "ed003002-118a-48e3-adc1-3f33440c66e8",
        "colab": {
          "base_uri": "https://localhost:8080/",
          "height": 434
        }
      },
      "source": [
        "df2.dtypes"
      ],
      "execution_count": 0,
      "outputs": [
        {
          "output_type": "execute_result",
          "data": {
            "text/plain": [
              "Unnamed: 0                   int64\n",
              "Unnamed: 0.1                 int64\n",
              "Unnamed: 0.1.1              object\n",
              "Tweet_id                    object\n",
              "name                        object\n",
              "id                          object\n",
              "location                    object\n",
              "text                        object\n",
              "sentiment                   object\n",
              "age                         object\n",
              "gender                      object\n",
              "date                        object\n",
              "time                        object\n",
              "race                        object\n",
              "score                      float64\n",
              "screen_name                 object\n",
              "Unnamed: 0.1.1.1           float64\n",
              "zipcode                     object\n",
              "state                       object\n",
              "median_household_income     object\n",
              "pop_density                 object\n",
              "county                      object\n",
              "rural_suburban_urban        object\n",
              "dtype: object"
            ]
          },
          "metadata": {
            "tags": []
          },
          "execution_count": 13
        }
      ]
    },
    {
      "cell_type": "code",
      "metadata": {
        "id": "LfhbvfEaurLo",
        "colab_type": "code",
        "colab": {}
      },
      "source": [
        "from uszipcode import SearchEngine\n",
        "search = SearchEngine(simple_zipcode=False)"
      ],
      "execution_count": 0,
      "outputs": []
    },
    {
      "cell_type": "code",
      "metadata": {
        "id": "vd0G_OHwVG2t",
        "colab_type": "code",
        "colab": {}
      },
      "source": [
        "df2.reset_index(inplace=True)"
      ],
      "execution_count": 0,
      "outputs": []
    },
    {
      "cell_type": "code",
      "metadata": {
        "id": "qAv0EYusyB90",
        "colab_type": "code",
        "outputId": "2dff41f2-7e9f-4fa8-9f87-51c28b176a6c",
        "colab": {
          "base_uri": "https://localhost:8080/",
          "height": 1000
        }
      },
      "source": [
        "for i, row in df2.iterrows():\n",
        "  sep = str(df.at[i, 'location']).split(',')\n",
        "  \n",
        "  # If remaining is one word, we assume it's a state\n",
        "  if len(sep) == 2:\n",
        "    try:\n",
        "      result = search.by_state(sep[0], returns=1)\n",
        "    except Exception as e:\n",
        "      print(e)\n",
        "    # if results are not empty:\n",
        "    if result:\n",
        "      try:\n",
        "        df2.at[i, 'zipcode'] = result[0].zipcode\n",
        "        df2.at[i,'state'] = result[0].state\n",
        "        df2.at[i, 'median_household_income'] = result[0].median_household_income \n",
        "        df2.at[i, 'pop_density'] = result[0].population_density\n",
        "        df2.at[i, 'county'] = result[0].county\n",
        "      except Exception as e:\n",
        "        print(e)\n",
        "  # If remaining is two words, we assume it's of the form city, state\n",
        "  if len(sep) == 3:\n",
        "    try:\n",
        "      result = search.by_city_and_state(sep[0], sep[1], returns=1)\n",
        "    except Exception as e:\n",
        "      print(e)\n",
        "    if result:\n",
        "      try:\n",
        "        df2.at[i, 'zipcode'] = result[0].zipcode\n",
        "        df2.at[i, 'state'] = result[0].state\n",
        "        df2.at[i, 'median_household_income'] = result[0].median_household_income \n",
        "        df2.at[i, 'pop_density'] = result[0].population_density\n",
        "        df2.at[i, 'county'] = result[0].county\n",
        "      except Exception as e:\n",
        "        print(e)\n",
        "  if (i % 1000 == 0):\n",
        "    print(i)"
      ],
      "execution_count": 0,
      "outputs": [
        {
          "output_type": "stream",
          "text": [
            "0\n",
            "1000\n",
            "2000\n",
            "3000\n",
            "4000\n",
            "5000\n",
            "6000\n"
          ],
          "name": "stdout"
        },
        {
          "output_type": "stream",
          "text": [
            "WARNING:root:Applied processor reduces input query to empty string, all comparisons will have score 0. [Query: '🇹🇴']\n"
          ],
          "name": "stderr"
        },
        {
          "output_type": "stream",
          "text": [
            "7000\n",
            "8000\n",
            "9000\n"
          ],
          "name": "stdout"
        },
        {
          "output_type": "stream",
          "text": [
            "WARNING:root:Applied processor reduces input query to empty string, all comparisons will have score 0. [Query: '']\n"
          ],
          "name": "stderr"
        },
        {
          "output_type": "stream",
          "text": [
            "10000\n",
            "11000\n"
          ],
          "name": "stdout"
        },
        {
          "output_type": "stream",
          "text": [
            "WARNING:root:Applied processor reduces input query to empty string, all comparisons will have score 0. [Query: '']\n"
          ],
          "name": "stderr"
        },
        {
          "output_type": "stream",
          "text": [
            "12000\n",
            "13000\n",
            "14000\n",
            "15000\n",
            "16000\n",
            "17000\n",
            "18000\n",
            "19000\n",
            "20000\n"
          ],
          "name": "stdout"
        },
        {
          "output_type": "stream",
          "text": [
            "WARNING:root:Applied processor reduces input query to empty string, all comparisons will have score 0. [Query: '']\n"
          ],
          "name": "stderr"
        },
        {
          "output_type": "stream",
          "text": [
            "21000\n",
            "22000\n",
            "23000\n",
            "24000\n",
            "25000\n",
            "26000\n",
            "27000\n",
            "28000\n",
            "29000\n",
            "30000\n",
            "31000\n",
            "32000\n",
            "33000\n",
            "34000\n",
            "35000\n",
            "36000\n",
            "37000\n",
            "38000\n",
            "39000\n",
            "40000\n",
            "41000\n",
            "42000\n",
            "43000\n",
            "44000\n",
            "45000\n",
            "46000\n",
            "47000\n",
            "48000\n",
            "49000\n",
            "50000\n",
            "51000\n",
            "52000\n",
            "53000\n",
            "54000\n",
            "55000\n"
          ],
          "name": "stdout"
        },
        {
          "output_type": "stream",
          "text": [
            "WARNING:root:Applied processor reduces input query to empty string, all comparisons will have score 0. [Query: '']\n"
          ],
          "name": "stderr"
        },
        {
          "output_type": "stream",
          "text": [
            "56000\n"
          ],
          "name": "stdout"
        },
        {
          "output_type": "stream",
          "text": [
            "WARNING:root:Applied processor reduces input query to empty string, all comparisons will have score 0. [Query: ' 🇺🇸👍']\n"
          ],
          "name": "stderr"
        },
        {
          "output_type": "stream",
          "text": [
            "57000\n",
            "58000\n",
            "59000\n",
            "60000\n",
            "61000\n",
            "62000\n",
            "63000\n",
            "64000\n"
          ],
          "name": "stdout"
        },
        {
          "output_type": "stream",
          "text": [
            "WARNING:root:Applied processor reduces input query to empty string, all comparisons will have score 0. [Query: '']\n"
          ],
          "name": "stderr"
        },
        {
          "output_type": "stream",
          "text": [
            "65000\n",
            "66000\n",
            "67000\n"
          ],
          "name": "stdout"
        },
        {
          "output_type": "stream",
          "text": [
            "WARNING:root:Applied processor reduces input query to empty string, all comparisons will have score 0. [Query: '']\n"
          ],
          "name": "stderr"
        },
        {
          "output_type": "stream",
          "text": [
            "68000\n",
            "69000\n",
            "70000\n",
            "71000\n",
            "72000\n",
            "73000\n",
            "74000\n",
            "75000\n",
            "76000\n"
          ],
          "name": "stdout"
        },
        {
          "output_type": "stream",
          "text": [
            "WARNING:root:Applied processor reduces input query to empty string, all comparisons will have score 0. [Query: '']\n"
          ],
          "name": "stderr"
        },
        {
          "output_type": "stream",
          "text": [
            "77000\n",
            "78000\n",
            "79000\n"
          ],
          "name": "stdout"
        },
        {
          "output_type": "stream",
          "text": [
            "WARNING:root:Applied processor reduces input query to empty string, all comparisons will have score 0. [Query: '']\n",
            "WARNING:root:Applied processor reduces input query to empty string, all comparisons will have score 0. [Query: '']\n"
          ],
          "name": "stderr"
        },
        {
          "output_type": "stream",
          "text": [
            "80000\n",
            "81000\n"
          ],
          "name": "stdout"
        }
      ]
    },
    {
      "cell_type": "code",
      "metadata": {
        "id": "NA2EaD-gKttu",
        "colab_type": "code",
        "outputId": "11059c77-abd1-42c7-fe32-f57266c04770",
        "colab": {
          "base_uri": "https://localhost:8080/",
          "height": 643
        }
      },
      "source": [
        "df2.tail()"
      ],
      "execution_count": 0,
      "outputs": [
        {
          "output_type": "execute_result",
          "data": {
            "text/html": [
              "<div>\n",
              "<style scoped>\n",
              "    .dataframe tbody tr th:only-of-type {\n",
              "        vertical-align: middle;\n",
              "    }\n",
              "\n",
              "    .dataframe tbody tr th {\n",
              "        vertical-align: top;\n",
              "    }\n",
              "\n",
              "    .dataframe thead th {\n",
              "        text-align: right;\n",
              "    }\n",
              "</style>\n",
              "<table border=\"1\" class=\"dataframe\">\n",
              "  <thead>\n",
              "    <tr style=\"text-align: right;\">\n",
              "      <th></th>\n",
              "      <th>index</th>\n",
              "      <th>Unnamed: 0</th>\n",
              "      <th>Unnamed: 0.1</th>\n",
              "      <th>Unnamed: 0.1.1</th>\n",
              "      <th>Tweet_id</th>\n",
              "      <th>name</th>\n",
              "      <th>id</th>\n",
              "      <th>location</th>\n",
              "      <th>text</th>\n",
              "      <th>sentiment</th>\n",
              "      <th>age</th>\n",
              "      <th>gender</th>\n",
              "      <th>date</th>\n",
              "      <th>time</th>\n",
              "      <th>race</th>\n",
              "      <th>score</th>\n",
              "      <th>screen_name</th>\n",
              "      <th>Unnamed: 0.1.1.1</th>\n",
              "      <th>zipcode</th>\n",
              "      <th>state</th>\n",
              "      <th>median_household_income</th>\n",
              "      <th>pop_density</th>\n",
              "      <th>county</th>\n",
              "      <th>rural_suburban_urban</th>\n",
              "    </tr>\n",
              "  </thead>\n",
              "  <tbody>\n",
              "    <tr>\n",
              "      <th>81907</th>\n",
              "      <td>243981</td>\n",
              "      <td>228232</td>\n",
              "      <td>40157</td>\n",
              "      <td>40157</td>\n",
              "      <td>1248388285094748200</td>\n",
              "      <td>Jo Detavernier is wearing a mask in public 😷</td>\n",
              "      <td>292324824</td>\n",
              "      <td>Austin, TX</td>\n",
              "      <td>We need a robust national coronavirus testing ...</td>\n",
              "      <td>Positive</td>\n",
              "      <td>&gt;40</td>\n",
              "      <td>Male</td>\n",
              "      <td>Apr09</td>\n",
              "      <td>23:12:15</td>\n",
              "      <td>GreaterEuropean,British</td>\n",
              "      <td>0.8176</td>\n",
              "      <td>JoDetavernier</td>\n",
              "      <td>40157.0</td>\n",
              "      <td></td>\n",
              "      <td></td>\n",
              "      <td></td>\n",
              "      <td></td>\n",
              "      <td></td>\n",
              "      <td></td>\n",
              "    </tr>\n",
              "    <tr>\n",
              "      <th>81908</th>\n",
              "      <td>243982</td>\n",
              "      <td>228233</td>\n",
              "      <td>40158</td>\n",
              "      <td>40158</td>\n",
              "      <td>1248418467578962000</td>\n",
              "      <td>Down w/ the NotSees</td>\n",
              "      <td>4420323075</td>\n",
              "      <td>NC, US</td>\n",
              "      <td>A reminder that Trump got completely rolled by...</td>\n",
              "      <td>Negative</td>\n",
              "      <td>&gt;40</td>\n",
              "      <td>Male</td>\n",
              "      <td>Apr10</td>\n",
              "      <td>01:12:11</td>\n",
              "      <td>GreaterEuropean,British</td>\n",
              "      <td>-0.2732</td>\n",
              "      <td>Mr___Sub</td>\n",
              "      <td>40158.0</td>\n",
              "      <td></td>\n",
              "      <td></td>\n",
              "      <td></td>\n",
              "      <td></td>\n",
              "      <td></td>\n",
              "      <td></td>\n",
              "    </tr>\n",
              "    <tr>\n",
              "      <th>81909</th>\n",
              "      <td>243986</td>\n",
              "      <td>228237</td>\n",
              "      <td>40162</td>\n",
              "      <td>40162</td>\n",
              "      <td>1248418824690397200</td>\n",
              "      <td>🐾MORG🐾</td>\n",
              "      <td>899225427893301248</td>\n",
              "      <td>Mistakes were made, people die</td>\n",
              "      <td>Mexicans are Making Face Masks Featuring Lucha...</td>\n",
              "      <td>Neutral</td>\n",
              "      <td>&lt;=18</td>\n",
              "      <td>Male</td>\n",
              "      <td>Apr10</td>\n",
              "      <td>01:13:36</td>\n",
              "      <td>Asian,GreaterEastAsian,EastAsian</td>\n",
              "      <td>0.0000</td>\n",
              "      <td>dashblade29</td>\n",
              "      <td>40162.0</td>\n",
              "      <td></td>\n",
              "      <td></td>\n",
              "      <td></td>\n",
              "      <td></td>\n",
              "      <td></td>\n",
              "      <td></td>\n",
              "    </tr>\n",
              "    <tr>\n",
              "      <th>81910</th>\n",
              "      <td>243991</td>\n",
              "      <td>228242</td>\n",
              "      <td>40167</td>\n",
              "      <td>40167</td>\n",
              "      <td>1248283084749000700</td>\n",
              "      <td>Michael Means #ORPUW</td>\n",
              "      <td>1436790152</td>\n",
              "      <td>Ames, IA</td>\n",
              "      <td>Whiskey company CEO battles price-gouging on N...</td>\n",
              "      <td>Negative</td>\n",
              "      <td>&gt;40</td>\n",
              "      <td>Male</td>\n",
              "      <td>Apr09</td>\n",
              "      <td>16:14:14</td>\n",
              "      <td>GreaterEuropean,Jewish</td>\n",
              "      <td>-0.3818</td>\n",
              "      <td>michaelmeans49</td>\n",
              "      <td>40167.0</td>\n",
              "      <td>02804</td>\n",
              "      <td>RI</td>\n",
              "      <td>71772</td>\n",
              "      <td>258</td>\n",
              "      <td>Washington County</td>\n",
              "      <td></td>\n",
              "    </tr>\n",
              "    <tr>\n",
              "      <th>81911</th>\n",
              "      <td>243993</td>\n",
              "      <td>228244</td>\n",
              "      <td>40169</td>\n",
              "      <td>40169</td>\n",
              "      <td>1248156457092042800</td>\n",
              "      <td>Kaspar</td>\n",
              "      <td>47080758</td>\n",
              "      <td>Amsterdam, The Netherlands</td>\n",
              "      <td>AT_USER AT_USER AT_USER AT_USER AT_USER From T...</td>\n",
              "      <td>Positive</td>\n",
              "      <td>19-29</td>\n",
              "      <td>Male</td>\n",
              "      <td>Apr09</td>\n",
              "      <td>07:51:03</td>\n",
              "      <td>Asian,IndianSubContinent</td>\n",
              "      <td>0.2960</td>\n",
              "      <td>Kaspar_NL</td>\n",
              "      <td>40169.0</td>\n",
              "      <td></td>\n",
              "      <td></td>\n",
              "      <td></td>\n",
              "      <td></td>\n",
              "      <td></td>\n",
              "      <td></td>\n",
              "    </tr>\n",
              "  </tbody>\n",
              "</table>\n",
              "</div>"
            ],
            "text/plain": [
              "        index  Unnamed: 0  ...             county rural_suburban_urban\n",
              "81907  243981      228232  ...                                        \n",
              "81908  243982      228233  ...                                        \n",
              "81909  243986      228237  ...                                        \n",
              "81910  243991      228242  ...  Washington County                     \n",
              "81911  243993      228244  ...                                        \n",
              "\n",
              "[5 rows x 24 columns]"
            ]
          },
          "metadata": {
            "tags": []
          },
          "execution_count": 88
        }
      ]
    },
    {
      "cell_type": "code",
      "metadata": {
        "id": "vVVx-kmiffmH",
        "colab_type": "code",
        "outputId": "1776e20c-7de3-45bd-8c0f-623ac27cb82b",
        "colab": {
          "base_uri": "https://localhost:8080/",
          "height": 955
        }
      },
      "source": [
        "df2['state'].value_counts()"
      ],
      "execution_count": 0,
      "outputs": [
        {
          "output_type": "execute_result",
          "data": {
            "text/plain": [
              "      74934\n",
              "CA      753\n",
              "NY      705\n",
              "WA      621\n",
              "FL      412\n",
              "TX      401\n",
              "NJ      217\n",
              "ME      196\n",
              "NC      187\n",
              "MI      176\n",
              "PA      174\n",
              "UT      173\n",
              "VA      172\n",
              "GA      165\n",
              "OH      156\n",
              "CO      148\n",
              "AZ      137\n",
              "OR      131\n",
              "IN      130\n",
              "MA      129\n",
              "IL      127\n",
              "MD      106\n",
              "MN      102\n",
              "AL       93\n",
              "TN       89\n",
              "WI       87\n",
              "KS       84\n",
              "MO       83\n",
              "KY       80\n",
              "CT       69\n",
              "AR       64\n",
              "SC       62\n",
              "MT       58\n",
              "LA       57\n",
              "OK       56\n",
              "RI       55\n",
              "PR       50\n",
              "DC       50\n",
              "IA       47\n",
              "ND       43\n",
              "WV       42\n",
              "NH       41\n",
              "HI       39\n",
              "NV       35\n",
              "NM       32\n",
              "DE       29\n",
              "VT       24\n",
              "ID       24\n",
              "MS       21\n",
              "NE       16\n",
              "AK       13\n",
              "SD       12\n",
              "WY        5\n",
              "Name: state, dtype: int64"
            ]
          },
          "metadata": {
            "tags": []
          },
          "execution_count": 89
        }
      ]
    },
    {
      "cell_type": "code",
      "metadata": {
        "id": "nyZokTOkIh7a",
        "colab_type": "code",
        "outputId": "459ec56f-16e2-4971-ee0e-98c8f4c7f40c",
        "colab": {
          "base_uri": "https://localhost:8080/",
          "height": 34
        }
      },
      "source": [
        "df2.shape"
      ],
      "execution_count": 0,
      "outputs": [
        {
          "output_type": "execute_result",
          "data": {
            "text/plain": [
              "(81912, 24)"
            ]
          },
          "metadata": {
            "tags": []
          },
          "execution_count": 90
        }
      ]
    },
    {
      "cell_type": "code",
      "metadata": {
        "id": "QXiWrJcrIjpB",
        "colab_type": "code",
        "outputId": "dfd4d820-8254-424e-e605-b595f90c680d",
        "colab": {
          "base_uri": "https://localhost:8080/",
          "height": 451
        }
      },
      "source": [
        "df2.dtypes"
      ],
      "execution_count": 0,
      "outputs": [
        {
          "output_type": "execute_result",
          "data": {
            "text/plain": [
              "index                        int64\n",
              "Unnamed: 0                   int64\n",
              "Unnamed: 0.1                 int64\n",
              "Unnamed: 0.1.1              object\n",
              "Tweet_id                    object\n",
              "name                        object\n",
              "id                          object\n",
              "location                    object\n",
              "text                        object\n",
              "sentiment                   object\n",
              "age                         object\n",
              "gender                      object\n",
              "date                        object\n",
              "time                        object\n",
              "race                        object\n",
              "score                      float64\n",
              "screen_name                 object\n",
              "Unnamed: 0.1.1.1           float64\n",
              "zipcode                     object\n",
              "state                       object\n",
              "median_household_income     object\n",
              "pop_density                 object\n",
              "county                      object\n",
              "rural_suburban_urban        object\n",
              "dtype: object"
            ]
          },
          "metadata": {
            "tags": []
          },
          "execution_count": 91
        }
      ]
    },
    {
      "cell_type": "code",
      "metadata": {
        "id": "hWCyAgipFsW3",
        "colab_type": "code",
        "outputId": "e4c12efa-d46e-4747-b93e-b41a8aed8c16",
        "colab": {
          "base_uri": "https://localhost:8080/",
          "height": 141
        }
      },
      "source": [
        "df3 = df2[df2['state'] != '']\n",
        "df3['county_name']=''"
      ],
      "execution_count": 0,
      "outputs": [
        {
          "output_type": "stream",
          "text": [
            "/usr/local/lib/python3.6/dist-packages/ipykernel_launcher.py:2: SettingWithCopyWarning: \n",
            "A value is trying to be set on a copy of a slice from a DataFrame.\n",
            "Try using .loc[row_indexer,col_indexer] = value instead\n",
            "\n",
            "See the caveats in the documentation: https://pandas.pydata.org/pandas-docs/stable/user_guide/indexing.html#returning-a-view-versus-a-copy\n",
            "  \n"
          ],
          "name": "stderr"
        }
      ]
    },
    {
      "cell_type": "code",
      "metadata": {
        "id": "9GoT0o8DIolf",
        "colab_type": "code",
        "outputId": "6141016a-8015-4e0b-d77e-f6be41edf097",
        "colab": {
          "base_uri": "https://localhost:8080/",
          "height": 400
        }
      },
      "source": [
        "df3.head()"
      ],
      "execution_count": 0,
      "outputs": [
        {
          "output_type": "execute_result",
          "data": {
            "text/html": [
              "<div>\n",
              "<style scoped>\n",
              "    .dataframe tbody tr th:only-of-type {\n",
              "        vertical-align: middle;\n",
              "    }\n",
              "\n",
              "    .dataframe tbody tr th {\n",
              "        vertical-align: top;\n",
              "    }\n",
              "\n",
              "    .dataframe thead th {\n",
              "        text-align: right;\n",
              "    }\n",
              "</style>\n",
              "<table border=\"1\" class=\"dataframe\">\n",
              "  <thead>\n",
              "    <tr style=\"text-align: right;\">\n",
              "      <th></th>\n",
              "      <th>index</th>\n",
              "      <th>Unnamed: 0</th>\n",
              "      <th>Unnamed: 0.1</th>\n",
              "      <th>Unnamed: 0.1.1</th>\n",
              "      <th>Tweet_id</th>\n",
              "      <th>name</th>\n",
              "      <th>id</th>\n",
              "      <th>location</th>\n",
              "      <th>text</th>\n",
              "      <th>sentiment</th>\n",
              "      <th>age</th>\n",
              "      <th>gender</th>\n",
              "      <th>date</th>\n",
              "      <th>time</th>\n",
              "      <th>race</th>\n",
              "      <th>score</th>\n",
              "      <th>screen_name</th>\n",
              "      <th>Unnamed: 0.1.1.1</th>\n",
              "      <th>zipcode</th>\n",
              "      <th>state</th>\n",
              "      <th>median_household_income</th>\n",
              "      <th>pop_density</th>\n",
              "      <th>county</th>\n",
              "      <th>rural_suburban_urban</th>\n",
              "      <th>county_name</th>\n",
              "    </tr>\n",
              "  </thead>\n",
              "  <tbody>\n",
              "    <tr>\n",
              "      <th>7</th>\n",
              "      <td>22</td>\n",
              "      <td>22</td>\n",
              "      <td>22</td>\n",
              "      <td>22</td>\n",
              "      <td>1246018579151179800</td>\n",
              "      <td>Steve Finlay</td>\n",
              "      <td>176126108</td>\n",
              "      <td>Newfoundland, Canada</td>\n",
              "      <td>NEW | Homemade masks won't protect you against...</td>\n",
              "      <td>Positive</td>\n",
              "      <td>30-39</td>\n",
              "      <td>Male</td>\n",
              "      <td>Apr03</td>\n",
              "      <td>10:15:53</td>\n",
              "      <td>GreaterEuropean,British</td>\n",
              "      <td>0.0813</td>\n",
              "      <td>Electr0z</td>\n",
              "      <td>NaN</td>\n",
              "      <td>10001</td>\n",
              "      <td>NY</td>\n",
              "      <td>81671</td>\n",
              "      <td>33959</td>\n",
              "      <td>New York County</td>\n",
              "      <td></td>\n",
              "      <td></td>\n",
              "    </tr>\n",
              "    <tr>\n",
              "      <th>11</th>\n",
              "      <td>30</td>\n",
              "      <td>30</td>\n",
              "      <td>30</td>\n",
              "      <td>30</td>\n",
              "      <td>1246106235545571300</td>\n",
              "      <td>JM Ngala</td>\n",
              "      <td>1527509845</td>\n",
              "      <td>Nairobi, Kenya</td>\n",
              "      <td>Didier Drogba, Samuel Eto'o and Demba Ba slamm...</td>\n",
              "      <td>Positive</td>\n",
              "      <td>30-39</td>\n",
              "      <td>Male</td>\n",
              "      <td>Apr03</td>\n",
              "      <td>16:04:12</td>\n",
              "      <td>Asian,GreaterEastAsian,EastAsian</td>\n",
              "      <td>0.1471</td>\n",
              "      <td>john_lij</td>\n",
              "      <td>NaN</td>\n",
              "      <td>03901</td>\n",
              "      <td>ME</td>\n",
              "      <td>63264</td>\n",
              "      <td>192</td>\n",
              "      <td>York County</td>\n",
              "      <td></td>\n",
              "      <td></td>\n",
              "    </tr>\n",
              "    <tr>\n",
              "      <th>12</th>\n",
              "      <td>32</td>\n",
              "      <td>32</td>\n",
              "      <td>32</td>\n",
              "      <td>32</td>\n",
              "      <td>1246244571832397800</td>\n",
              "      <td>AB Momentum Massage</td>\n",
              "      <td>347580948</td>\n",
              "      <td>Edmonton, AB, Canada</td>\n",
              "      <td>Canadians vs Americans during a time of crisis...</td>\n",
              "      <td>Positive</td>\n",
              "      <td>&gt;40</td>\n",
              "      <td>Female</td>\n",
              "      <td>Apr04</td>\n",
              "      <td>01:13:54</td>\n",
              "      <td>GreaterEuropean,WestEuropean,Nordic</td>\n",
              "      <td>0.6369</td>\n",
              "      <td>AlbertaMomentum</td>\n",
              "      <td>NaN</td>\n",
              "      <td>98001</td>\n",
              "      <td>WA</td>\n",
              "      <td>71746</td>\n",
              "      <td>1717</td>\n",
              "      <td>King County</td>\n",
              "      <td></td>\n",
              "      <td></td>\n",
              "    </tr>\n",
              "    <tr>\n",
              "      <th>19</th>\n",
              "      <td>52</td>\n",
              "      <td>52</td>\n",
              "      <td>52</td>\n",
              "      <td>52</td>\n",
              "      <td>1246243309871341600</td>\n",
              "      <td>Geeky Hoody</td>\n",
              "      <td>2817977711</td>\n",
              "      <td>Dallas, TX</td>\n",
              "      <td>I make this look Safe. Thanks mamazolaemporium...</td>\n",
              "      <td>Positive</td>\n",
              "      <td>&lt;=18</td>\n",
              "      <td>Male</td>\n",
              "      <td>Apr04</td>\n",
              "      <td>01:08:53</td>\n",
              "      <td>Asian,IndianSubContinent</td>\n",
              "      <td>0.7003</td>\n",
              "      <td>geekyhoody</td>\n",
              "      <td>NaN</td>\n",
              "      <td>43001</td>\n",
              "      <td>OH</td>\n",
              "      <td>76806</td>\n",
              "      <td>90</td>\n",
              "      <td>Licking County</td>\n",
              "      <td></td>\n",
              "      <td></td>\n",
              "    </tr>\n",
              "    <tr>\n",
              "      <th>32</th>\n",
              "      <td>83</td>\n",
              "      <td>83</td>\n",
              "      <td>83</td>\n",
              "      <td>83</td>\n",
              "      <td>1245925985821716500</td>\n",
              "      <td>Melissa</td>\n",
              "      <td>867592382069342208</td>\n",
              "      <td>Auburn, WA</td>\n",
              "      <td>Ok, Twitter, you asked for it, I promised it, ...</td>\n",
              "      <td>Neutral</td>\n",
              "      <td>&gt;40</td>\n",
              "      <td>Female</td>\n",
              "      <td>Apr03</td>\n",
              "      <td>04:07:57</td>\n",
              "      <td>GreaterEuropean,WestEuropean,Italian</td>\n",
              "      <td>0.0387</td>\n",
              "      <td>Marusyllus</td>\n",
              "      <td>NaN</td>\n",
              "      <td>36272</td>\n",
              "      <td>AL</td>\n",
              "      <td>37973</td>\n",
              "      <td>40</td>\n",
              "      <td>Calhoun County</td>\n",
              "      <td></td>\n",
              "      <td></td>\n",
              "    </tr>\n",
              "  </tbody>\n",
              "</table>\n",
              "</div>"
            ],
            "text/plain": [
              "    index  Unnamed: 0  ...  rural_suburban_urban county_name\n",
              "7      22          22  ...                                  \n",
              "11     30          30  ...                                  \n",
              "12     32          32  ...                                  \n",
              "19     52          52  ...                                  \n",
              "32     83          83  ...                                  \n",
              "\n",
              "[5 rows x 25 columns]"
            ]
          },
          "metadata": {
            "tags": []
          },
          "execution_count": 93
        }
      ]
    },
    {
      "cell_type": "code",
      "metadata": {
        "id": "C6SvJg0MJkH2",
        "colab_type": "code",
        "outputId": "6cf82cf5-9885-43b9-f4e4-26f971e1f518",
        "colab": {
          "base_uri": "https://localhost:8080/",
          "height": 141
        }
      },
      "source": [
        "df3['county'] = df3['county'].astype(\"string\")"
      ],
      "execution_count": 0,
      "outputs": [
        {
          "output_type": "stream",
          "text": [
            "/usr/local/lib/python3.6/dist-packages/ipykernel_launcher.py:1: SettingWithCopyWarning: \n",
            "A value is trying to be set on a copy of a slice from a DataFrame.\n",
            "Try using .loc[row_indexer,col_indexer] = value instead\n",
            "\n",
            "See the caveats in the documentation: https://pandas.pydata.org/pandas-docs/stable/user_guide/indexing.html#returning-a-view-versus-a-copy\n",
            "  \"\"\"Entry point for launching an IPython kernel.\n"
          ],
          "name": "stderr"
        }
      ]
    },
    {
      "cell_type": "code",
      "metadata": {
        "id": "i5SZRnVSJh0q",
        "colab_type": "code",
        "colab": {}
      },
      "source": [
        "for i, row in df3.iterrows():\n",
        "  x = df3.at[i, 'county']\n",
        "  y = x.replace(' County','')\n",
        "  df3.at[i, 'county_name'] = y"
      ],
      "execution_count": 0,
      "outputs": []
    },
    {
      "cell_type": "code",
      "metadata": {
        "id": "TGG0NOAsKv-e",
        "colab_type": "code",
        "outputId": "01a4286c-b2d2-49a3-c7d3-86f3ec521dca",
        "colab": {
          "base_uri": "https://localhost:8080/",
          "height": 400
        }
      },
      "source": [
        "df3.head()"
      ],
      "execution_count": 0,
      "outputs": [
        {
          "output_type": "execute_result",
          "data": {
            "text/html": [
              "<div>\n",
              "<style scoped>\n",
              "    .dataframe tbody tr th:only-of-type {\n",
              "        vertical-align: middle;\n",
              "    }\n",
              "\n",
              "    .dataframe tbody tr th {\n",
              "        vertical-align: top;\n",
              "    }\n",
              "\n",
              "    .dataframe thead th {\n",
              "        text-align: right;\n",
              "    }\n",
              "</style>\n",
              "<table border=\"1\" class=\"dataframe\">\n",
              "  <thead>\n",
              "    <tr style=\"text-align: right;\">\n",
              "      <th></th>\n",
              "      <th>index</th>\n",
              "      <th>Unnamed: 0</th>\n",
              "      <th>Unnamed: 0.1</th>\n",
              "      <th>Unnamed: 0.1.1</th>\n",
              "      <th>Tweet_id</th>\n",
              "      <th>name</th>\n",
              "      <th>id</th>\n",
              "      <th>location</th>\n",
              "      <th>text</th>\n",
              "      <th>sentiment</th>\n",
              "      <th>age</th>\n",
              "      <th>gender</th>\n",
              "      <th>date</th>\n",
              "      <th>time</th>\n",
              "      <th>race</th>\n",
              "      <th>score</th>\n",
              "      <th>screen_name</th>\n",
              "      <th>Unnamed: 0.1.1.1</th>\n",
              "      <th>zipcode</th>\n",
              "      <th>state</th>\n",
              "      <th>median_household_income</th>\n",
              "      <th>pop_density</th>\n",
              "      <th>county</th>\n",
              "      <th>rural_suburban_urban</th>\n",
              "      <th>county_name</th>\n",
              "    </tr>\n",
              "  </thead>\n",
              "  <tbody>\n",
              "    <tr>\n",
              "      <th>7</th>\n",
              "      <td>22</td>\n",
              "      <td>22</td>\n",
              "      <td>22</td>\n",
              "      <td>22</td>\n",
              "      <td>1246018579151179800</td>\n",
              "      <td>Steve Finlay</td>\n",
              "      <td>176126108</td>\n",
              "      <td>Newfoundland, Canada</td>\n",
              "      <td>NEW | Homemade masks won't protect you against...</td>\n",
              "      <td>Positive</td>\n",
              "      <td>30-39</td>\n",
              "      <td>Male</td>\n",
              "      <td>Apr03</td>\n",
              "      <td>10:15:53</td>\n",
              "      <td>GreaterEuropean,British</td>\n",
              "      <td>0.0813</td>\n",
              "      <td>Electr0z</td>\n",
              "      <td>NaN</td>\n",
              "      <td>10001</td>\n",
              "      <td>NY</td>\n",
              "      <td>81671</td>\n",
              "      <td>33959</td>\n",
              "      <td>New York County</td>\n",
              "      <td></td>\n",
              "      <td>New York</td>\n",
              "    </tr>\n",
              "    <tr>\n",
              "      <th>11</th>\n",
              "      <td>30</td>\n",
              "      <td>30</td>\n",
              "      <td>30</td>\n",
              "      <td>30</td>\n",
              "      <td>1246106235545571300</td>\n",
              "      <td>JM Ngala</td>\n",
              "      <td>1527509845</td>\n",
              "      <td>Nairobi, Kenya</td>\n",
              "      <td>Didier Drogba, Samuel Eto'o and Demba Ba slamm...</td>\n",
              "      <td>Positive</td>\n",
              "      <td>30-39</td>\n",
              "      <td>Male</td>\n",
              "      <td>Apr03</td>\n",
              "      <td>16:04:12</td>\n",
              "      <td>Asian,GreaterEastAsian,EastAsian</td>\n",
              "      <td>0.1471</td>\n",
              "      <td>john_lij</td>\n",
              "      <td>NaN</td>\n",
              "      <td>03901</td>\n",
              "      <td>ME</td>\n",
              "      <td>63264</td>\n",
              "      <td>192</td>\n",
              "      <td>York County</td>\n",
              "      <td></td>\n",
              "      <td>York</td>\n",
              "    </tr>\n",
              "    <tr>\n",
              "      <th>12</th>\n",
              "      <td>32</td>\n",
              "      <td>32</td>\n",
              "      <td>32</td>\n",
              "      <td>32</td>\n",
              "      <td>1246244571832397800</td>\n",
              "      <td>AB Momentum Massage</td>\n",
              "      <td>347580948</td>\n",
              "      <td>Edmonton, AB, Canada</td>\n",
              "      <td>Canadians vs Americans during a time of crisis...</td>\n",
              "      <td>Positive</td>\n",
              "      <td>&gt;40</td>\n",
              "      <td>Female</td>\n",
              "      <td>Apr04</td>\n",
              "      <td>01:13:54</td>\n",
              "      <td>GreaterEuropean,WestEuropean,Nordic</td>\n",
              "      <td>0.6369</td>\n",
              "      <td>AlbertaMomentum</td>\n",
              "      <td>NaN</td>\n",
              "      <td>98001</td>\n",
              "      <td>WA</td>\n",
              "      <td>71746</td>\n",
              "      <td>1717</td>\n",
              "      <td>King County</td>\n",
              "      <td></td>\n",
              "      <td>King</td>\n",
              "    </tr>\n",
              "    <tr>\n",
              "      <th>19</th>\n",
              "      <td>52</td>\n",
              "      <td>52</td>\n",
              "      <td>52</td>\n",
              "      <td>52</td>\n",
              "      <td>1246243309871341600</td>\n",
              "      <td>Geeky Hoody</td>\n",
              "      <td>2817977711</td>\n",
              "      <td>Dallas, TX</td>\n",
              "      <td>I make this look Safe. Thanks mamazolaemporium...</td>\n",
              "      <td>Positive</td>\n",
              "      <td>&lt;=18</td>\n",
              "      <td>Male</td>\n",
              "      <td>Apr04</td>\n",
              "      <td>01:08:53</td>\n",
              "      <td>Asian,IndianSubContinent</td>\n",
              "      <td>0.7003</td>\n",
              "      <td>geekyhoody</td>\n",
              "      <td>NaN</td>\n",
              "      <td>43001</td>\n",
              "      <td>OH</td>\n",
              "      <td>76806</td>\n",
              "      <td>90</td>\n",
              "      <td>Licking County</td>\n",
              "      <td></td>\n",
              "      <td>Licking</td>\n",
              "    </tr>\n",
              "    <tr>\n",
              "      <th>32</th>\n",
              "      <td>83</td>\n",
              "      <td>83</td>\n",
              "      <td>83</td>\n",
              "      <td>83</td>\n",
              "      <td>1245925985821716500</td>\n",
              "      <td>Melissa</td>\n",
              "      <td>867592382069342208</td>\n",
              "      <td>Auburn, WA</td>\n",
              "      <td>Ok, Twitter, you asked for it, I promised it, ...</td>\n",
              "      <td>Neutral</td>\n",
              "      <td>&gt;40</td>\n",
              "      <td>Female</td>\n",
              "      <td>Apr03</td>\n",
              "      <td>04:07:57</td>\n",
              "      <td>GreaterEuropean,WestEuropean,Italian</td>\n",
              "      <td>0.0387</td>\n",
              "      <td>Marusyllus</td>\n",
              "      <td>NaN</td>\n",
              "      <td>36272</td>\n",
              "      <td>AL</td>\n",
              "      <td>37973</td>\n",
              "      <td>40</td>\n",
              "      <td>Calhoun County</td>\n",
              "      <td></td>\n",
              "      <td>Calhoun</td>\n",
              "    </tr>\n",
              "  </tbody>\n",
              "</table>\n",
              "</div>"
            ],
            "text/plain": [
              "    index  Unnamed: 0  ...  rural_suburban_urban county_name\n",
              "7      22          22  ...                          New York\n",
              "11     30          30  ...                              York\n",
              "12     32          32  ...                              King\n",
              "19     52          52  ...                           Licking\n",
              "32     83          83  ...                           Calhoun\n",
              "\n",
              "[5 rows x 25 columns]"
            ]
          },
          "metadata": {
            "tags": []
          },
          "execution_count": 27
        }
      ]
    },
    {
      "cell_type": "code",
      "metadata": {
        "id": "oLBIGoVXNqCy",
        "colab_type": "code",
        "outputId": "3c9f2ac7-4bb1-41a4-ad61-8a640ad084f4",
        "colab": {
          "base_uri": "https://localhost:8080/",
          "height": 469
        }
      },
      "source": [
        "df3.dtypes"
      ],
      "execution_count": 0,
      "outputs": [
        {
          "output_type": "execute_result",
          "data": {
            "text/plain": [
              "index                        int64\n",
              "Unnamed: 0                   int64\n",
              "Unnamed: 0.1                 int64\n",
              "Unnamed: 0.1.1              object\n",
              "Tweet_id                    object\n",
              "name                        object\n",
              "id                          object\n",
              "location                    object\n",
              "text                        object\n",
              "sentiment                   object\n",
              "age                         object\n",
              "gender                      object\n",
              "date                        object\n",
              "time                        object\n",
              "race                        object\n",
              "score                      float64\n",
              "screen_name                 object\n",
              "Unnamed: 0.1.1.1           float64\n",
              "zipcode                     object\n",
              "state                       object\n",
              "median_household_income     object\n",
              "pop_density                 object\n",
              "county                      string\n",
              "rural_suburban_urban        object\n",
              "county_name                 object\n",
              "dtype: object"
            ]
          },
          "metadata": {
            "tags": []
          },
          "execution_count": 28
        }
      ]
    },
    {
      "cell_type": "code",
      "metadata": {
        "id": "fVlnYkw1SwXT",
        "colab_type": "code",
        "outputId": "e9e0c967-b82d-46d8-8f20-2c9cdbdfb077",
        "colab": {
          "base_uri": "https://localhost:8080/",
          "height": 141
        }
      },
      "source": [
        "# df3['county_name'] = df3['county_name'].astype(\"string\")\n",
        "for i,row in df3.iterrows():\n",
        "  a = df3.loc[i, 'rural_suburban_urban']\n",
        "  df3.loc[i, 'rural_suburban_urban'] = str(a)"
      ],
      "execution_count": 0,
      "outputs": [
        {
          "output_type": "stream",
          "text": [
            "/usr/local/lib/python3.6/dist-packages/pandas/core/indexing.py:966: SettingWithCopyWarning: \n",
            "A value is trying to be set on a copy of a slice from a DataFrame.\n",
            "Try using .loc[row_indexer,col_indexer] = value instead\n",
            "\n",
            "See the caveats in the documentation: https://pandas.pydata.org/pandas-docs/stable/user_guide/indexing.html#returning-a-view-versus-a-copy\n",
            "  self.obj[item] = s\n"
          ],
          "name": "stderr"
        }
      ]
    },
    {
      "cell_type": "code",
      "metadata": {
        "id": "adUyfX49jtlc",
        "colab_type": "code",
        "colab": {}
      },
      "source": [
        "df3.reset_index(inplace=True)"
      ],
      "execution_count": 0,
      "outputs": []
    },
    {
      "cell_type": "code",
      "metadata": {
        "id": "FqmHQ18LFpmc",
        "colab_type": "code",
        "colab": {}
      },
      "source": [
        "from urllib.request import urlopen\n",
        "import json\n",
        "with urlopen('https://raw.githubusercontent.com/plotly/datasets/master/geojson-counties-fips.json') as response:\n",
        "    counties = json.load(response)\n",
        "\n",
        "import plotly.express as px\n",
        "import plotly\n",
        "\n",
        "# #Sentiment Zip Code\n",
        "fig = px.choropleth(df3, geojson=counties, locations='county_name', color='score',\n",
        "                          featureidkey=\"properties.NAME\",\n",
        "                           color_continuous_scale=plotly.colors.sequential.Bluered,\n",
        "                          scope=\"usa\"\n",
        "                          )\n",
        "fig.update_geos(fitbounds=\"locations\", visible=False)\n",
        "fig.update_layout(margin={\"r\":0,\"t\":0,\"l\":0,\"b\":0})\n",
        "fig.show()"
      ],
      "execution_count": 0,
      "outputs": []
    },
    {
      "cell_type": "code",
      "metadata": {
        "id": "pKQoFLfBp3bn",
        "colab_type": "code",
        "colab": {}
      },
      "source": [
        "fig2 = px.choropleth(locations=df3['state'], locationmode='USA-states', color=df3['score'], scope=\"usa\", color_continuous_scale=plotly.colors.sequential.Bluered)\n",
        "fig2.show()"
      ],
      "execution_count": 0,
      "outputs": []
    },
    {
      "cell_type": "code",
      "metadata": {
        "id": "Oc2DrCmotBSS",
        "colab_type": "code",
        "colab": {}
      },
      "source": [
        "fig3 = px.choropleth(df3, geojson=counties, locations=df3['county_name'], color=df3['rural_suburban_urban'], \n",
        "                          scope=\"usa\",\n",
        "                          featureidkey=\"properties.NAME\" \n",
        "                          )\n",
        "fig3.show()"
      ],
      "execution_count": 0,
      "outputs": []
    },
    {
      "cell_type": "code",
      "metadata": {
        "id": "ZF4ppbNazBOr",
        "colab_type": "code",
        "colab": {}
      },
      "source": [
        "a = pd.DataFrame(zip(list(df3['rural_suburban_urban'].unique()), list(df3['rural_suburban_urban'].value_counts())), columns = ['RUC Class', 'Counties'])\n",
        "a.head()\n",
        "fig4 = px.bar(a, x = 'RUC Class', y = 'Counties')\n",
        "fig4.show()"
      ],
      "execution_count": 0,
      "outputs": []
    },
    {
      "cell_type": "code",
      "metadata": {
        "id": "na7HD6pv76cs",
        "colab_type": "code",
        "colab": {}
      },
      "source": [
        "fig4 = px.scatter(df3, x = 'rural_suburban_urban', y = 'score')\n",
        "fig4.show()"
      ],
      "execution_count": 0,
      "outputs": []
    },
    {
      "cell_type": "code",
      "metadata": {
        "id": "WUEvhhUV7EWR",
        "colab_type": "code",
        "outputId": "74623e20-53d4-4210-e27c-aa40dbed6cbf",
        "colab": {
          "base_uri": "https://localhost:8080/",
          "height": 712
        }
      },
      "source": [
        "df3['rural_suburban_urban'] = df3['rural_suburban_urban'].astype(\"int\")\n",
        "# df3['rural_suburban_urban'].corr(df3['score'])"
      ],
      "execution_count": 0,
      "outputs": [
        {
          "output_type": "error",
          "ename": "KeyError",
          "evalue": "ignored",
          "traceback": [
            "\u001b[0;31m---------------------------------------------------------------------------\u001b[0m",
            "\u001b[0;31mKeyError\u001b[0m                                  Traceback (most recent call last)",
            "\u001b[0;32m/usr/local/lib/python3.6/dist-packages/pandas/core/indexes/base.py\u001b[0m in \u001b[0;36mget_loc\u001b[0;34m(self, key, method, tolerance)\u001b[0m\n\u001b[1;32m   2645\u001b[0m             \u001b[0;32mtry\u001b[0m\u001b[0;34m:\u001b[0m\u001b[0;34m\u001b[0m\u001b[0;34m\u001b[0m\u001b[0m\n\u001b[0;32m-> 2646\u001b[0;31m                 \u001b[0;32mreturn\u001b[0m \u001b[0mself\u001b[0m\u001b[0;34m.\u001b[0m\u001b[0m_engine\u001b[0m\u001b[0;34m.\u001b[0m\u001b[0mget_loc\u001b[0m\u001b[0;34m(\u001b[0m\u001b[0mkey\u001b[0m\u001b[0;34m)\u001b[0m\u001b[0;34m\u001b[0m\u001b[0;34m\u001b[0m\u001b[0m\n\u001b[0m\u001b[1;32m   2647\u001b[0m             \u001b[0;32mexcept\u001b[0m \u001b[0mKeyError\u001b[0m\u001b[0;34m:\u001b[0m\u001b[0;34m\u001b[0m\u001b[0;34m\u001b[0m\u001b[0m\n",
            "\u001b[0;32mpandas/_libs/index.pyx\u001b[0m in \u001b[0;36mpandas._libs.index.IndexEngine.get_loc\u001b[0;34m()\u001b[0m\n",
            "\u001b[0;32mpandas/_libs/index.pyx\u001b[0m in \u001b[0;36mpandas._libs.index.IndexEngine.get_loc\u001b[0;34m()\u001b[0m\n",
            "\u001b[0;32mpandas/_libs/hashtable_class_helper.pxi\u001b[0m in \u001b[0;36mpandas._libs.hashtable.PyObjectHashTable.get_item\u001b[0;34m()\u001b[0m\n",
            "\u001b[0;32mpandas/_libs/hashtable_class_helper.pxi\u001b[0m in \u001b[0;36mpandas._libs.hashtable.PyObjectHashTable.get_item\u001b[0;34m()\u001b[0m\n",
            "\u001b[0;31mKeyError\u001b[0m: 'rural_suburban_urban'",
            "\nDuring handling of the above exception, another exception occurred:\n",
            "\u001b[0;31mKeyError\u001b[0m                                  Traceback (most recent call last)",
            "\u001b[0;32m<ipython-input-71-20a58a7f963e>\u001b[0m in \u001b[0;36m<module>\u001b[0;34m()\u001b[0m\n\u001b[0;32m----> 1\u001b[0;31m \u001b[0mdf3\u001b[0m\u001b[0;34m[\u001b[0m\u001b[0;34m'rural_suburban_urban'\u001b[0m\u001b[0;34m]\u001b[0m \u001b[0;34m=\u001b[0m \u001b[0mdf3\u001b[0m\u001b[0;34m[\u001b[0m\u001b[0;34m'rural_suburban_urban'\u001b[0m\u001b[0;34m]\u001b[0m\u001b[0;34m.\u001b[0m\u001b[0mastype\u001b[0m\u001b[0;34m(\u001b[0m\u001b[0;34m\"int\"\u001b[0m\u001b[0;34m)\u001b[0m\u001b[0;34m\u001b[0m\u001b[0;34m\u001b[0m\u001b[0m\n\u001b[0m\u001b[1;32m      2\u001b[0m \u001b[0;31m# df3['rural_suburban_urban'].corr(df3['score'])\u001b[0m\u001b[0;34m\u001b[0m\u001b[0;34m\u001b[0m\u001b[0;34m\u001b[0m\u001b[0m\n",
            "\u001b[0;32m/usr/local/lib/python3.6/dist-packages/pandas/core/frame.py\u001b[0m in \u001b[0;36m__getitem__\u001b[0;34m(self, key)\u001b[0m\n\u001b[1;32m   2798\u001b[0m             \u001b[0;32mif\u001b[0m \u001b[0mself\u001b[0m\u001b[0;34m.\u001b[0m\u001b[0mcolumns\u001b[0m\u001b[0;34m.\u001b[0m\u001b[0mnlevels\u001b[0m \u001b[0;34m>\u001b[0m \u001b[0;36m1\u001b[0m\u001b[0;34m:\u001b[0m\u001b[0;34m\u001b[0m\u001b[0;34m\u001b[0m\u001b[0m\n\u001b[1;32m   2799\u001b[0m                 \u001b[0;32mreturn\u001b[0m \u001b[0mself\u001b[0m\u001b[0;34m.\u001b[0m\u001b[0m_getitem_multilevel\u001b[0m\u001b[0;34m(\u001b[0m\u001b[0mkey\u001b[0m\u001b[0;34m)\u001b[0m\u001b[0;34m\u001b[0m\u001b[0;34m\u001b[0m\u001b[0m\n\u001b[0;32m-> 2800\u001b[0;31m             \u001b[0mindexer\u001b[0m \u001b[0;34m=\u001b[0m \u001b[0mself\u001b[0m\u001b[0;34m.\u001b[0m\u001b[0mcolumns\u001b[0m\u001b[0;34m.\u001b[0m\u001b[0mget_loc\u001b[0m\u001b[0;34m(\u001b[0m\u001b[0mkey\u001b[0m\u001b[0;34m)\u001b[0m\u001b[0;34m\u001b[0m\u001b[0;34m\u001b[0m\u001b[0m\n\u001b[0m\u001b[1;32m   2801\u001b[0m             \u001b[0;32mif\u001b[0m \u001b[0mis_integer\u001b[0m\u001b[0;34m(\u001b[0m\u001b[0mindexer\u001b[0m\u001b[0;34m)\u001b[0m\u001b[0;34m:\u001b[0m\u001b[0;34m\u001b[0m\u001b[0;34m\u001b[0m\u001b[0m\n\u001b[1;32m   2802\u001b[0m                 \u001b[0mindexer\u001b[0m \u001b[0;34m=\u001b[0m \u001b[0;34m[\u001b[0m\u001b[0mindexer\u001b[0m\u001b[0;34m]\u001b[0m\u001b[0;34m\u001b[0m\u001b[0;34m\u001b[0m\u001b[0m\n",
            "\u001b[0;32m/usr/local/lib/python3.6/dist-packages/pandas/core/indexes/base.py\u001b[0m in \u001b[0;36mget_loc\u001b[0;34m(self, key, method, tolerance)\u001b[0m\n\u001b[1;32m   2646\u001b[0m                 \u001b[0;32mreturn\u001b[0m \u001b[0mself\u001b[0m\u001b[0;34m.\u001b[0m\u001b[0m_engine\u001b[0m\u001b[0;34m.\u001b[0m\u001b[0mget_loc\u001b[0m\u001b[0;34m(\u001b[0m\u001b[0mkey\u001b[0m\u001b[0;34m)\u001b[0m\u001b[0;34m\u001b[0m\u001b[0;34m\u001b[0m\u001b[0m\n\u001b[1;32m   2647\u001b[0m             \u001b[0;32mexcept\u001b[0m \u001b[0mKeyError\u001b[0m\u001b[0;34m:\u001b[0m\u001b[0;34m\u001b[0m\u001b[0;34m\u001b[0m\u001b[0m\n\u001b[0;32m-> 2648\u001b[0;31m                 \u001b[0;32mreturn\u001b[0m \u001b[0mself\u001b[0m\u001b[0;34m.\u001b[0m\u001b[0m_engine\u001b[0m\u001b[0;34m.\u001b[0m\u001b[0mget_loc\u001b[0m\u001b[0;34m(\u001b[0m\u001b[0mself\u001b[0m\u001b[0;34m.\u001b[0m\u001b[0m_maybe_cast_indexer\u001b[0m\u001b[0;34m(\u001b[0m\u001b[0mkey\u001b[0m\u001b[0;34m)\u001b[0m\u001b[0;34m)\u001b[0m\u001b[0;34m\u001b[0m\u001b[0;34m\u001b[0m\u001b[0m\n\u001b[0m\u001b[1;32m   2649\u001b[0m         \u001b[0mindexer\u001b[0m \u001b[0;34m=\u001b[0m \u001b[0mself\u001b[0m\u001b[0;34m.\u001b[0m\u001b[0mget_indexer\u001b[0m\u001b[0;34m(\u001b[0m\u001b[0;34m[\u001b[0m\u001b[0mkey\u001b[0m\u001b[0;34m]\u001b[0m\u001b[0;34m,\u001b[0m \u001b[0mmethod\u001b[0m\u001b[0;34m=\u001b[0m\u001b[0mmethod\u001b[0m\u001b[0;34m,\u001b[0m \u001b[0mtolerance\u001b[0m\u001b[0;34m=\u001b[0m\u001b[0mtolerance\u001b[0m\u001b[0;34m)\u001b[0m\u001b[0;34m\u001b[0m\u001b[0;34m\u001b[0m\u001b[0m\n\u001b[1;32m   2650\u001b[0m         \u001b[0;32mif\u001b[0m \u001b[0mindexer\u001b[0m\u001b[0;34m.\u001b[0m\u001b[0mndim\u001b[0m \u001b[0;34m>\u001b[0m \u001b[0;36m1\u001b[0m \u001b[0;32mor\u001b[0m \u001b[0mindexer\u001b[0m\u001b[0;34m.\u001b[0m\u001b[0msize\u001b[0m \u001b[0;34m>\u001b[0m \u001b[0;36m1\u001b[0m\u001b[0;34m:\u001b[0m\u001b[0;34m\u001b[0m\u001b[0;34m\u001b[0m\u001b[0m\n",
            "\u001b[0;32mpandas/_libs/index.pyx\u001b[0m in \u001b[0;36mpandas._libs.index.IndexEngine.get_loc\u001b[0;34m()\u001b[0m\n",
            "\u001b[0;32mpandas/_libs/index.pyx\u001b[0m in \u001b[0;36mpandas._libs.index.IndexEngine.get_loc\u001b[0;34m()\u001b[0m\n",
            "\u001b[0;32mpandas/_libs/hashtable_class_helper.pxi\u001b[0m in \u001b[0;36mpandas._libs.hashtable.PyObjectHashTable.get_item\u001b[0;34m()\u001b[0m\n",
            "\u001b[0;32mpandas/_libs/hashtable_class_helper.pxi\u001b[0m in \u001b[0;36mpandas._libs.hashtable.PyObjectHashTable.get_item\u001b[0;34m()\u001b[0m\n",
            "\u001b[0;31mKeyError\u001b[0m: 'rural_suburban_urban'"
          ]
        }
      ]
    },
    {
      "cell_type": "code",
      "metadata": {
        "id": "i4sbyyIfkPJP",
        "colab_type": "code",
        "colab": {}
      },
      "source": [
        "import plotly.express as px\n",
        "import plotly\n",
        "\n",
        "# Sentiment Zip Code\n",
        "# fig = px.choropleth(df2, geojson=counties, locations='state', color='score',\n",
        "#                           featureidkey=\"properties.STATE\",\n",
        "#                            color_continuous_scale=plotly.colors.sequential.Bluered,\n",
        "#                            range_color=(-.1, .1),\n",
        "#                           scope=\"usa\"\n",
        "#                           )\n",
        "# fig.update_layout(margin={\"r\":0,\"t\":0,\"l\":0,\"b\":0})\n",
        "# fig.show()\n"
      ],
      "execution_count": 0,
      "outputs": []
    },
    {
      "cell_type": "code",
      "metadata": {
        "id": "FujEOLCMOSbu",
        "colab_type": "code",
        "outputId": "d88892a9-6a1f-4bd9-ae61-6a1c10fb14d7",
        "colab": {
          "base_uri": "https://localhost:8080/",
          "height": 380
        }
      },
      "source": [
        "RUC = pd.read_excel('/content/drive/My Drive/CSC 240 Final Project/DataSet/ruralurbancodes2013.xls')\n",
        "RUC.head()"
      ],
      "execution_count": 0,
      "outputs": [
        {
          "output_type": "execute_result",
          "data": {
            "text/html": [
              "<div>\n",
              "<style scoped>\n",
              "    .dataframe tbody tr th:only-of-type {\n",
              "        vertical-align: middle;\n",
              "    }\n",
              "\n",
              "    .dataframe tbody tr th {\n",
              "        vertical-align: top;\n",
              "    }\n",
              "\n",
              "    .dataframe thead th {\n",
              "        text-align: right;\n",
              "    }\n",
              "</style>\n",
              "<table border=\"1\" class=\"dataframe\">\n",
              "  <thead>\n",
              "    <tr style=\"text-align: right;\">\n",
              "      <th></th>\n",
              "      <th>FIPS</th>\n",
              "      <th>State</th>\n",
              "      <th>County_Name</th>\n",
              "      <th>Population_2010</th>\n",
              "      <th>RUCC_2013</th>\n",
              "      <th>Description</th>\n",
              "    </tr>\n",
              "  </thead>\n",
              "  <tbody>\n",
              "    <tr>\n",
              "      <th>0</th>\n",
              "      <td>1001</td>\n",
              "      <td>AL</td>\n",
              "      <td>Autauga County</td>\n",
              "      <td>54571</td>\n",
              "      <td>2</td>\n",
              "      <td>Metro - Counties in metro areas of 250,000 to ...</td>\n",
              "    </tr>\n",
              "    <tr>\n",
              "      <th>1</th>\n",
              "      <td>1003</td>\n",
              "      <td>AL</td>\n",
              "      <td>Baldwin County</td>\n",
              "      <td>182265</td>\n",
              "      <td>3</td>\n",
              "      <td>Metro - Counties in metro areas of fewer than ...</td>\n",
              "    </tr>\n",
              "    <tr>\n",
              "      <th>2</th>\n",
              "      <td>1005</td>\n",
              "      <td>AL</td>\n",
              "      <td>Barbour County</td>\n",
              "      <td>27457</td>\n",
              "      <td>6</td>\n",
              "      <td>Nonmetro - Urban population of 2,500 to 19,999...</td>\n",
              "    </tr>\n",
              "    <tr>\n",
              "      <th>3</th>\n",
              "      <td>1007</td>\n",
              "      <td>AL</td>\n",
              "      <td>Bibb County</td>\n",
              "      <td>22915</td>\n",
              "      <td>1</td>\n",
              "      <td>Metro - Counties in metro areas of 1 million p...</td>\n",
              "    </tr>\n",
              "    <tr>\n",
              "      <th>4</th>\n",
              "      <td>1009</td>\n",
              "      <td>AL</td>\n",
              "      <td>Blount County</td>\n",
              "      <td>57322</td>\n",
              "      <td>1</td>\n",
              "      <td>Metro - Counties in metro areas of 1 million p...</td>\n",
              "    </tr>\n",
              "  </tbody>\n",
              "</table>\n",
              "</div>"
            ],
            "text/plain": [
              "   FIPS State  ... RUCC_2013                                        Description\n",
              "0  1001    AL  ...         2  Metro - Counties in metro areas of 250,000 to ...\n",
              "1  1003    AL  ...         3  Metro - Counties in metro areas of fewer than ...\n",
              "2  1005    AL  ...         6  Nonmetro - Urban population of 2,500 to 19,999...\n",
              "3  1007    AL  ...         1  Metro - Counties in metro areas of 1 million p...\n",
              "4  1009    AL  ...         1  Metro - Counties in metro areas of 1 million p...\n",
              "\n",
              "[5 rows x 6 columns]"
            ]
          },
          "metadata": {
            "tags": []
          },
          "execution_count": 103
        }
      ]
    },
    {
      "cell_type": "code",
      "metadata": {
        "id": "HzRdrBWQWpwE",
        "colab_type": "code",
        "outputId": "9ed6f45f-71be-4b19-b21a-aaa6861e126f",
        "colab": {
          "base_uri": "https://localhost:8080/",
          "height": 139
        }
      },
      "source": [
        "RUC.shape\n",
        "RUC.dtypes"
      ],
      "execution_count": 0,
      "outputs": [
        {
          "output_type": "execute_result",
          "data": {
            "text/plain": [
              "FIPS                int64\n",
              "State              object\n",
              "County_Name        object\n",
              "Population_2010     int64\n",
              "RUCC_2013           int64\n",
              "Description        object\n",
              "dtype: object"
            ]
          },
          "metadata": {
            "tags": []
          },
          "execution_count": 104
        }
      ]
    },
    {
      "cell_type": "code",
      "metadata": {
        "id": "DPqhqe00Wr0b",
        "colab_type": "code",
        "outputId": "a16fb51a-31b0-458f-de51-230a134e0477",
        "colab": {
          "base_uri": "https://localhost:8080/",
          "height": 54
        }
      },
      "source": [
        "RUC_dic = dict(zip(list(RUC['County_Name']), list(RUC['RUCC_2013'])))\n",
        "print(RUC_dic)"
      ],
      "execution_count": 0,
      "outputs": [
        {
          "output_type": "stream",
          "text": [
            "{'Autauga County': 2, 'Baldwin County': 4, 'Barbour County': 6, 'Bibb County': 3, 'Blount County': 2, 'Bullock County': 6, 'Butler County': 1, 'Calhoun County': 8, 'Chambers County': 1, 'Cherokee County': 6, 'Chilton County': 1, 'Choctaw County': 7, 'Clarke County': 1, 'Clay County': 3, 'Cleburne County': 6, 'Coffee County': 4, 'Colbert County': 3, 'Conecuh County': 7, 'Coosa County': 8, 'Covington County': 8, 'Crenshaw County': 8, 'Cullman County': 4, 'Dale County': 4, 'Dallas County': 1, 'DeKalb County': 6, 'Elmore County': 6, 'Escambia County': 2, 'Etowah County': 3, 'Fayette County': 3, 'Franklin County': 2, 'Geneva County': 3, 'Greene County': 3, 'Hale County': 4, 'Henry County': 4, 'Houston County': 7, 'Jackson County': 6, 'Jefferson County': 4, 'Lamar County': 5, 'Lauderdale County': 6, 'Lawrence County': 6, 'Lee County': 8, 'Limestone County': 6, 'Lowndes County': 5, 'Macon County': 1, 'Madison County': 8, 'Marengo County': 7, 'Marion County': 4, 'Marshall County': 3, 'Mobile County': 2, 'Monroe County': 6, 'Montgomery County': 3, 'Morgan County': 8, 'Perry County': 8, 'Pickens County': 2, 'Pike County': 1, 'Randolph County': 7, 'Russell County': 7, 'St. Clair County': 8, 'Shelby County': 7, 'Sumter County': 3, 'Talladega County': 4, 'Tallapoosa County': 6, 'Tuscaloosa County': 3, 'Walker County': 4, 'Washington County': 1, 'Wilcox County': 8, 'Winston County': 7, 'Aleutians East Borough': 9, 'Aleutians West Census Area': 9, 'Anchorage Municipality': 2, 'Bethel Census Area': 7, 'Bristol Bay Borough': 9, 'Denali Borough': 8, 'Dillingham Census Area': 9, 'Fairbanks North Star Borough': 3, 'Haines Borough': 9, 'Hoonah-Angoon Census Area, AK': 9, 'Juneau City and Borough': 5, 'Kenai Peninsula Borough': 7, 'Ketchikan Gateway Borough': 7, 'Kodiak Island Borough': 7, 'Lake and Peninsula Borough': 9, 'Matanuska-Susitna Borough': 2, 'Nome Census Area': 7, 'North Slope Borough': 7, 'Northwest Arctic Borough': 7, 'Petersburg Census area': 9, 'Price of Wales Hyder Census Area': 9, 'Sitka City and Borough': 7, 'Skagway Municipality': 9, 'Southeast Fairbanks Census Area': 9, 'Valdez-Cordova Census Area': 9, 'Wade Hampton Census Area': 9, 'Wrangell City and Borough': 9, 'Yakutat City and Borough': 9, 'Yukon-Koyukuk Census Area': 9, 'Apache County': 6, 'Cochise County': 3, 'Coconino County': 3, 'Gila County': 4, 'Graham County': 9, 'Greenlee County': 7, 'La Paz County': 6, 'Maricopa County': 1, 'Mohave County': 3, 'Navajo County': 4, 'Pima County': 2, 'Pinal County': 1, 'Santa Cruz County': 2, 'Yavapai County': 3, 'Yuma County': 7, 'Arkansas County': 6, 'Ashley County': 7, 'Baxter County': 7, 'Benton County': 2, 'Boone County': 3, 'Bradley County': 3, 'Carroll County': 7, 'Chicot County': 7, 'Clark County': 6, 'Cleveland County': 1, 'Columbia County': 2, 'Conway County': 6, 'Craighead County': 3, 'Crawford County': 7, 'Crittenden County': 7, 'Cross County': 6, 'Desha County': 6, 'Drew County': 6, 'Faulkner County': 2, 'Fulton County': 8, 'Garland County': 3, 'Grant County': 6, 'Hempstead County': 6, 'Hot Spring County': 6, 'Howard County': 4, 'Independence County': 7, 'Izard County': 9, 'Johnson County': 7, 'Lafayette County': 8, 'Lincoln County': 7, 'Little River County': 3, 'Logan County': 6, 'Lonoke County': 2, 'Miller County': 6, 'Mississippi County': 6, 'Nevada County': 4, 'Newton County': 2, 'Ouachita County': 7, 'Phillips County': 9, 'Poinsett County': 3, 'Polk County': 6, 'Pope County': 8, 'Prairie County': 9, 'Pulaski County': 3, 'St. Francis County': 6, 'Saline County': 6, 'Scott County': 2, 'Searcy County': 9, 'Sebastian County': 2, 'Sevier County': 7, 'Sharp County': 7, 'Stone County': 6, 'Union County': 2, 'Van Buren County': 9, 'White County': 7, 'Woodruff County': 9, 'Yell County': 6, 'Alameda County': 1, 'Alpine County': 8, 'Amador County': 6, 'Butte County': 6, 'Calaveras County': 6, 'Colusa County': 6, 'Contra Costa County': 1, 'Del Norte County': 7, 'El Dorado County': 1, 'Fresno County': 2, 'Glenn County': 6, 'Humboldt County': 7, 'Imperial County': 3, 'Inyo County': 7, 'Kern County': 2, 'Kings County': 1, 'Lake County': 9, 'Lassen County': 7, 'Los Angeles County': 1, 'Madera County': 3, 'Marin County': 1, 'Mariposa County': 8, 'Mendocino County': 4, 'Merced County': 2, 'Modoc County': 6, 'Mono County': 7, 'Monterey County': 2, 'Napa County': 3, 'Orange County': 6, 'Placer County': 1, 'Plumas County': 7, 'Riverside County': 1, 'Sacramento County': 1, 'San Benito County': 1, 'San Bernardino County': 1, 'San Diego County': 1, 'San Francisco County': 1, 'San Joaquin County': 2, 'San Luis Obispo County': 2, 'San Mateo County': 1, 'Santa Barbara County': 2, 'Santa Clara County': 1, 'Shasta County': 3, 'Sierra County': 6, 'Siskiyou County': 6, 'Solano County': 2, 'Sonoma County': 2, 'Stanislaus County': 2, 'Sutter County': 3, 'Tehama County': 4, 'Trinity County': 7, 'Tulare County': 2, 'Tuolumne County': 4, 'Ventura County': 2, 'Yolo County': 1, 'Yuba County': 3, 'Adams County': 8, 'Alamosa County': 7, 'Arapahoe County': 1, 'Archuleta County': 7, 'Baca County': 9, 'Bent County': 7, 'Boulder County': 2, 'Broomfield County': 1, 'Chaffee County': 7, 'Cheyenne County': 7, 'Clear Creek County': 1, 'Conejos County': 9, 'Costilla County': 9, 'Crowley County': 8, 'Custer County': 3, 'Delta County': 8, 'Denver County': 1, 'Dolores County': 9, 'Douglas County': 2, 'Eagle County': 5, 'Elbert County': 6, 'El Paso County': 2, 'Fremont County': 7, 'Garfield County': 8, 'Gilpin County': 1, 'Grand County': 7, 'Gunnison County': 7, 'Hinsdale County': 9, 'Huerfano County': 6, 'Kiowa County': 6, 'Kit Carson County': 7, 'La Plata County': 4, 'Larimer County': 2, 'Las Animas County': 7, 'Mesa County': 3, 'Mineral County': 3, 'Moffat County': 7, 'Montezuma County': 6, 'Montrose County': 4, 'Otero County': 4, 'Ouray County': 9, 'Park County': 7, 'Pitkin County': 7, 'Prowers County': 7, 'Pueblo County': 3, 'Rio Blanco County': 9, 'Rio Grande County': 7, 'Routt County': 7, 'Saguache County': 9, 'San Juan County': 9, 'San Miguel County': 6, 'Sedgwick County': 2, 'Summit County': 4, 'Teller County': 2, 'Weld County': 2, 'Fairfield County': 2, 'Hartford County': 1, 'Litchfield County': 4, 'Middlesex County': 8, 'New Haven County': 2, 'New London County': 2, 'Tolland County': 1, 'Windham County': 7, 'Kent County': 9, 'New Castle County': 1, 'Sussex County': 1, 'District of Columbia': 1, 'Alachua County': 2, 'Baker County': 7, 'Bay County': 3, 'Bradford County': 6, 'Brevard County': 2, 'Broward County': 1, 'Charlotte County': 8, 'Citrus County': 3, 'Collier County': 2, 'DeSoto County': 1, 'Dixie County': 6, 'Duval County': 7, 'Flagler County': 2, 'Gadsden County': 2, 'Gilchrist County': 2, 'Glades County': 6, 'Gulf County': 3, 'Hamilton County': 6, 'Hardee County': 6, 'Hendry County': 4, 'Hernando County': 1, 'Highlands County': 3, 'Hillsborough County': 2, 'Holmes County': 7, 'Indian River County': 3, 'Leon County': 8, 'Levy County': 6, 'Liberty County': 1, 'Manatee County': 2, 'Martin County': 3, 'Miami-Dade County': 1, 'Nassau County': 1, 'Okaloosa County': 3, 'Okeechobee County': 4, 'Osceola County': 9, 'Palm Beach County': 1, 'Pasco County': 1, 'Pinellas County': 1, 'Putnam County': 2, 'St. Johns County': 1, 'St. Lucie County': 2, 'Santa Rosa County': 2, 'Sarasota County': 2, 'Seminole County': 7, 'Suwannee County': 6, 'Taylor County': 6, 'Volusia County': 2, 'Wakulla County': 2, 'Walton County': 1, 'Appling County': 7, 'Atkinson County': 9, 'Bacon County': 7, 'Banks County': 8, 'Barrow County': 1, 'Bartow County': 1, 'Ben Hill County': 7, 'Berrien County': 3, 'Bleckley County': 6, 'Brantley County': 3, 'Brooks County': 7, 'Bryan County': 6, 'Bulloch County': 4, 'Burke County': 9, 'Butts County': 1, 'Camden County': 8, 'Candler County': 7, 'Catoosa County': 2, 'Charlton County': 6, 'Chatham County': 2, 'Chattahoochee County': 2, 'Chattooga County': 6, 'Clayton County': 8, 'Clinch County': 6, 'Cobb County': 1, 'Colquitt County': 6, 'Cook County': 9, 'Coweta County': 1, 'Crisp County': 6, 'Dade County': 8, 'Dawson County': 7, 'Decatur County': 9, 'Dodge County': 4, 'Dooly County': 6, 'Dougherty County': 3, 'Early County': 6, 'Echols County': 3, 'Effingham County': 7, 'Emanuel County': 7, 'Evans County': 6, 'Fannin County': 6, 'Floyd County': 3, 'Forsyth County': 2, 'Gilmer County': 7, 'Glascock County': 9, 'Glynn County': 3, 'Gordon County': 4, 'Grady County': 1, 'Gwinnett County': 1, 'Habersham County': 6, 'Hall County': 9, 'Hancock County': 3, 'Haralson County': 1, 'Harris County': 1, 'Hart County': 8, 'Heard County': 1, 'Irwin County': 7, 'Jasper County': 6, 'Jeff Davis County': 9, 'Jenkins County': 6, 'Jones County': 3, 'Lanier County': 3, 'Laurens County': 2, 'Long County': 3, 'Lumpkin County': 6, 'McDuffie County': 2, 'McIntosh County': 6, 'Meriwether County': 1, 'Mitchell County': 7, 'Murray County': 7, 'Muscogee County': 2, 'Oconee County': 4, 'Oglethorpe County': 3, 'Paulding County': 6, 'Peach County': 3, 'Pierce County': 1, 'Quitman County': 6, 'Rabun County': 7, 'Richmond County': 9, 'Rockdale County': 1, 'Schley County': 8, 'Screven County': 6, 'Spalding County': 1, 'Stephens County': 7, 'Stewart County': 8, 'Talbot County': 6, 'Taliaferro County': 8, 'Tattnall County': 6, 'Telfair County': 7, 'Terrell County': 9, 'Thomas County': 9, 'Tift County': 5, 'Toombs County': 7, 'Towns County': 9, 'Treutlen County': 7, 'Troup County': 4, 'Turner County': 3, 'Twiggs County': 3, 'Upson County': 6, 'Ware County': 5, 'Warren County': 1, 'Wayne County': 2, 'Webster County': 9, 'Wheeler County': 9, 'Whitfield County': 3, 'Wilkes County': 6, 'Wilkinson County': 8, 'Worth County': 9, 'Hawaii County': 5, 'Honolulu County': 2, 'Kalawao County': 3, 'Kauai County': 5, 'Maui County': 3, 'Ada County': 2, 'Bannock County': 3, 'Bear Lake County': 9, 'Benewah County': 6, 'Bingham County': 4, 'Blaine County': 6, 'Boise County': 2, 'Bonner County': 6, 'Bonneville County': 3, 'Boundary County': 7, 'Camas County': 9, 'Canyon County': 2, 'Caribou County': 6, 'Cassia County': 7, 'Clearwater County': 8, 'Gem County': 2, 'Gooding County': 7, 'Idaho County': 6, 'Jerome County': 7, 'Kootenai County': 3, 'Latah County': 4, 'Lemhi County': 7, 'Lewis County': 7, 'Minidoka County': 7, 'Nez Perce County': 3, 'Oneida County': 7, 'Owyhee County': 2, 'Payette County': 6, 'Power County': 6, 'Shoshone County': 6, 'Teton County': 7, 'Twin Falls County': 5, 'Valley County': 9, 'Alexander County': 2, 'Bond County': 1, 'Brown County': 2, 'Bureau County': 7, 'Cass County': 6, 'Champaign County': 6, 'Christian County': 2, 'Clinton County': 4, 'Coles County': 5, 'Cumberland County': 8, 'De Witt County': 3, 'DuPage County': 1, 'Edgar County': 6, 'Edwards County': 9, 'Ford County': 5, 'Gallatin County': 5, 'Grundy County': 8, 'Hardin County': 2, 'Henderson County': 4, 'Iroquois County': 6, 'Jersey County': 1, 'Jo Daviess County': 6, 'Kane County': 6, 'Kankakee County': 3, 'Kendall County': 1, 'Knox County': 9, 'La Salle County': 6, 'Livingston County': 1, 'McDonough County': 5, 'McHenry County': 9, 'McLean County': 8, 'Macoupin County': 1, 'Mason County': 6, 'Massac County': 7, 'Menard County': 9, 'Mercer County': 4, 'Moultrie County': 6, 'Ogle County': 4, 'Peoria County': 2, 'Piatt County': 3, 'Richland County': 6, 'Rock Island County': 2, 'Sangamon County': 3, 'Schuyler County': 6, 'Stark County': 2, 'Stephenson County': 4, 'Tazewell County': 5, 'Vermilion County': 3, 'Wabash County': 6, 'Whiteside County': 4, 'Will County': 1, 'Williamson County': 1, 'Winnebago County': 3, 'Woodford County': 2, 'Allen County': 3, 'Bartholomew County': 3, 'Blackford County': 6, 'Daviess County': 8, 'Dearborn County': 1, 'Delaware County': 1, 'Dubois County': 5, 'Elkhart County': 3, 'Fountain County': 6, 'Gibson County': 4, 'Harrison County': 5, 'Hendricks County': 1, 'Huntington County': 6, 'Jay County': 6, 'Jennings County': 6, 'Kosciusko County': 4, 'LaGrange County': 6, 'LaPorte County': 3, 'Miami County': 2, 'Noble County': 6, 'Ohio County': 3, 'Owen County': 8, 'Parke County': 6, 'Porter County': 1, 'Posey County': 2, 'Ripley County': 9, 'Rush County': 9, 'St. Joseph County': 4, 'Spencer County': 1, 'Starke County': 6, 'Steuben County': 4, 'Sullivan County': 2, 'Switzerland County': 8, 'Tippecanoe County': 3, 'Tipton County': 1, 'Vanderburgh County': 2, 'Vermillion County': 3, 'Vigo County': 3, 'Warrick County': 2, 'Wells County': 9, 'Whitley County': 7, 'Adair County': 6, 'Allamakee County': 6, 'Appanoose County': 7, 'Audubon County': 8, 'Black Hawk County': 3, 'Bremer County': 3, 'Buchanan County': 9, 'Buena Vista County': 7, 'Cedar County': 9, 'Cerro Gordo County': 5, 'Chickasaw County': 7, 'Davis County': 2, 'Des Moines County': 5, 'Dickinson County': 7, 'Dubuque County': 3, 'Emmet County': 7, 'Guthrie County': 2, 'Ida County': 8, 'Iowa County': 2, 'Keokuk County': 8, 'Kossuth County': 7, 'Linn County': 3, 'Louisa County': 8, 'Lucas County': 2, 'Lyon County': 4, 'Mahaska County': 7, 'Mills County': 9, 'Monona County': 6, 'Muscatine County': 4, \"O'Brien County\": 7, 'Page County': 6, 'Palo Alto County': 7, 'Plymouth County': 1, 'Pocahontas County': 9, 'Pottawattamie County': 2, 'Poweshiek County': 7, 'Ringgold County': 9, 'Sac County': 9, 'Sioux County': 3, 'Story County': 3, 'Tama County': 6, 'Wapello County': 5, 'Winneshiek County': 7, 'Woodbury County': 3, 'Wright County': 6, 'Anderson County': 7, 'Atchison County': 9, 'Barber County': 9, 'Barton County': 6, 'Bourbon County': 2, 'Chase County': 9, 'Chautauqua County': 4, 'Cloud County': 7, 'Coffey County': 6, 'Comanche County': 7, 'Cowley County': 4, 'Doniphan County': 3, 'Elk County': 7, 'Ellis County': 1, 'Ellsworth County': 7, 'Finney County': 5, 'Geary County': 4, 'Gove County': 9, 'Gray County': 6, 'Greeley County': 8, 'Greenwood County': 4, 'Harper County': 9, 'Harvey County': 2, 'Haskell County': 6, 'Hodgeman County': 9, 'Jewell County': 9, 'Kearny County': 9, 'Kingman County': 2, 'Labette County': 7, 'Lane County': 2, 'Leavenworth County': 1, 'McPherson County': 9, 'Meade County': 3, 'Morris County': 6, 'Morton County': 3, 'Nemaha County': 7, 'Neosho County': 7, 'Ness County': 9, 'Norton County': 7, 'Osage County': 2, 'Osborne County': 9, 'Ottawa County': 6, 'Pawnee County': 2, 'Pottawatomie County': 4, 'Pratt County': 7, 'Rawlins County': 9, 'Reno County': 4, 'Republic County': 9, 'Rice County': 4, 'Riley County': 3, 'Rooks County': 9, 'Seward County': 2, 'Shawnee County': 3, 'Sheridan County': 7, 'Sherman County': 9, 'Smith County': 3, 'Stafford County': 1, 'Stanton County': 9, 'Stevens County': 2, 'Sumner County': 1, 'Trego County': 9, 'Wabaunsee County': 3, 'Wallace County': 9, 'Wichita County': 3, 'Wilson County': 1, 'Woodson County': 9, 'Wyandotte County': 1, 'Ballard County': 9, 'Barren County': 6, 'Bath County': 8, 'Bell County': 2, 'Boyd County': 9, 'Boyle County': 7, 'Bracken County': 1, 'Breathitt County': 7, 'Breckinridge County': 8, 'Bullitt County': 1, 'Caldwell County': 1, 'Calloway County': 7, 'Campbell County': 5, 'Carlisle County': 9, 'Carter County': 3, 'Casey County': 9, 'Edmonson County': 3, 'Elliott County': 9, 'Estill County': 6, 'Fleming County': 7, 'Garrard County': 6, 'Graves County': 7, 'Grayson County': 9, 'Green County': 2, 'Greenup County': 2, 'Harlan County': 9, 'Hickman County': 1, 'Hopkins County': 6, 'Jessamine County': 2, 'Kenton County': 1, 'Knott County': 9, 'Larue County': 3, 'Laurel County': 5, 'Leslie County': 9, 'Letcher County': 9, 'McCracken County': 5, 'McCreary County': 9, 'Magoffin County': 9, 'Menifee County': 9, 'Metcalfe County': 9, 'Muhlenberg County': 6, 'Nelson County': 3, 'Nicholas County': 6, 'Oldham County': 2, 'Owsley County': 9, 'Pendleton County': 8, 'Powell County': 6, 'Robertson County': 3, 'Rockcastle County': 7, 'Rowan County': 1, 'Simpson County': 2, 'Todd County': 9, 'Trigg County': 2, 'Trimble County': 1, 'Wolfe County': 9, 'Acadia Parish': 2, 'Allen Parish': 6, 'Ascension Parish': 2, 'Assumption Parish': 6, 'Avoyelles Parish': 6, 'Beauregard Parish': 6, 'Bienville Parish': 6, 'Bossier Parish': 2, 'Caddo Parish': 2, 'Calcasieu Parish': 3, 'Caldwell Parish': 8, 'Cameron Parish': 3, 'Catahoula Parish': 9, 'Claiborne Parish': 6, 'Concordia Parish': 7, 'De Soto Parish': 2, 'East Baton Rouge Parish': 2, 'East Carroll Parish': 7, 'East Feliciana Parish': 2, 'Evangeline Parish': 6, 'Franklin Parish': 7, 'Grant Parish': 3, 'Iberia Parish': 2, 'Iberville Parish': 2, 'Jackson Parish': 6, 'Jefferson Parish': 1, 'Jefferson Davis Parish': 6, 'Lafayette Parish': 2, 'Lafourche Parish': 3, 'La Salle Parish': 6, 'Lincoln Parish': 4, 'Livingston Parish': 2, 'Madison Parish': 7, 'Morehouse Parish': 6, 'Natchitoches Parish': 6, 'Orleans Parish': 1, 'Ouachita Parish': 3, 'Plaquemines Parish': 1, 'Pointe Coupee Parish': 2, 'Rapides Parish': 3, 'Red River Parish': 8, 'Richland Parish': 6, 'Sabine Parish': 6, 'St. Bernard Parish': 1, 'St. Charles Parish': 1, 'St. Helena Parish': 2, 'St. James Parish': 1, 'St. John the Baptist Parish': 1, 'St. Landry Parish': 4, 'St. Martin Parish': 2, 'St. Mary Parish': 4, 'St. Tammany Parish': 1, 'Tangipahoa Parish': 3, 'Tensas Parish': 9, 'Terrebonne Parish': 3, 'Union Parish': 3, 'Vermilion Parish': 2, 'Vernon Parish': 5, 'Washington Parish': 6, 'Webster Parish': 2, 'West Baton Rouge Parish': 2, 'West Carroll Parish': 9, 'West Feliciana Parish': 2, 'Winn Parish': 6, 'Androscoggin County': 3, 'Aroostook County': 7, 'Kennebec County': 4, 'Oxford County': 6, 'Penobscot County': 3, 'Piscataquis County': 8, 'Sagadahoc County': 2, 'Somerset County': 4, 'Waldo County': 6, 'York County': 1, 'Allegany County': 7, 'Anne Arundel County': 1, 'Baltimore County': 1, 'Calvert County': 1, 'Caroline County': 1, 'Cecil County': 1, 'Charles County': 1, 'Dorchester County': 2, 'Frederick County': 3, 'Garrett County': 6, 'Harford County': 1, \"Prince George's County\": 1, \"Queen Anne's County\": 1, \"St. Mary's County\": 3, 'Wicomico County': 2, 'Worcester County': 2, 'Baltimore city': 1, 'Barnstable County': 3, 'Berkshire County': 3, 'Bristol County': 1, 'Dukes County': 7, 'Essex County': 6, 'Hampden County': 2, 'Hampshire County': 3, 'Nantucket County': 7, 'Norfolk County': 1, 'Suffolk County': 1, 'Alcona County': 9, 'Alger County': 7, 'Allegan County': 4, 'Alpena County': 7, 'Antrim County': 9, 'Arenac County': 8, 'Baraga County': 9, 'Barry County': 6, 'Benzie County': 9, 'Branch County': 6, 'Charlevoix County': 7, 'Cheboygan County': 7, 'Chippewa County': 3, 'Clare County': 6, 'Eaton County': 2, 'Genesee County': 4, 'Gladwin County': 6, 'Gogebic County': 7, 'Grand Traverse County': 5, 'Gratiot County': 6, 'Hillsdale County': 6, 'Houghton County': 5, 'Huron County': 4, 'Ingham County': 2, 'Ionia County': 4, 'Iosco County': 7, 'Iron County': 9, 'Isabella County': 4, 'Kalamazoo County': 2, 'Kalkaska County': 7, 'Keweenaw County': 9, 'Lapeer County': 1, 'Leelanau County': 9, 'Lenawee County': 4, 'Luce County': 7, 'Mackinac County': 7, 'Macomb County': 1, 'Manistee County': 7, 'Marquette County': 8, 'Mecosta County': 6, 'Menominee County': 8, 'Midland County': 3, 'Missaukee County': 9, 'Montcalm County': 2, 'Montmorency County': 9, 'Muskegon County': 3, 'Newaygo County': 6, 'Oakland County': 1, 'Oceana County': 6, 'Ogemaw County': 9, 'Ontonagon County': 9, 'Oscoda County': 9, 'Otsego County': 7, 'Presque Isle County': 7, 'Roscommon County': 7, 'Saginaw County': 3, 'Sanilac County': 6, 'Schoolcraft County': 7, 'Shiawassee County': 4, 'Tuscola County': 6, 'Washtenaw County': 2, 'Wexford County': 7, 'Aitkin County': 8, 'Anoka County': 1, 'Becker County': 6, 'Beltrami County': 7, 'Big Stone County': 9, 'Blue Earth County': 3, 'Carlton County': 2, 'Carver County': 1, 'Chisago County': 1, 'Cottonwood County': 7, 'Crow Wing County': 4, 'Dakota County': 3, 'Faribault County': 6, 'Fillmore County': 8, 'Freeborn County': 7, 'Goodhue County': 4, 'Hennepin County': 1, 'Hubbard County': 7, 'Isanti County': 1, 'Itasca County': 6, 'Kanabec County': 6, 'Kandiyohi County': 4, 'Kittson County': 9, 'Koochiching County': 6, 'Lac qui Parle County': 9, 'Lake of the Woods County': 9, 'Le Sueur County': 1, 'McLeod County': 6, 'Mahnomen County': 8, 'Meeker County': 6, 'Mille Lacs County': 1, 'Morrison County': 6, 'Mower County': 4, 'Nicollet County': 3, 'Nobles County': 7, 'Norman County': 8, 'Olmsted County': 3, 'Otter Tail County': 6, 'Pennington County': 3, 'Pine County': 6, 'Pipestone County': 6, 'Ramsey County': 7, 'Red Lake County': 8, 'Redwood County': 7, 'Renville County': 9, 'Rock County': 3, 'Roseau County': 7, 'St. Louis County': 1, 'Sherburne County': 1, 'Sibley County': 1, 'Stearns County': 3, 'Steele County': 8, 'Swift County': 7, 'Traverse County': 9, 'Wabasha County': 3, 'Wadena County': 7, 'Waseca County': 6, 'Watonwan County': 6, 'Wilkin County': 6, 'Winona County': 4, 'Yellow Medicine County': 9, 'Alcorn County': 7, 'Amite County': 8, 'Attala County': 6, 'Bolivar County': 7, 'Claiborne County': 6, 'Coahoma County': 7, 'Copiah County': 2, 'Forrest County': 3, 'George County': 6, 'Grenada County': 7, 'Hinds County': 2, 'Humphreys County': 6, 'Issaquena County': 8, 'Itawamba County': 7, 'Jefferson Davis County': 8, 'Kemper County': 9, 'Leake County': 6, 'Leflore County': 5, 'Neshoba County': 7, 'Noxubee County': 7, 'Oktibbeha County': 5, 'Panola County': 6, 'Pearl River County': 6, 'Pontotoc County': 7, 'Prentiss County': 7, 'Rankin County': 2, 'Sharkey County': 8, 'Sunflower County': 7, 'Tallahatchie County': 7, 'Tate County': 1, 'Tippah County': 6, 'Tishomingo County': 8, 'Tunica County': 1, 'Walthall County': 9, 'Yalobusha County': 7, 'Yazoo County': 2, 'Andrew County': 3, 'Audrain County': 6, 'Bates County': 1, 'Bollinger County': 3, 'Callaway County': 3, 'Cape Girardeau County': 3, 'Chariton County': 9, 'Cole County': 3, 'Cooper County': 6, 'Dent County': 7, 'Dunklin County': 7, 'Gasconade County': 6, 'Gentry County': 8, 'Hickory County': 8, 'Holt County': 7, 'Howell County': 7, 'Laclede County': 6, 'McDonald County': 2, 'Maries County': 8, 'Moniteau County': 3, 'New Madrid County': 7, 'Nodaway County': 6, 'Oregon County': 9, 'Ozark County': 9, 'Pemiscot County': 7, 'Pettis County': 4, 'Phelps County': 7, 'Platte County': 7, 'Ralls County': 9, 'Ray County': 1, 'Reynolds County': 9, 'St. Charles County': 1, 'Ste. Genevieve County': 6, 'St. Francois County': 4, 'Scotland County': 6, 'Shannon County': 6, 'Stoddard County': 6, 'Taney County': 4, 'Texas County': 7, 'Vernon County': 6, 'St. Louis city': 1, 'Beaverhead County': 7, 'Big Horn County': 9, 'Broadwater County': 9, 'Carbon County': 7, 'Cascade County': 3, 'Chouteau County': 8, 'Daniels County': 9, 'Deer Lodge County': 7, 'Fallon County': 9, 'Fergus County': 7, 'Flathead County': 5, 'Glacier County': 7, 'Golden Valley County': 9, 'Granite County': 8, 'Hill County': 6, 'Judith Basin County': 8, 'Lewis and Clark County': 5, 'McCone County': 9, 'Meagher County': 9, 'Missoula County': 3, 'Musselshell County': 8, 'Petroleum County': 9, 'Pondera County': 7, 'Powder River County': 9, 'Ravalli County': 6, 'Roosevelt County': 7, 'Rosebud County': 9, 'Sanders County': 8, 'Silver Bow County': 5, 'Stillwater County': 8, 'Sweet Grass County': 9, 'Toole County': 7, 'Treasure County': 8, 'Wheatland County': 9, 'Wibaux County': 9, 'Yellowstone County': 3, 'Antelope County': 9, 'Arthur County': 9, 'Banner County': 9, 'Box Butte County': 7, 'Buffalo County': 8, 'Burt County': 8, 'Cherry County': 7, 'Colfax County': 7, 'Cuming County': 7, 'Dawes County': 7, 'Deuel County': 9, 'Dixon County': 3, 'Dundy County': 9, 'Frontier County': 9, 'Furnas County': 9, 'Gage County': 6, 'Garden County': 9, 'Gosper County': 9, 'Hayes County': 9, 'Hitchcock County': 9, 'Hooker County': 9, 'Kearney County': 7, 'Keith County': 7, 'Keya Paha County': 9, 'Kimball County': 8, 'Lancaster County': 9, 'Loup County': 9, 'Merrick County': 3, 'Morrill County': 9, 'Nance County': 8, 'Nuckolls County': 9, 'Otoe County': 6, 'Perkins County': 8, 'Red Willow County': 7, 'Richardson County': 7, 'Sarpy County': 2, 'Saunders County': 2, 'Scotts Bluff County': 5, 'Thayer County': 9, 'Thurston County': 2, 'Churchill County': 6, 'Elko County': 5, 'Esmeralda County': 9, 'Eureka County': 9, 'Lander County': 7, 'Nye County': 4, 'Pershing County': 9, 'Storey County': 2, 'Washoe County': 2, 'White Pine County': 7, 'Carson City': 3, 'Belknap County': 4, 'Cheshire County': 4, 'Coos County': 5, 'Grafton County': 5, 'Merrimack County': 4, 'Rockingham County': 3, 'Strafford County': 1, 'Atlantic County': 2, 'Bergen County': 1, 'Burlington County': 1, 'Cape May County': 3, 'Gloucester County': 1, 'Hudson County': 1, 'Hunterdon County': 1, 'Monmouth County': 1, 'Ocean County': 1, 'Passaic County': 1, 'Salem County': 1, 'Bernalillo County': 2, 'Catron County': 9, 'Chaves County': 5, 'Cibola County': 6, 'Curry County': 7, 'De Baca County': 9, 'Dona Ana County': 3, 'Eddy County': 9, 'Guadalupe County': 1, 'Harding County': 9, 'Hidalgo County': 2, 'Lea County': 5, 'Los Alamos County': 6, 'Luna County': 6, 'McKinley County': 5, 'Mora County': 9, 'Quay County': 7, 'Rio Arriba County': 4, 'Sandoval County': 2, 'Santa Fe County': 3, 'Socorro County': 6, 'Taos County': 7, 'Torrance County': 2, 'Valencia County': 2, 'Albany County': 4, 'Bronx County': 1, 'Broome County': 2, 'Cattaraugus County': 4, 'Cayuga County': 4, 'Chemung County': 3, 'Chenango County': 6, 'Cortland County': 4, 'Dutchess County': 1, 'Erie County': 2, 'Herkimer County': 2, 'New York County': 1, 'Niagara County': 1, 'Onondaga County': 2, 'Ontario County': 1, 'Orleans County': 7, 'Oswego County': 2, 'Queens County': 1, 'Rensselaer County': 2, 'Rockland County': 1, 'St. Lawrence County': 4, 'Saratoga County': 2, 'Schenectady County': 2, 'Schoharie County': 2, 'Seneca County': 4, 'Tioga County': 6, 'Tompkins County': 3, 'Ulster County': 3, 'Westchester County': 1, 'Wyoming County': 6, 'Yates County': 1, 'Alamance County': 3, 'Alleghany County': 6, 'Anson County': 6, 'Ashe County': 7, 'Avery County': 8, 'Beaufort County': 3, 'Bertie County': 7, 'Bladen County': 6, 'Brunswick County': 6, 'Buncombe County': 2, 'Cabarrus County': 1, 'Carteret County': 4, 'Caswell County': 8, 'Catawba County': 2, 'Chowan County': 6, 'Columbus County': 6, 'Craven County': 3, 'Currituck County': 1, 'Dare County': 4, 'Davidson County': 1, 'Davie County': 2, 'Duplin County': 6, 'Durham County': 2, 'Edgecombe County': 3, 'Gaston County': 1, 'Gates County': 1, 'Granville County': 4, 'Guilford County': 2, 'Halifax County': 6, 'Harnett County': 4, 'Haywood County': 6, 'Hertford County': 6, 'Hoke County': 2, 'Hyde County': 9, 'Iredell County': 1, 'Johnston County': 9, 'Lenoir County': 4, 'McDowell County': 7, 'Mecklenburg County': 7, 'Moore County': 7, 'Nash County': 3, 'New Hanover County': 2, 'Northampton County': 8, 'Onslow County': 3, 'Pamlico County': 3, 'Pasquotank County': 4, 'Pender County': 2, 'Perquimans County': 8, 'Person County': 2, 'Pitt County': 3, 'Robeson County': 4, 'Rutherford County': 1, 'Sampson County': 6, 'Stanly County': 6, 'Stokes County': 2, 'Surry County': 8, 'Swain County': 8, 'Transylvania County': 6, 'Tyrrell County': 9, 'Vance County': 4, 'Wake County': 1, 'Watauga County': 5, 'Yadkin County': 2, 'Yancey County': 8, 'Barnes County': 6, 'Benson County': 9, 'Billings County': 9, 'Bottineau County': 9, 'Bowman County': 9, 'Burleigh County': 3, 'Cavalier County': 9, 'Dickey County': 9, 'Divide County': 9, 'Dunn County': 6, 'Emmons County': 8, 'Foster County': 9, 'Grand Forks County': 3, 'Griggs County': 9, 'Hettinger County': 9, 'Kidder County': 8, 'LaMoure County': 9, 'McKenzie County': 9, 'Mountrail County': 9, 'Oliver County': 3, 'Pembina County': 9, 'Ransom County': 8, 'Rolette County': 9, 'Sargent County': 9, 'Slope County': 9, 'Stutsman County': 7, 'Towner County': 9, 'Traill County': 8, 'Walsh County': 6, 'Ward County': 6, 'Williams County': 6, 'Ashland County': 7, 'Ashtabula County': 4, 'Athens County': 4, 'Auglaize County': 4, 'Belmont County': 3, 'Clermont County': 1, 'Columbiana County': 4, 'Coshocton County': 6, 'Cuyahoga County': 1, 'Darke County': 6, 'Defiance County': 4, 'Gallia County': 6, 'Geauga County': 1, 'Guernsey County': 6, 'Highland County': 8, 'Hocking County': 1, 'Licking County': 1, 'Lorain County': 1, 'Mahoning County': 2, 'Medina County': 1, 'Meigs County': 8, 'Morrow County': 6, 'Muskingum County': 4, 'Pickaway County': 1, 'Portage County': 4, 'Preble County': 6, 'Ross County': 4, 'Sandusky County': 4, 'Scioto County': 4, 'Trumbull County': 2, 'Tuscarawas County': 4, 'Van Wert County': 6, 'Vinton County': 8, 'Wood County': 4, 'Wyandot County': 7, 'Alfalfa County': 9, 'Atoka County': 9, 'Beaver County': 7, 'Beckham County': 7, 'Caddo County': 6, 'Canadian County': 1, 'Cimarron County': 9, 'Coal County': 9, 'Cotton County': 3, 'Craig County': 2, 'Creek County': 2, 'Dewey County': 9, 'Garvin County': 6, 'Greer County': 7, 'Harmon County': 9, 'Hughes County': 7, 'Kay County': 5, 'Kingfisher County': 6, 'Latimer County': 7, 'Le Flore County': 2, 'Love County': 9, 'McClain County': 1, 'McCurtain County': 7, 'Major County': 9, 'Mayes County': 6, 'Muskogee County': 4, 'Nowata County': 6, 'Okfuskee County': 6, 'Oklahoma County': 1, 'Okmulgee County': 2, 'Payne County': 4, 'Pittsburg County': 5, 'Pushmataha County': 9, 'Roger Mills County': 9, 'Rogers County': 2, 'Sequoyah County': 2, 'Tillman County': 6, 'Tulsa County': 2, 'Wagoner County': 2, 'Washita County': 7, 'Woods County': 7, 'Woodward County': 7, 'Clackamas County': 1, 'Clatsop County': 4, 'Crook County': 9, 'Deschutes County': 3, 'Gilliam County': 9, 'Harney County': 7, 'Hood River County': 6, 'Josephine County': 3, 'Klamath County': 5, 'Malheur County': 6, 'Multnomah County': 1, 'Tillamook County': 6, 'Umatilla County': 4, 'Wallowa County': 9, 'Wasco County': 6, 'Yamhill County': 1, 'Allegheny County': 1, 'Armstrong County': 2, 'Bedford County': 2, 'Berks County': 2, 'Blair County': 3, 'Bucks County': 1, 'Cambria County': 3, 'Cameron County': 2, 'Centre County': 3, 'Chester County': 3, 'Clarion County': 6, 'Clearfield County': 4, 'Dauphin County': 2, 'Forest County': 9, 'Huntingdon County': 6, 'Indiana County': 4, 'Juniata County': 6, 'Lackawanna County': 2, 'Lebanon County': 3, 'Lehigh County': 2, 'Luzerne County': 2, 'Lycoming County': 3, 'McKean County': 7, 'Mifflin County': 4, 'Montour County': 3, 'Northumberland County': 9, 'Philadelphia County': 1, 'Potter County': 2, 'Schuylkill County': 4, 'Snyder County': 7, 'Susquehanna County': 6, 'Venango County': 4, 'Westmoreland County': 6, 'Newport County': 1, 'Providence County': 1, 'Abbeville County': 6, 'Aiken County': 2, 'Allendale County': 6, 'Bamberg County': 7, 'Barnwell County': 6, 'Berkeley County': 2, 'Charleston County': 2, 'Chesterfield County': 1, 'Clarendon County': 6, 'Colleton County': 6, 'Darlington County': 3, 'Dillon County': 6, 'Edgefield County': 2, 'Florence County': 9, 'Georgetown County': 4, 'Greenville County': 2, 'Hampton County': 6, 'Horry County': 2, 'Kershaw County': 2, 'Lexington County': 2, 'McCormick County': 8, 'Marlboro County': 6, 'Newberry County': 6, 'Orangeburg County': 4, 'Saluda County': 2, 'Spartanburg County': 2, 'Williamsburg County': 6, 'Aurora County': 9, 'Beadle County': 7, 'Bennett County': 9, 'Bon Homme County': 9, 'Brookings County': 5, 'Brule County': 9, 'Charles Mix County': 9, 'Codington County': 5, 'Corson County': 9, 'Davison County': 7, 'Day County': 9, 'Edmunds County': 9, 'Fall River County': 6, 'Faulk County': 9, 'Gregory County': 9, 'Haakon County': 8, 'Hamlin County': 9, 'Hand County': 9, 'Hanson County': 8, 'Hutchinson County': 6, 'Jerauld County': 9, 'Kingsbury County': 9, 'Lyman County': 9, 'McCook County': 3, 'Mellette County': 9, 'Miner County': 8, 'Minnehaha County': 3, 'Moody County': 8, 'Roberts County': 9, 'Sanborn County': 9, 'Spink County': 9, 'Stanley County': 9, 'Sully County': 9, 'Tripp County': 7, 'Walworth County': 4, 'Yankton County': 7, 'Ziebach County': 8, 'Bledsoe County': 8, 'Cannon County': 1, 'Cheatham County': 1, 'Cocke County': 6, 'Crockett County': 7, 'Dickson County': 1, 'Dyer County': 5, 'Fentress County': 9, 'Giles County': 3, 'Grainger County': 2, 'Hamblen County': 3, 'Hardeman County': 9, 'Hawkins County': 2, 'Loudon County': 2, 'McMinn County': 4, 'McNairy County': 6, 'Maury County': 1, 'Obion County': 7, 'Overton County': 7, 'Pickett County': 9, 'Rhea County': 6, 'Roane County': 6, 'Sequatchie County': 2, 'Trousdale County': 1, 'Unicoi County': 3, 'Weakley County': 7, 'Andrews County': 6, 'Angelina County': 5, 'Aransas County': 2, 'Archer County': 3, 'Atascosa County': 1, 'Austin County': 1, 'Bailey County': 7, 'Bandera County': 1, 'Bastrop County': 1, 'Baylor County': 8, 'Bee County': 6, 'Bexar County': 1, 'Blanco County': 8, 'Borden County': 8, 'Bosque County': 6, 'Bowie County': 3, 'Brazoria County': 1, 'Brazos County': 3, 'Brewster County': 7, 'Briscoe County': 9, 'Burleson County': 3, 'Burnet County': 6, 'Callahan County': 3, 'Camp County': 6, 'Carson County': 2, 'Castro County': 6, 'Childress County': 7, 'Cochran County': 9, 'Coke County': 8, 'Coleman County': 6, 'Collin County': 1, 'Collingsworth County': 9, 'Colorado County': 6, 'Comal County': 1, 'Concho County': 8, 'Cooke County': 6, 'Coryell County': 2, 'Cottle County': 9, 'Crane County': 6, 'Crosby County': 2, 'Culberson County': 9, 'Dallam County': 7, 'Deaf Smith County': 6, 'Denton County': 1, 'DeWitt County': 6, 'Dickens County': 8, 'Dimmit County': 6, 'Donley County': 8, 'Eastland County': 6, 'Ector County': 3, 'Erath County': 4, 'Falls County': 2, 'Fisher County': 8, 'Foard County': 9, 'Fort Bend County': 1, 'Freestone County': 7, 'Frio County': 6, 'Gaines County': 7, 'Galveston County': 1, 'Garza County': 6, 'Gillespie County': 7, 'Glasscock County': 8, 'Goliad County': 3, 'Gonzales County': 6, 'Gregg County': 3, 'Grimes County': 6, 'Hansford County': 7, 'Hartley County': 7, 'Hays County': 1, 'Hemphill County': 7, 'Hockley County': 6, 'Hood County': 1, 'Hudspeth County': 2, 'Hunt County': 1, 'Irion County': 3, 'Jack County': 6, 'Jim Hogg County': 6, 'Jim Wells County': 4, 'Karnes County': 6, 'Kaufman County': 1, 'Kenedy County': 9, 'Kerr County': 4, 'Kimble County': 7, 'King County': 1, 'Kinney County': 7, 'Kleberg County': 4, 'Lamb County': 6, 'Lampasas County': 2, 'Lavaca County': 6, 'Lipscomb County': 9, 'Live Oak County': 8, 'Llano County': 7, 'Loving County': 9, 'Lubbock County': 2, 'Lynn County': 2, 'McCulloch County': 7, 'McLennan County': 2, 'McMullen County': 9, 'Matagorda County': 4, 'Maverick County': 5, 'Milam County': 6, 'Montague County': 6, 'Motley County': 9, 'Nacogdoches County': 5, 'Navarro County': 4, 'Nolan County': 6, 'Nueces County': 2, 'Ochiltree County': 7, 'Palo Pinto County': 6, 'Parker County': 1, 'Parmer County': 7, 'Pecos County': 7, 'Presidio County': 7, 'Rains County': 8, 'Randall County': 2, 'Reagan County': 6, 'Real County': 9, 'Red River County': 6, 'Reeves County': 7, 'Refugio County': 6, 'Rockwall County': 1, 'Runnels County': 6, 'Rusk County': 6, 'Sabine County': 8, 'San Augustine County': 9, 'San Jacinto County': 8, 'San Patricio County': 2, 'San Saba County': 7, 'Schleicher County': 8, 'Scurry County': 7, 'Shackelford County': 8, 'Somervell County': 1, 'Starr County': 4, 'Sterling County': 8, 'Stonewall County': 9, 'Sutton County': 7, 'Swisher County': 6, 'Tarrant County': 1, 'Terry County': 6, 'Throckmorton County': 9, 'Titus County': 7, 'Tom Green County': 3, 'Travis County': 1, 'Tyler County': 9, 'Upshur County': 7, 'Upton County': 8, 'Uvalde County': 6, 'Val Verde County': 5, 'Van Zandt County': 6, 'Victoria County': 3, 'Waller County': 1, 'Webb County': 2, 'Wharton County': 4, 'Wilbarger County': 6, 'Willacy County': 6, 'Winkler County': 6, 'Wise County': 7, 'Yoakum County': 7, 'Young County': 7, 'Zapata County': 6, 'Zavala County': 7, 'Box Elder County': 2, 'Cache County': 3, 'Daggett County': 9, 'Duchesne County': 7, 'Emery County': 7, 'Juab County': 2, 'Millard County': 7, 'Piute County': 9, 'Rich County': 8, 'Salt Lake County': 1, 'Sanpete County': 6, 'Tooele County': 1, 'Uintah County': 7, 'Utah County': 2, 'Wasatch County': 6, 'Weber County': 2, 'Addison County': 6, 'Bennington County': 6, 'Caledonia County': 7, 'Chittenden County': 3, 'Grand Isle County': 3, 'Lamoille County': 8, 'Rutland County': 4, 'Windsor County': 7, 'Accomack County': 8, 'Albemarle County': 3, 'Amelia County': 1, 'Amherst County': 2, 'Appomattox County': 2, 'Arlington County': 1, 'Augusta County': 3, 'Bland County': 8, 'Botetourt County': 2, 'Buckingham County': 3, 'Charles City County': 1, 'Culpeper County': 1, 'Dickenson County': 9, 'Dinwiddie County': 1, 'Fairfax County': 1, 'Fauquier County': 1, 'Fluvanna County': 3, 'Goochland County': 1, 'Greensville County': 6, 'Hanover County': 1, 'Henrico County': 1, 'Isle of Wight County': 1, 'James City County': 1, 'King and Queen County': 8, 'King George County': 6, 'King William County': 1, 'Loudoun County': 1, 'Lunenburg County': 9, 'Mathews County': 1, 'New Kent County': 1, 'Nottoway County': 6, 'Patrick County': 8, 'Pittsylvania County': 4, 'Powhatan County': 1, 'Prince Edward County': 6, 'Prince George County': 1, 'Prince William County': 1, 'Rappahannock County': 1, 'Roanoke County': 2, 'Rockbridge County': 6, 'Shenandoah County': 6, 'Smyth County': 7, 'Southampton County': 6, 'Spotsylvania County': 1, 'Wythe County': 6, 'Alexandria city': 1, 'Bedford city': 2, 'Bristol city': 2, 'Buena Vista city': 6, 'Charlottesville city': 3, 'Chesapeake city': 1, 'Colonial Heights city': 1, 'Covington city': 6, 'Danville city': 4, 'Emporia city': 6, 'Fairfax city': 1, 'Falls Church city': 1, 'Franklin city': 6, 'Fredericksburg city': 1, 'Galax city': 7, 'Hampton city': 1, 'Harrisonburg city': 3, 'Hopewell city': 1, 'Lexington city': 6, 'Lynchburg city': 2, 'Manassas city': 1, 'Manassas Park city': 1, 'Martinsville city': 4, 'Newport News city': 1, 'Norfolk city': 1, 'Norton city': 7, 'Petersburg city': 1, 'Poquoson city': 1, 'Portsmouth city': 1, 'Radford city': 3, 'Richmond city': 1, 'Roanoke city': 2, 'Salem city': 2, 'Staunton city': 3, 'Suffolk city': 1, 'Virginia Beach city': 1, 'Waynesboro city': 3, 'Williamsburg city': 1, 'Winchester city': 3, 'Asotin County': 3, 'Chelan County': 3, 'Clallam County': 5, 'Cowlitz County': 3, 'Ferry County': 9, 'Grays Harbor County': 4, 'Island County': 4, 'Kitsap County': 2, 'Kittitas County': 4, 'Klickitat County': 6, 'Okanogan County': 6, 'Pacific County': 7, 'Pend Oreille County': 2, 'Skagit County': 3, 'Skamania County': 1, 'Snohomish County': 1, 'Spokane County': 2, 'Wahkiakum County': 8, 'Walla Walla County': 3, 'Whatcom County': 3, 'Whitman County': 4, 'Yakima County': 3, 'Braxton County': 8, 'Brooke County': 3, 'Cabell County': 2, 'Doddridge County': 9, 'Greenbrier County': 6, 'Hardy County': 6, 'Kanawha County': 3, 'Mingo County': 7, 'Monongalia County': 3, 'Pleasants County': 6, 'Preston County': 3, 'Raleigh County': 3, 'Ritchie County': 8, 'Summers County': 6, 'Tucker County': 8, 'Wetzel County': 6, 'Wirt County': 3, 'Barron County': 6, 'Bayfield County': 8, 'Burnett County': 8, 'Calumet County': 3, 'Dane County': 2, 'Door County': 6, 'Eau Claire County': 3, 'Fond du Lac County': 3, 'Green Lake County': 6, 'Juneau County': 7, 'Kenosha County': 1, 'Kewaunee County': 2, 'La Crosse County': 3, 'Langlade County': 6, 'Manitowoc County': 4, 'Marathon County': 3, 'Marinette County': 6, 'Milwaukee County': 1, 'Oconto County': 2, 'Outagamie County': 3, 'Ozaukee County': 1, 'Pepin County': 8, 'Price County': 9, 'Racine County': 3, 'St. Croix County': 1, 'Sauk County': 4, 'Sawyer County': 7, 'Shawano County': 6, 'Sheboygan County': 3, 'Trempealeau County': 6, 'Vilas County': 9, 'Washburn County': 7, 'Waukesha County': 1, 'Waupaca County': 6, 'Waushara County': 6, 'Converse County': 6, 'Goshen County': 7, 'Hot Springs County': 7, 'Laramie County': 3, 'Natrona County': 3, 'Niobrara County': 9, 'Sublette County': 9, 'Sweetwater County': 5, 'Uinta County': 7, 'Washakie County': 7, 'Weston County': 7, 'Adjuntas Municipio': 6, 'Aguada Municipio': 2, 'Aguadilla Municipio': 2, 'Aguas Buenas Municipio': 1, 'Aibonito Municipio': 1, 'Anasco Municipio': 2, 'Arecibo Municipio': 3, 'Arroyo Municipio': 3, 'Barceloneta Municipio': 1, 'Barranquitas Municipio': 1, 'Bayamon Municipio': 1, 'Cabo Rojo Municipio': 3, 'Caguas Municipio': 1, 'Camuy Municipio': 3, 'Canovanas Municipio': 1, 'Carolina Municipio': 1, 'Catano Municipio': 1, 'Cayey Municipio': 1, 'Ceiba Municipio': 1, 'Ciales Municipio': 1, 'Cidra Municipio': 1, 'Coamo Municipio': 4, 'Comerio Municipio': 1, 'Corozal Municipio': 1, 'Culebra Municipio': 9, 'Dorado Municipio': 1, 'Fajardo Municipio': 1, 'Florida Municipio': 1, 'Guanica Municipio': 2, 'Guayama Municipio': 3, 'Guayanilla Municipio': 2, 'Guaynabo Municipio': 1, 'Gurabo Municipio': 1, 'Hatillo Municipio': 3, 'Hormigueros Municipio': 3, 'Humacao Municipio': 1, 'Isabela Municipio': 2, 'Jayuya Municipio': 6, 'Juana Diaz Municipio': 2, 'Juncos Municipio': 1, 'Lajas Municipio': 3, 'Lares Municipio': 2, 'Las Marias Municipio': 6, 'Las Piedras Municipio': 1, 'Loiza Municipio': 1, 'Luquillo Municipio': 1, 'Manati Municipio': 1, 'Maricao Municipio': 6, 'Maunabo Municipio': 1, 'Mayaguez Municipio': 3, 'Moca Municipio': 2, 'Morovis Municipio': 1, 'Naguabo Municipio': 1, 'Naranjito Municipio': 1, 'Orocovis Municipio': 1, 'Patillas Municipio': 3, 'Penuelas Municipio': 2, 'Ponce Municipio': 2, 'Quebradillas Municipio': 3, 'Rincon Municipio': 2, 'Rio Grande Municipio': 1, 'Sabana Grande Municipio': 3, 'Salinas Municipio': 4, 'San German Municipio': 3, 'San Juan Municipio': 1, 'San Lorenzo Municipio': 1, 'San Sebastian Municipio': 2, 'Santa Isabel Municipio': 4, 'Toa Alta Municipio': 1, 'Toa Baja Municipio': 1, 'Trujillo Alto Municipio': 1, 'Utuado Municipio': 2, 'Vega Alta Municipio': 1, 'Vega Baja Municipio': 1, 'Vieques Municipio': 7, 'Villalba Municipio': 2, 'Yabucoa Municipio': 1, 'Yauco Municipio': 2}\n"
          ],
          "name": "stdout"
        }
      ]
    },
    {
      "cell_type": "code",
      "metadata": {
        "id": "BP-FLEP0YVbp",
        "colab_type": "code",
        "outputId": "6546f1ab-25d6-4b7c-e776-8ef2cefed43c",
        "colab": {
          "base_uri": "https://localhost:8080/",
          "height": 34
        }
      },
      "source": [
        "df3.shape"
      ],
      "execution_count": 0,
      "outputs": [
        {
          "output_type": "execute_result",
          "data": {
            "text/plain": [
              "(6978, 26)"
            ]
          },
          "metadata": {
            "tags": []
          },
          "execution_count": 102
        }
      ]
    },
    {
      "cell_type": "code",
      "metadata": {
        "id": "9Dq8HsfWXTwy",
        "colab_type": "code",
        "colab": {}
      },
      "source": [
        "for i, row in df3.iterrows():\n",
        "  x = df3.at[i, 'county']\n",
        "  df3.at[i, 'rural_suburban_urban'] = RUC_dic.get(x)"
      ],
      "execution_count": 0,
      "outputs": []
    },
    {
      "cell_type": "code",
      "metadata": {
        "id": "J0PC6nQxZouf",
        "colab_type": "code",
        "colab": {}
      },
      "source": [
        "# for i, row in df3.iterrows():\n",
        "#   x = df3.at[i, 'rural_suburban_urban']\n",
        "#   y = str(x)\n",
        "#   df3.at[i, 'rural_suburban_urban'] = y\n",
        "for i, row in df3.iterrows():\n",
        "  x = df3.at[i, 'median_household_income']\n",
        "  y = str(x)\n",
        "  df3.at[i, 'median_household_income'] = y"
      ],
      "execution_count": 0,
      "outputs": []
    },
    {
      "cell_type": "code",
      "metadata": {
        "id": "TaBchMok2LcP",
        "colab_type": "code",
        "outputId": "126aced9-7354-43ca-919a-9b90488d6a8d",
        "colab": {
          "base_uri": "https://localhost:8080/",
          "height": 400
        }
      },
      "source": [
        "df3.head()"
      ],
      "execution_count": 0,
      "outputs": [
        {
          "output_type": "execute_result",
          "data": {
            "text/html": [
              "<div>\n",
              "<style scoped>\n",
              "    .dataframe tbody tr th:only-of-type {\n",
              "        vertical-align: middle;\n",
              "    }\n",
              "\n",
              "    .dataframe tbody tr th {\n",
              "        vertical-align: top;\n",
              "    }\n",
              "\n",
              "    .dataframe thead th {\n",
              "        text-align: right;\n",
              "    }\n",
              "</style>\n",
              "<table border=\"1\" class=\"dataframe\">\n",
              "  <thead>\n",
              "    <tr style=\"text-align: right;\">\n",
              "      <th></th>\n",
              "      <th>level_0</th>\n",
              "      <th>index</th>\n",
              "      <th>Unnamed: 0</th>\n",
              "      <th>Unnamed: 0.1</th>\n",
              "      <th>Unnamed: 0.1.1</th>\n",
              "      <th>Tweet_id</th>\n",
              "      <th>name</th>\n",
              "      <th>id</th>\n",
              "      <th>location</th>\n",
              "      <th>text</th>\n",
              "      <th>sentiment</th>\n",
              "      <th>age</th>\n",
              "      <th>gender</th>\n",
              "      <th>date</th>\n",
              "      <th>time</th>\n",
              "      <th>race</th>\n",
              "      <th>score</th>\n",
              "      <th>screen_name</th>\n",
              "      <th>Unnamed: 0.1.1.1</th>\n",
              "      <th>zipcode</th>\n",
              "      <th>state</th>\n",
              "      <th>median_household_income</th>\n",
              "      <th>pop_density</th>\n",
              "      <th>county</th>\n",
              "      <th>rural_suburban_urban</th>\n",
              "      <th>county_name</th>\n",
              "    </tr>\n",
              "  </thead>\n",
              "  <tbody>\n",
              "    <tr>\n",
              "      <th>0</th>\n",
              "      <td>7</td>\n",
              "      <td>22</td>\n",
              "      <td>22</td>\n",
              "      <td>22</td>\n",
              "      <td>22</td>\n",
              "      <td>1246018579151179800</td>\n",
              "      <td>Steve Finlay</td>\n",
              "      <td>176126108</td>\n",
              "      <td>Newfoundland, Canada</td>\n",
              "      <td>NEW | Homemade masks won't protect you against...</td>\n",
              "      <td>Positive</td>\n",
              "      <td>30-39</td>\n",
              "      <td>Male</td>\n",
              "      <td>Apr03</td>\n",
              "      <td>10:15:53</td>\n",
              "      <td>GreaterEuropean,British</td>\n",
              "      <td>0.0813</td>\n",
              "      <td>Electr0z</td>\n",
              "      <td>NaN</td>\n",
              "      <td>10001</td>\n",
              "      <td>NY</td>\n",
              "      <td>81671</td>\n",
              "      <td>33959</td>\n",
              "      <td>New York County</td>\n",
              "      <td>1</td>\n",
              "      <td>New York</td>\n",
              "    </tr>\n",
              "    <tr>\n",
              "      <th>1</th>\n",
              "      <td>11</td>\n",
              "      <td>30</td>\n",
              "      <td>30</td>\n",
              "      <td>30</td>\n",
              "      <td>30</td>\n",
              "      <td>1246106235545571300</td>\n",
              "      <td>JM Ngala</td>\n",
              "      <td>1527509845</td>\n",
              "      <td>Nairobi, Kenya</td>\n",
              "      <td>Didier Drogba, Samuel Eto'o and Demba Ba slamm...</td>\n",
              "      <td>Positive</td>\n",
              "      <td>30-39</td>\n",
              "      <td>Male</td>\n",
              "      <td>Apr03</td>\n",
              "      <td>16:04:12</td>\n",
              "      <td>Asian,GreaterEastAsian,EastAsian</td>\n",
              "      <td>0.1471</td>\n",
              "      <td>john_lij</td>\n",
              "      <td>NaN</td>\n",
              "      <td>03901</td>\n",
              "      <td>ME</td>\n",
              "      <td>63264</td>\n",
              "      <td>192</td>\n",
              "      <td>York County</td>\n",
              "      <td>1</td>\n",
              "      <td>York</td>\n",
              "    </tr>\n",
              "    <tr>\n",
              "      <th>2</th>\n",
              "      <td>12</td>\n",
              "      <td>32</td>\n",
              "      <td>32</td>\n",
              "      <td>32</td>\n",
              "      <td>32</td>\n",
              "      <td>1246244571832397800</td>\n",
              "      <td>AB Momentum Massage</td>\n",
              "      <td>347580948</td>\n",
              "      <td>Edmonton, AB, Canada</td>\n",
              "      <td>Canadians vs Americans during a time of crisis...</td>\n",
              "      <td>Positive</td>\n",
              "      <td>&gt;40</td>\n",
              "      <td>Female</td>\n",
              "      <td>Apr04</td>\n",
              "      <td>01:13:54</td>\n",
              "      <td>GreaterEuropean,WestEuropean,Nordic</td>\n",
              "      <td>0.6369</td>\n",
              "      <td>AlbertaMomentum</td>\n",
              "      <td>NaN</td>\n",
              "      <td>98001</td>\n",
              "      <td>WA</td>\n",
              "      <td>71746</td>\n",
              "      <td>1717</td>\n",
              "      <td>King County</td>\n",
              "      <td>1</td>\n",
              "      <td>King</td>\n",
              "    </tr>\n",
              "    <tr>\n",
              "      <th>3</th>\n",
              "      <td>19</td>\n",
              "      <td>52</td>\n",
              "      <td>52</td>\n",
              "      <td>52</td>\n",
              "      <td>52</td>\n",
              "      <td>1246243309871341600</td>\n",
              "      <td>Geeky Hoody</td>\n",
              "      <td>2817977711</td>\n",
              "      <td>Dallas, TX</td>\n",
              "      <td>I make this look Safe. Thanks mamazolaemporium...</td>\n",
              "      <td>Positive</td>\n",
              "      <td>&lt;=18</td>\n",
              "      <td>Male</td>\n",
              "      <td>Apr04</td>\n",
              "      <td>01:08:53</td>\n",
              "      <td>Asian,IndianSubContinent</td>\n",
              "      <td>0.7003</td>\n",
              "      <td>geekyhoody</td>\n",
              "      <td>NaN</td>\n",
              "      <td>43001</td>\n",
              "      <td>OH</td>\n",
              "      <td>76806</td>\n",
              "      <td>90</td>\n",
              "      <td>Licking County</td>\n",
              "      <td>1</td>\n",
              "      <td>Licking</td>\n",
              "    </tr>\n",
              "    <tr>\n",
              "      <th>4</th>\n",
              "      <td>32</td>\n",
              "      <td>83</td>\n",
              "      <td>83</td>\n",
              "      <td>83</td>\n",
              "      <td>83</td>\n",
              "      <td>1245925985821716500</td>\n",
              "      <td>Melissa</td>\n",
              "      <td>867592382069342208</td>\n",
              "      <td>Auburn, WA</td>\n",
              "      <td>Ok, Twitter, you asked for it, I promised it, ...</td>\n",
              "      <td>Neutral</td>\n",
              "      <td>&gt;40</td>\n",
              "      <td>Female</td>\n",
              "      <td>Apr03</td>\n",
              "      <td>04:07:57</td>\n",
              "      <td>GreaterEuropean,WestEuropean,Italian</td>\n",
              "      <td>0.0387</td>\n",
              "      <td>Marusyllus</td>\n",
              "      <td>NaN</td>\n",
              "      <td>36272</td>\n",
              "      <td>AL</td>\n",
              "      <td>37973</td>\n",
              "      <td>40</td>\n",
              "      <td>Calhoun County</td>\n",
              "      <td>8</td>\n",
              "      <td>Calhoun</td>\n",
              "    </tr>\n",
              "  </tbody>\n",
              "</table>\n",
              "</div>"
            ],
            "text/plain": [
              "   level_0  index  Unnamed: 0  ...           county rural_suburban_urban county_name\n",
              "0        7     22          22  ...  New York County                    1    New York\n",
              "1       11     30          30  ...      York County                    1        York\n",
              "2       12     32          32  ...      King County                    1        King\n",
              "3       19     52          52  ...   Licking County                    1     Licking\n",
              "4       32     83          83  ...   Calhoun County                    8     Calhoun\n",
              "\n",
              "[5 rows x 26 columns]"
            ]
          },
          "metadata": {
            "tags": []
          },
          "execution_count": 107
        }
      ]
    },
    {
      "cell_type": "code",
      "metadata": {
        "id": "nNlHFrpNl1aL",
        "colab_type": "code",
        "outputId": "a673bb32-12dd-40f5-e349-98d353e51cd1",
        "colab": {
          "base_uri": "https://localhost:8080/",
          "height": 330
        }
      },
      "source": [
        "df3['rural_suburban_urban'] = df3['rural_suburban_urban'].astype('string')\n",
        "df3['median_household_income'] = df3['median_household_income'].astype('int')"
      ],
      "execution_count": 0,
      "outputs": [
        {
          "output_type": "error",
          "ename": "ValueError",
          "evalue": "ignored",
          "traceback": [
            "\u001b[0;31m---------------------------------------------------------------------------\u001b[0m",
            "\u001b[0;31mValueError\u001b[0m                                Traceback (most recent call last)",
            "\u001b[0;32m<ipython-input-35-d7183d3e58f0>\u001b[0m in \u001b[0;36m<module>\u001b[0;34m()\u001b[0m\n\u001b[0;32m----> 1\u001b[0;31m \u001b[0mdf3\u001b[0m\u001b[0;34m[\u001b[0m\u001b[0;34m'rural_suburban_urban'\u001b[0m\u001b[0;34m]\u001b[0m \u001b[0;34m=\u001b[0m \u001b[0mdf3\u001b[0m\u001b[0;34m[\u001b[0m\u001b[0;34m'rural_suburban_urban'\u001b[0m\u001b[0;34m]\u001b[0m\u001b[0;34m.\u001b[0m\u001b[0mastype\u001b[0m\u001b[0;34m(\u001b[0m\u001b[0;34m'string'\u001b[0m\u001b[0;34m)\u001b[0m\u001b[0;34m\u001b[0m\u001b[0;34m\u001b[0m\u001b[0m\n\u001b[0m\u001b[1;32m      2\u001b[0m \u001b[0mdf3\u001b[0m\u001b[0;34m[\u001b[0m\u001b[0;34m'median_household_income'\u001b[0m\u001b[0;34m]\u001b[0m \u001b[0;34m=\u001b[0m \u001b[0mdf3\u001b[0m\u001b[0;34m[\u001b[0m\u001b[0;34m'median_household_income'\u001b[0m\u001b[0;34m]\u001b[0m\u001b[0;34m.\u001b[0m\u001b[0mastype\u001b[0m\u001b[0;34m(\u001b[0m\u001b[0;34m'int'\u001b[0m\u001b[0;34m)\u001b[0m\u001b[0;34m\u001b[0m\u001b[0;34m\u001b[0m\u001b[0m\n",
            "\u001b[0;32m/usr/local/lib/python3.6/dist-packages/pandas/core/generic.py\u001b[0m in \u001b[0;36mastype\u001b[0;34m(self, dtype, copy, errors)\u001b[0m\n\u001b[1;32m   5696\u001b[0m         \u001b[0;32melse\u001b[0m\u001b[0;34m:\u001b[0m\u001b[0;34m\u001b[0m\u001b[0;34m\u001b[0m\u001b[0m\n\u001b[1;32m   5697\u001b[0m             \u001b[0;31m# else, only a single dtype is given\u001b[0m\u001b[0;34m\u001b[0m\u001b[0;34m\u001b[0m\u001b[0;34m\u001b[0m\u001b[0m\n\u001b[0;32m-> 5698\u001b[0;31m             \u001b[0mnew_data\u001b[0m \u001b[0;34m=\u001b[0m \u001b[0mself\u001b[0m\u001b[0;34m.\u001b[0m\u001b[0m_data\u001b[0m\u001b[0;34m.\u001b[0m\u001b[0mastype\u001b[0m\u001b[0;34m(\u001b[0m\u001b[0mdtype\u001b[0m\u001b[0;34m=\u001b[0m\u001b[0mdtype\u001b[0m\u001b[0;34m,\u001b[0m \u001b[0mcopy\u001b[0m\u001b[0;34m=\u001b[0m\u001b[0mcopy\u001b[0m\u001b[0;34m,\u001b[0m \u001b[0merrors\u001b[0m\u001b[0;34m=\u001b[0m\u001b[0merrors\u001b[0m\u001b[0;34m)\u001b[0m\u001b[0;34m\u001b[0m\u001b[0;34m\u001b[0m\u001b[0m\n\u001b[0m\u001b[1;32m   5699\u001b[0m             \u001b[0;32mreturn\u001b[0m \u001b[0mself\u001b[0m\u001b[0;34m.\u001b[0m\u001b[0m_constructor\u001b[0m\u001b[0;34m(\u001b[0m\u001b[0mnew_data\u001b[0m\u001b[0;34m)\u001b[0m\u001b[0;34m.\u001b[0m\u001b[0m__finalize__\u001b[0m\u001b[0;34m(\u001b[0m\u001b[0mself\u001b[0m\u001b[0;34m)\u001b[0m\u001b[0;34m\u001b[0m\u001b[0;34m\u001b[0m\u001b[0m\n\u001b[1;32m   5700\u001b[0m \u001b[0;34m\u001b[0m\u001b[0m\n",
            "\u001b[0;32m/usr/local/lib/python3.6/dist-packages/pandas/core/internals/managers.py\u001b[0m in \u001b[0;36mastype\u001b[0;34m(self, dtype, copy, errors)\u001b[0m\n\u001b[1;32m    580\u001b[0m \u001b[0;34m\u001b[0m\u001b[0m\n\u001b[1;32m    581\u001b[0m     \u001b[0;32mdef\u001b[0m \u001b[0mastype\u001b[0m\u001b[0;34m(\u001b[0m\u001b[0mself\u001b[0m\u001b[0;34m,\u001b[0m \u001b[0mdtype\u001b[0m\u001b[0;34m,\u001b[0m \u001b[0mcopy\u001b[0m\u001b[0;34m:\u001b[0m \u001b[0mbool\u001b[0m \u001b[0;34m=\u001b[0m \u001b[0;32mFalse\u001b[0m\u001b[0;34m,\u001b[0m \u001b[0merrors\u001b[0m\u001b[0;34m:\u001b[0m \u001b[0mstr\u001b[0m \u001b[0;34m=\u001b[0m \u001b[0;34m\"raise\"\u001b[0m\u001b[0;34m)\u001b[0m\u001b[0;34m:\u001b[0m\u001b[0;34m\u001b[0m\u001b[0;34m\u001b[0m\u001b[0m\n\u001b[0;32m--> 582\u001b[0;31m         \u001b[0;32mreturn\u001b[0m \u001b[0mself\u001b[0m\u001b[0;34m.\u001b[0m\u001b[0mapply\u001b[0m\u001b[0;34m(\u001b[0m\u001b[0;34m\"astype\"\u001b[0m\u001b[0;34m,\u001b[0m \u001b[0mdtype\u001b[0m\u001b[0;34m=\u001b[0m\u001b[0mdtype\u001b[0m\u001b[0;34m,\u001b[0m \u001b[0mcopy\u001b[0m\u001b[0;34m=\u001b[0m\u001b[0mcopy\u001b[0m\u001b[0;34m,\u001b[0m \u001b[0merrors\u001b[0m\u001b[0;34m=\u001b[0m\u001b[0merrors\u001b[0m\u001b[0;34m)\u001b[0m\u001b[0;34m\u001b[0m\u001b[0;34m\u001b[0m\u001b[0m\n\u001b[0m\u001b[1;32m    583\u001b[0m \u001b[0;34m\u001b[0m\u001b[0m\n\u001b[1;32m    584\u001b[0m     \u001b[0;32mdef\u001b[0m \u001b[0mconvert\u001b[0m\u001b[0;34m(\u001b[0m\u001b[0mself\u001b[0m\u001b[0;34m,\u001b[0m \u001b[0;34m**\u001b[0m\u001b[0mkwargs\u001b[0m\u001b[0;34m)\u001b[0m\u001b[0;34m:\u001b[0m\u001b[0;34m\u001b[0m\u001b[0;34m\u001b[0m\u001b[0m\n",
            "\u001b[0;32m/usr/local/lib/python3.6/dist-packages/pandas/core/internals/managers.py\u001b[0m in \u001b[0;36mapply\u001b[0;34m(self, f, filter, **kwargs)\u001b[0m\n\u001b[1;32m    440\u001b[0m                 \u001b[0mapplied\u001b[0m \u001b[0;34m=\u001b[0m \u001b[0mb\u001b[0m\u001b[0;34m.\u001b[0m\u001b[0mapply\u001b[0m\u001b[0;34m(\u001b[0m\u001b[0mf\u001b[0m\u001b[0;34m,\u001b[0m \u001b[0;34m**\u001b[0m\u001b[0mkwargs\u001b[0m\u001b[0;34m)\u001b[0m\u001b[0;34m\u001b[0m\u001b[0;34m\u001b[0m\u001b[0m\n\u001b[1;32m    441\u001b[0m             \u001b[0;32melse\u001b[0m\u001b[0;34m:\u001b[0m\u001b[0;34m\u001b[0m\u001b[0;34m\u001b[0m\u001b[0m\n\u001b[0;32m--> 442\u001b[0;31m                 \u001b[0mapplied\u001b[0m \u001b[0;34m=\u001b[0m \u001b[0mgetattr\u001b[0m\u001b[0;34m(\u001b[0m\u001b[0mb\u001b[0m\u001b[0;34m,\u001b[0m \u001b[0mf\u001b[0m\u001b[0;34m)\u001b[0m\u001b[0;34m(\u001b[0m\u001b[0;34m**\u001b[0m\u001b[0mkwargs\u001b[0m\u001b[0;34m)\u001b[0m\u001b[0;34m\u001b[0m\u001b[0;34m\u001b[0m\u001b[0m\n\u001b[0m\u001b[1;32m    443\u001b[0m             \u001b[0mresult_blocks\u001b[0m \u001b[0;34m=\u001b[0m \u001b[0m_extend_blocks\u001b[0m\u001b[0;34m(\u001b[0m\u001b[0mapplied\u001b[0m\u001b[0;34m,\u001b[0m \u001b[0mresult_blocks\u001b[0m\u001b[0;34m)\u001b[0m\u001b[0;34m\u001b[0m\u001b[0;34m\u001b[0m\u001b[0m\n\u001b[1;32m    444\u001b[0m \u001b[0;34m\u001b[0m\u001b[0m\n",
            "\u001b[0;32m/usr/local/lib/python3.6/dist-packages/pandas/core/internals/blocks.py\u001b[0m in \u001b[0;36mastype\u001b[0;34m(self, dtype, copy, errors)\u001b[0m\n\u001b[1;32m    623\u001b[0m             \u001b[0mvals1d\u001b[0m \u001b[0;34m=\u001b[0m \u001b[0mvalues\u001b[0m\u001b[0;34m.\u001b[0m\u001b[0mravel\u001b[0m\u001b[0;34m(\u001b[0m\u001b[0;34m)\u001b[0m\u001b[0;34m\u001b[0m\u001b[0;34m\u001b[0m\u001b[0m\n\u001b[1;32m    624\u001b[0m             \u001b[0;32mtry\u001b[0m\u001b[0;34m:\u001b[0m\u001b[0;34m\u001b[0m\u001b[0;34m\u001b[0m\u001b[0m\n\u001b[0;32m--> 625\u001b[0;31m                 \u001b[0mvalues\u001b[0m \u001b[0;34m=\u001b[0m \u001b[0mastype_nansafe\u001b[0m\u001b[0;34m(\u001b[0m\u001b[0mvals1d\u001b[0m\u001b[0;34m,\u001b[0m \u001b[0mdtype\u001b[0m\u001b[0;34m,\u001b[0m \u001b[0mcopy\u001b[0m\u001b[0;34m=\u001b[0m\u001b[0;32mTrue\u001b[0m\u001b[0;34m)\u001b[0m\u001b[0;34m\u001b[0m\u001b[0;34m\u001b[0m\u001b[0m\n\u001b[0m\u001b[1;32m    626\u001b[0m             \u001b[0;32mexcept\u001b[0m \u001b[0;34m(\u001b[0m\u001b[0mValueError\u001b[0m\u001b[0;34m,\u001b[0m \u001b[0mTypeError\u001b[0m\u001b[0;34m)\u001b[0m\u001b[0;34m:\u001b[0m\u001b[0;34m\u001b[0m\u001b[0;34m\u001b[0m\u001b[0m\n\u001b[1;32m    627\u001b[0m                 \u001b[0;31m# e.g. astype_nansafe can fail on object-dtype of strings\u001b[0m\u001b[0;34m\u001b[0m\u001b[0;34m\u001b[0m\u001b[0;34m\u001b[0m\u001b[0m\n",
            "\u001b[0;32m/usr/local/lib/python3.6/dist-packages/pandas/core/dtypes/cast.py\u001b[0m in \u001b[0;36mastype_nansafe\u001b[0;34m(arr, dtype, copy, skipna)\u001b[0m\n\u001b[1;32m    819\u001b[0m     \u001b[0;31m# dispatch on extension dtype if needed\u001b[0m\u001b[0;34m\u001b[0m\u001b[0;34m\u001b[0m\u001b[0;34m\u001b[0m\u001b[0m\n\u001b[1;32m    820\u001b[0m     \u001b[0;32mif\u001b[0m \u001b[0mis_extension_array_dtype\u001b[0m\u001b[0;34m(\u001b[0m\u001b[0mdtype\u001b[0m\u001b[0;34m)\u001b[0m\u001b[0;34m:\u001b[0m\u001b[0;34m\u001b[0m\u001b[0;34m\u001b[0m\u001b[0m\n\u001b[0;32m--> 821\u001b[0;31m         \u001b[0;32mreturn\u001b[0m \u001b[0mdtype\u001b[0m\u001b[0;34m.\u001b[0m\u001b[0mconstruct_array_type\u001b[0m\u001b[0;34m(\u001b[0m\u001b[0;34m)\u001b[0m\u001b[0;34m.\u001b[0m\u001b[0m_from_sequence\u001b[0m\u001b[0;34m(\u001b[0m\u001b[0marr\u001b[0m\u001b[0;34m,\u001b[0m \u001b[0mdtype\u001b[0m\u001b[0;34m=\u001b[0m\u001b[0mdtype\u001b[0m\u001b[0;34m,\u001b[0m \u001b[0mcopy\u001b[0m\u001b[0;34m=\u001b[0m\u001b[0mcopy\u001b[0m\u001b[0;34m)\u001b[0m\u001b[0;34m\u001b[0m\u001b[0;34m\u001b[0m\u001b[0m\n\u001b[0m\u001b[1;32m    822\u001b[0m \u001b[0;34m\u001b[0m\u001b[0m\n\u001b[1;32m    823\u001b[0m     \u001b[0;32mif\u001b[0m \u001b[0;32mnot\u001b[0m \u001b[0misinstance\u001b[0m\u001b[0;34m(\u001b[0m\u001b[0mdtype\u001b[0m\u001b[0;34m,\u001b[0m \u001b[0mnp\u001b[0m\u001b[0;34m.\u001b[0m\u001b[0mdtype\u001b[0m\u001b[0;34m)\u001b[0m\u001b[0;34m:\u001b[0m\u001b[0;34m\u001b[0m\u001b[0;34m\u001b[0m\u001b[0m\n",
            "\u001b[0;32m/usr/local/lib/python3.6/dist-packages/pandas/core/arrays/string_.py\u001b[0m in \u001b[0;36m_from_sequence\u001b[0;34m(cls, scalars, dtype, copy)\u001b[0m\n\u001b[1;32m    195\u001b[0m             \u001b[0mresult\u001b[0m\u001b[0;34m[\u001b[0m\u001b[0mna_values\u001b[0m\u001b[0;34m]\u001b[0m \u001b[0;34m=\u001b[0m \u001b[0mStringDtype\u001b[0m\u001b[0;34m.\u001b[0m\u001b[0mna_value\u001b[0m\u001b[0;34m\u001b[0m\u001b[0;34m\u001b[0m\u001b[0m\n\u001b[1;32m    196\u001b[0m \u001b[0;34m\u001b[0m\u001b[0m\n\u001b[0;32m--> 197\u001b[0;31m         \u001b[0;32mreturn\u001b[0m \u001b[0mcls\u001b[0m\u001b[0;34m(\u001b[0m\u001b[0mresult\u001b[0m\u001b[0;34m)\u001b[0m\u001b[0;34m\u001b[0m\u001b[0;34m\u001b[0m\u001b[0m\n\u001b[0m\u001b[1;32m    198\u001b[0m \u001b[0;34m\u001b[0m\u001b[0m\n\u001b[1;32m    199\u001b[0m     \u001b[0;34m@\u001b[0m\u001b[0mclassmethod\u001b[0m\u001b[0;34m\u001b[0m\u001b[0;34m\u001b[0m\u001b[0m\n",
            "\u001b[0;32m/usr/local/lib/python3.6/dist-packages/pandas/core/arrays/string_.py\u001b[0m in \u001b[0;36m__init__\u001b[0;34m(self, values, copy)\u001b[0m\n\u001b[1;32m    164\u001b[0m         \u001b[0mself\u001b[0m\u001b[0;34m.\u001b[0m\u001b[0m_dtype\u001b[0m \u001b[0;34m=\u001b[0m \u001b[0mStringDtype\u001b[0m\u001b[0;34m(\u001b[0m\u001b[0;34m)\u001b[0m\u001b[0;34m\u001b[0m\u001b[0;34m\u001b[0m\u001b[0m\n\u001b[1;32m    165\u001b[0m         \u001b[0;32mif\u001b[0m \u001b[0;32mnot\u001b[0m \u001b[0mskip_validation\u001b[0m\u001b[0;34m:\u001b[0m\u001b[0;34m\u001b[0m\u001b[0;34m\u001b[0m\u001b[0m\n\u001b[0;32m--> 166\u001b[0;31m             \u001b[0mself\u001b[0m\u001b[0;34m.\u001b[0m\u001b[0m_validate\u001b[0m\u001b[0;34m(\u001b[0m\u001b[0;34m)\u001b[0m\u001b[0;34m\u001b[0m\u001b[0;34m\u001b[0m\u001b[0m\n\u001b[0m\u001b[1;32m    167\u001b[0m \u001b[0;34m\u001b[0m\u001b[0m\n\u001b[1;32m    168\u001b[0m     \u001b[0;32mdef\u001b[0m \u001b[0m_validate\u001b[0m\u001b[0;34m(\u001b[0m\u001b[0mself\u001b[0m\u001b[0;34m)\u001b[0m\u001b[0;34m:\u001b[0m\u001b[0;34m\u001b[0m\u001b[0;34m\u001b[0m\u001b[0m\n",
            "\u001b[0;32m/usr/local/lib/python3.6/dist-packages/pandas/core/arrays/string_.py\u001b[0m in \u001b[0;36m_validate\u001b[0;34m(self)\u001b[0m\n\u001b[1;32m    169\u001b[0m         \u001b[0;34m\"\"\"Validate that we only store NA or strings.\"\"\"\u001b[0m\u001b[0;34m\u001b[0m\u001b[0;34m\u001b[0m\u001b[0m\n\u001b[1;32m    170\u001b[0m         \u001b[0;32mif\u001b[0m \u001b[0mlen\u001b[0m\u001b[0;34m(\u001b[0m\u001b[0mself\u001b[0m\u001b[0;34m.\u001b[0m\u001b[0m_ndarray\u001b[0m\u001b[0;34m)\u001b[0m \u001b[0;32mand\u001b[0m \u001b[0;32mnot\u001b[0m \u001b[0mlib\u001b[0m\u001b[0;34m.\u001b[0m\u001b[0mis_string_array\u001b[0m\u001b[0;34m(\u001b[0m\u001b[0mself\u001b[0m\u001b[0;34m.\u001b[0m\u001b[0m_ndarray\u001b[0m\u001b[0;34m,\u001b[0m \u001b[0mskipna\u001b[0m\u001b[0;34m=\u001b[0m\u001b[0;32mTrue\u001b[0m\u001b[0;34m)\u001b[0m\u001b[0;34m:\u001b[0m\u001b[0;34m\u001b[0m\u001b[0;34m\u001b[0m\u001b[0m\n\u001b[0;32m--> 171\u001b[0;31m             \u001b[0;32mraise\u001b[0m \u001b[0mValueError\u001b[0m\u001b[0;34m(\u001b[0m\u001b[0;34m\"StringArray requires a sequence of strings or pandas.NA\"\u001b[0m\u001b[0;34m)\u001b[0m\u001b[0;34m\u001b[0m\u001b[0;34m\u001b[0m\u001b[0m\n\u001b[0m\u001b[1;32m    172\u001b[0m         \u001b[0;32mif\u001b[0m \u001b[0mself\u001b[0m\u001b[0;34m.\u001b[0m\u001b[0m_ndarray\u001b[0m\u001b[0;34m.\u001b[0m\u001b[0mdtype\u001b[0m \u001b[0;34m!=\u001b[0m \u001b[0;34m\"object\"\u001b[0m\u001b[0;34m:\u001b[0m\u001b[0;34m\u001b[0m\u001b[0;34m\u001b[0m\u001b[0m\n\u001b[1;32m    173\u001b[0m             raise ValueError(\n",
            "\u001b[0;31mValueError\u001b[0m: StringArray requires a sequence of strings or pandas.NA"
          ]
        }
      ]
    },
    {
      "cell_type": "code",
      "metadata": {
        "id": "MN0vMM-Laly0",
        "colab_type": "code",
        "colab": {}
      },
      "source": [
        "df3.dtypes"
      ],
      "execution_count": 0,
      "outputs": []
    },
    {
      "cell_type": "code",
      "metadata": {
        "id": "dAAOFvAo5Xj2",
        "colab_type": "code",
        "colab": {}
      },
      "source": [
        "pd.Series(df3['median_household_income'].corr(df3['score'])"
      ],
      "execution_count": 0,
      "outputs": []
    },
    {
      "cell_type": "code",
      "metadata": {
        "id": "UZe2TJiKYhKh",
        "colab_type": "code",
        "colab": {}
      },
      "source": [
        "!pip install plotly"
      ],
      "execution_count": 0,
      "outputs": []
    },
    {
      "cell_type": "code",
      "metadata": {
        "id": "_8S4fG_kWEUV",
        "colab_type": "code",
        "outputId": "adc5fe52-169c-4675-cfaf-1fe4d3139c5a",
        "colab": {
          "base_uri": "https://localhost:8080/",
          "height": 206
        }
      },
      "source": [
        "avg_sentiments = []\n",
        "df4 = df2[df2['state'] != '']\n",
        "\n",
        "Unique_state = df4['state'].unique()\n",
        "for u in Unique_state:\n",
        "  l = df4[df4['state'] == u]\n",
        "  avg_sentiments.append(l['score'].mean())\n",
        "avg = pd.DataFrame(avg_sentiments, columns = ['Average sentiment'])\n",
        "avg.tail()"
      ],
      "execution_count": 0,
      "outputs": [
        {
          "output_type": "execute_result",
          "data": {
            "text/html": [
              "<div>\n",
              "<style scoped>\n",
              "    .dataframe tbody tr th:only-of-type {\n",
              "        vertical-align: middle;\n",
              "    }\n",
              "\n",
              "    .dataframe tbody tr th {\n",
              "        vertical-align: top;\n",
              "    }\n",
              "\n",
              "    .dataframe thead th {\n",
              "        text-align: right;\n",
              "    }\n",
              "</style>\n",
              "<table border=\"1\" class=\"dataframe\">\n",
              "  <thead>\n",
              "    <tr style=\"text-align: right;\">\n",
              "      <th></th>\n",
              "      <th>Average sentiment</th>\n",
              "    </tr>\n",
              "  </thead>\n",
              "  <tbody>\n",
              "    <tr>\n",
              "      <th>47</th>\n",
              "      <td>-0.145477</td>\n",
              "    </tr>\n",
              "    <tr>\n",
              "      <th>48</th>\n",
              "      <td>0.012617</td>\n",
              "    </tr>\n",
              "    <tr>\n",
              "      <th>49</th>\n",
              "      <td>0.115451</td>\n",
              "    </tr>\n",
              "    <tr>\n",
              "      <th>50</th>\n",
              "      <td>-0.071538</td>\n",
              "    </tr>\n",
              "    <tr>\n",
              "      <th>51</th>\n",
              "      <td>0.117060</td>\n",
              "    </tr>\n",
              "  </tbody>\n",
              "</table>\n",
              "</div>"
            ],
            "text/plain": [
              "    Average sentiment\n",
              "47          -0.145477\n",
              "48           0.012617\n",
              "49           0.115451\n",
              "50          -0.071538\n",
              "51           0.117060"
            ]
          },
          "metadata": {
            "tags": []
          },
          "execution_count": 36
        }
      ]
    },
    {
      "cell_type": "code",
      "metadata": {
        "id": "gRs7Rqyoamng",
        "colab_type": "code",
        "outputId": "b9f485c3-5f8b-4e29-e64a-e5b946fde6d1",
        "colab": {
          "base_uri": "https://localhost:8080/",
          "height": 206
        }
      },
      "source": [
        "unique = pd.DataFrame(Unique_state, columns = ['State'])\n",
        "df4 = pd.concat((unique, avg), axis=1)\n",
        "df4.tail()"
      ],
      "execution_count": 0,
      "outputs": [
        {
          "output_type": "execute_result",
          "data": {
            "text/html": [
              "<div>\n",
              "<style scoped>\n",
              "    .dataframe tbody tr th:only-of-type {\n",
              "        vertical-align: middle;\n",
              "    }\n",
              "\n",
              "    .dataframe tbody tr th {\n",
              "        vertical-align: top;\n",
              "    }\n",
              "\n",
              "    .dataframe thead th {\n",
              "        text-align: right;\n",
              "    }\n",
              "</style>\n",
              "<table border=\"1\" class=\"dataframe\">\n",
              "  <thead>\n",
              "    <tr style=\"text-align: right;\">\n",
              "      <th></th>\n",
              "      <th>State</th>\n",
              "      <th>Average sentiment</th>\n",
              "    </tr>\n",
              "  </thead>\n",
              "  <tbody>\n",
              "    <tr>\n",
              "      <th>0</th>\n",
              "      <td>NY</td>\n",
              "      <td>-0.028853</td>\n",
              "    </tr>\n",
              "    <tr>\n",
              "      <th>1</th>\n",
              "      <td>ME</td>\n",
              "      <td>0.007541</td>\n",
              "    </tr>\n",
              "    <tr>\n",
              "      <th>2</th>\n",
              "      <td>WA</td>\n",
              "      <td>-0.011920</td>\n",
              "    </tr>\n",
              "    <tr>\n",
              "      <th>3</th>\n",
              "      <td>OH</td>\n",
              "      <td>0.011182</td>\n",
              "    </tr>\n",
              "    <tr>\n",
              "      <th>4</th>\n",
              "      <td>AL</td>\n",
              "      <td>0.014428</td>\n",
              "    </tr>\n",
              "  </tbody>\n",
              "</table>\n",
              "</div>"
            ],
            "text/plain": [
              "  State  Average sentiment\n",
              "0    NY          -0.028853\n",
              "1    ME           0.007541\n",
              "2    WA          -0.011920\n",
              "3    OH           0.011182\n",
              "4    AL           0.014428"
            ]
          },
          "metadata": {
            "tags": []
          },
          "execution_count": 37
        }
      ]
    },
    {
      "cell_type": "code",
      "metadata": {
        "id": "zkmoqw1gdfp-",
        "colab_type": "code",
        "outputId": "4d38b42a-fa6b-44ce-d9bf-e135bb71ab0d",
        "colab": {
          "base_uri": "https://localhost:8080/",
          "height": 206
        }
      },
      "source": [
        "import seaborn as sns\n",
        "df4 = df3[(df3['State'] == 'CA') | (df3['State'] == 'FL') | (df3['State'] == 'WA') | (df3['State'] == 'TX') | (df3['State'] == 'TX') |(df3['State'] == 'NJ') ]\n",
        "df4.reset_index(inplace=True)\n",
        "# df4.at[5, 'Average sentiment'] = -0.006102\n",
        "# df4.at[1, 'Average sentiment'] = 0.010320\n",
        "df4.head()"
      ],
      "execution_count": 0,
      "outputs": [
        {
          "output_type": "execute_result",
          "data": {
            "text/html": [
              "<div>\n",
              "<style scoped>\n",
              "    .dataframe tbody tr th:only-of-type {\n",
              "        vertical-align: middle;\n",
              "    }\n",
              "\n",
              "    .dataframe tbody tr th {\n",
              "        vertical-align: top;\n",
              "    }\n",
              "\n",
              "    .dataframe thead th {\n",
              "        text-align: right;\n",
              "    }\n",
              "</style>\n",
              "<table border=\"1\" class=\"dataframe\">\n",
              "  <thead>\n",
              "    <tr style=\"text-align: right;\">\n",
              "      <th></th>\n",
              "      <th>index</th>\n",
              "      <th>State</th>\n",
              "      <th>Average sentiment</th>\n",
              "    </tr>\n",
              "  </thead>\n",
              "  <tbody>\n",
              "    <tr>\n",
              "      <th>0</th>\n",
              "      <td>2</td>\n",
              "      <td>WA</td>\n",
              "      <td>-0.011920</td>\n",
              "    </tr>\n",
              "    <tr>\n",
              "      <th>1</th>\n",
              "      <td>7</td>\n",
              "      <td>TX</td>\n",
              "      <td>0.010773</td>\n",
              "    </tr>\n",
              "    <tr>\n",
              "      <th>2</th>\n",
              "      <td>8</td>\n",
              "      <td>CA</td>\n",
              "      <td>0.035338</td>\n",
              "    </tr>\n",
              "    <tr>\n",
              "      <th>3</th>\n",
              "      <td>9</td>\n",
              "      <td>FL</td>\n",
              "      <td>0.011866</td>\n",
              "    </tr>\n",
              "    <tr>\n",
              "      <th>4</th>\n",
              "      <td>28</td>\n",
              "      <td>NJ</td>\n",
              "      <td>0.006102</td>\n",
              "    </tr>\n",
              "  </tbody>\n",
              "</table>\n",
              "</div>"
            ],
            "text/plain": [
              "   index State  Average sentiment\n",
              "0      2    WA          -0.011920\n",
              "1      7    TX           0.010773\n",
              "2      8    CA           0.035338\n",
              "3      9    FL           0.011866\n",
              "4     28    NJ           0.006102"
            ]
          },
          "metadata": {
            "tags": []
          },
          "execution_count": 64
        }
      ]
    },
    {
      "cell_type": "code",
      "metadata": {
        "id": "Egv0ntstlcDm",
        "colab_type": "code",
        "outputId": "dd660a31-8287-48af-8dea-ce1f65c3466b",
        "colab": {
          "base_uri": "https://localhost:8080/",
          "height": 295
        }
      },
      "source": [
        "ax = sns.barplot(x = 'State', y = 'Average Sentiment', data = df5).set_title('West Coast vs. East Coast Avg. Sentiment')"
      ],
      "execution_count": 0,
      "outputs": [
        {
          "output_type": "display_data",
          "data": {
            "image/png": "[encoded data removed]",
            "text/plain": [
              "<Figure size 432x288 with 1 Axes>"
            ]
          },
          "metadata": {
            "tags": [],
            "needs_background": "light"
          }
        }
      ]
    },
    {
      "cell_type": "code",
      "metadata": {
        "id": "zYl1Ze1KxVOX",
        "colab_type": "code",
        "colab": {}
      },
      "source": [
        "# Avg. Sentiment by state\n",
        "df3 = pd.concat([df2.unique()"
      ],
      "execution_count": 0,
      "outputs": []
    },
    {
      "cell_type": "code",
      "metadata": {
        "id": "vwp5YBPbctg9",
        "colab_type": "code",
        "outputId": "8644765d-6bcd-4839-8c03-975505154a0e",
        "colab": {
          "base_uri": "https://localhost:8080/",
          "height": 243
        }
      },
      "source": [
        "# Unique Dates and Unique Races\n",
        "Unique_date = df['date'].dropna().unique() \n",
        "Unique_race = df['race'].dropna().unique()\n",
        "\n",
        "DataFrameDate = {elem : df for elem in Unique_date}\n",
        "DataFrameRace = {elem : df for elem in Unique_race}\n",
        "\n",
        "def Sep():\n",
        "    for key in DataFrameDate.keys():\n",
        "            DataFrameDate[key] = df[:][df.date == key]\n",
        "            # yoyo.append(np.mean(DataFrameDate[key].score))\n",
        "    for key in DataFrameRace.keys():\n",
        "            DataFrameRace[key] = df[:][df.race == key]\n",
        "            print(str(key) + \" \" + str(np.mean(DataFrameRace[key].score)))\n",
        "Sep()\n",
        "# date_data = zip(DataFrameDate.keys(), np.mean(DataFrameDate[key].score))\n",
        "# print(DataFrameRace)"
      ],
      "execution_count": 0,
      "outputs": [
        {
          "output_type": "stream",
          "text": [
            "GreaterEuropean,WestEuropean,Germanic -0.006881841080833426\n",
            "GreaterAfrican,Africans 0.029097787948131254\n",
            "GreaterEuropean,British -0.012136204444805796\n",
            "GreaterEuropean,WestEuropean,Hispanic -0.002227246735182433\n",
            "GreaterEuropean,EastEuropean -0.007552631578947298\n",
            "Asian,IndianSubContinent 0.04565912789669146\n",
            "GreaterEuropean,Jewish -8.066029830723006e-05\n",
            "GreaterEuropean,WestEuropean,French -0.01369650733236286\n",
            "GreaterEuropean,WestEuropean,Nordic -0.005629157772171426\n",
            "Asian,GreaterEastAsian,EastAsian 0.004045384312567831\n",
            "Asian,GreaterEastAsian,Japanese 0.01965316672372483\n",
            "GreaterEuropean,WestEuropean,Italian -0.008491245071175692\n",
            "GreaterAfrican,Muslim 0.014330751062824817\n"
          ],
          "name": "stdout"
        }
      ]
    },
    {
      "cell_type": "code",
      "metadata": {
        "id": "u4i-IuMjisOD",
        "colab_type": "code",
        "outputId": "6aaf5116-85f9-41ad-d0c7-b6174bfffd56",
        "colab": {
          "base_uri": "https://localhost:8080/",
          "height": 1000
        }
      },
      "source": [
        "# Num_tweets bar graph\n",
        "import matplotlib.pyplot as plt\n",
        "import seaborn as sns\n",
        "\n",
        "l = df['gender'].value_counts()\n",
        "m = df['age'].value_counts()\n",
        "o = df['race'].value_counts()\n",
        "\n",
        "l.plot.bar()\n",
        "plt.show()\n",
        "\n",
        "m.plot.bar()\n",
        "plt.show()\n",
        "\n",
        "o.plot.bar()\n",
        "plt.show()"
      ],
      "execution_count": 0,
      "outputs": [
        {
          "output_type": "display_data",
          "data": {
            "image/png": "[encoded data removed]",
            "text/plain": [
              "<Figure size 432x288 with 1 Axes>"
            ]
          },
          "metadata": {
            "tags": [],
            "needs_background": "light"
          }
        },
        {
          "output_type": "display_data",
          "data": {
            "image/png": "[encoded data removed]",
            "text/plain": [
              "<Figure size 432x288 with 1 Axes>"
            ]
          },
          "metadata": {
            "tags": [],
            "needs_background": "light"
          }
        },
        {
          "output_type": "display_data",
          "data": {
            "image/png": "[encoded data removed]",
            "text/plain": [
              "<Figure size 432x288 with 1 Axes>"
            ]
          },
          "metadata": {
            "tags": [],
            "needs_background": "light"
          }
        }
      ]
    },
    {
      "cell_type": "code",
      "metadata": {
        "id": "0JFW399BCBJW",
        "colab_type": "code",
        "outputId": "b8d7fea0-54b3-4369-ae4f-f3844fc0643d",
        "colab": {
          "base_uri": "https://localhost:8080/",
          "height": 54
        }
      },
      "source": [
        "dates = []\n",
        "lala = []\n",
        "\n",
        "# March Dates\n",
        "for i in range(23, 32):\n",
        "  dates.append(\"Mar\" + str(i))\n",
        "\n",
        "# April Dates\n",
        "for i in range(1, 10):\n",
        "  dates.append(\"Apr0\" + str(i))\n",
        "for i in range(10, 14):\n",
        "  dates.append(\"Apr0\" + str(i))\n",
        "\n",
        "for i in range(1, len(dates)+1):\n",
        "  lala.append(i)\n",
        "yolo = dict(zip(dates, lala))\n",
        "print(yolo)"
      ],
      "execution_count": 0,
      "outputs": [
        {
          "output_type": "stream",
          "text": [
            "{'Mar23': 1, 'Mar24': 2, 'Mar25': 3, 'Mar26': 4, 'Mar27': 5, 'Mar28': 6, 'Mar29': 7, 'Mar30': 8, 'Mar31': 9, 'Apr01': 10, 'Apr02': 11, 'Apr03': 12, 'Apr04': 13, 'Apr05': 14, 'Apr06': 15, 'Apr07': 16, 'Apr08': 17, 'Apr09': 18, 'Apr010': 19, 'Apr011': 20, 'Apr012': 21, 'Apr013': 22}\n"
          ],
          "name": "stdout"
        }
      ]
    },
    {
      "cell_type": "code",
      "metadata": {
        "id": "g4IraaEKN9By",
        "colab_type": "code",
        "outputId": "fa3d5302-4c13-4738-dea4-8d4a6a1cd5e3",
        "colab": {
          "base_uri": "https://localhost:8080/",
          "height": 436
        }
      },
      "source": [
        "df3['rural_suburban_urban'] = df3['rural_suburban_urban'].astype(\"int\")\n",
        "x_2 = []\n",
        "u = ['1', '2', '3', '4', '5', '6', '7', '8', '9']\n",
        "for i in u:\n",
        "  x = np.mean(df3[df3['rural_suburban_urban'] == i].score)\n",
        "  x_2.append(x)\n",
        "print(x_2)"
      ],
      "execution_count": 0,
      "outputs": [
        {
          "output_type": "error",
          "ename": "TypeError",
          "evalue": "ignored",
          "traceback": [
            "\u001b[0;31m---------------------------------------------------------------------------\u001b[0m",
            "\u001b[0;31mTypeError\u001b[0m                                 Traceback (most recent call last)",
            "\u001b[0;32m<ipython-input-110-39efd9441b57>\u001b[0m in \u001b[0;36m<module>\u001b[0;34m()\u001b[0m\n\u001b[0;32m----> 1\u001b[0;31m \u001b[0mdf3\u001b[0m\u001b[0;34m[\u001b[0m\u001b[0;34m'rural_suburban_urban'\u001b[0m\u001b[0;34m]\u001b[0m \u001b[0;34m=\u001b[0m \u001b[0mdf3\u001b[0m\u001b[0;34m[\u001b[0m\u001b[0;34m'rural_suburban_urban'\u001b[0m\u001b[0;34m]\u001b[0m\u001b[0;34m.\u001b[0m\u001b[0mastype\u001b[0m\u001b[0;34m(\u001b[0m\u001b[0;34m\"int\"\u001b[0m\u001b[0;34m)\u001b[0m\u001b[0;34m\u001b[0m\u001b[0;34m\u001b[0m\u001b[0m\n\u001b[0m\u001b[1;32m      2\u001b[0m \u001b[0mx_2\u001b[0m \u001b[0;34m=\u001b[0m \u001b[0;34m[\u001b[0m\u001b[0;34m]\u001b[0m\u001b[0;34m\u001b[0m\u001b[0;34m\u001b[0m\u001b[0m\n\u001b[1;32m      3\u001b[0m \u001b[0mu\u001b[0m \u001b[0;34m=\u001b[0m \u001b[0;34m[\u001b[0m\u001b[0;34m'1'\u001b[0m\u001b[0;34m,\u001b[0m \u001b[0;34m'2'\u001b[0m\u001b[0;34m,\u001b[0m \u001b[0;34m'3'\u001b[0m\u001b[0;34m,\u001b[0m \u001b[0;34m'4'\u001b[0m\u001b[0;34m,\u001b[0m \u001b[0;34m'5'\u001b[0m\u001b[0;34m,\u001b[0m \u001b[0;34m'6'\u001b[0m\u001b[0;34m,\u001b[0m \u001b[0;34m'7'\u001b[0m\u001b[0;34m,\u001b[0m \u001b[0;34m'8'\u001b[0m\u001b[0;34m,\u001b[0m \u001b[0;34m'9'\u001b[0m\u001b[0;34m]\u001b[0m\u001b[0;34m\u001b[0m\u001b[0;34m\u001b[0m\u001b[0m\n\u001b[1;32m      4\u001b[0m \u001b[0;32mfor\u001b[0m \u001b[0mi\u001b[0m \u001b[0;32min\u001b[0m \u001b[0mu\u001b[0m\u001b[0;34m:\u001b[0m\u001b[0;34m\u001b[0m\u001b[0;34m\u001b[0m\u001b[0m\n\u001b[1;32m      5\u001b[0m   \u001b[0mx\u001b[0m \u001b[0;34m=\u001b[0m \u001b[0mnp\u001b[0m\u001b[0;34m.\u001b[0m\u001b[0mmean\u001b[0m\u001b[0;34m(\u001b[0m\u001b[0mdf3\u001b[0m\u001b[0;34m[\u001b[0m\u001b[0mdf3\u001b[0m\u001b[0;34m[\u001b[0m\u001b[0;34m'rural_suburban_urban'\u001b[0m\u001b[0;34m]\u001b[0m \u001b[0;34m==\u001b[0m \u001b[0mi\u001b[0m\u001b[0;34m]\u001b[0m\u001b[0;34m.\u001b[0m\u001b[0mscore\u001b[0m\u001b[0;34m)\u001b[0m\u001b[0;34m\u001b[0m\u001b[0;34m\u001b[0m\u001b[0m\n",
            "\u001b[0;32m/usr/local/lib/python3.6/dist-packages/pandas/core/generic.py\u001b[0m in \u001b[0;36mastype\u001b[0;34m(self, dtype, copy, errors)\u001b[0m\n\u001b[1;32m   5696\u001b[0m         \u001b[0;32melse\u001b[0m\u001b[0;34m:\u001b[0m\u001b[0;34m\u001b[0m\u001b[0;34m\u001b[0m\u001b[0m\n\u001b[1;32m   5697\u001b[0m             \u001b[0;31m# else, only a single dtype is given\u001b[0m\u001b[0;34m\u001b[0m\u001b[0;34m\u001b[0m\u001b[0;34m\u001b[0m\u001b[0m\n\u001b[0;32m-> 5698\u001b[0;31m             \u001b[0mnew_data\u001b[0m \u001b[0;34m=\u001b[0m \u001b[0mself\u001b[0m\u001b[0;34m.\u001b[0m\u001b[0m_data\u001b[0m\u001b[0;34m.\u001b[0m\u001b[0mastype\u001b[0m\u001b[0;34m(\u001b[0m\u001b[0mdtype\u001b[0m\u001b[0;34m=\u001b[0m\u001b[0mdtype\u001b[0m\u001b[0;34m,\u001b[0m \u001b[0mcopy\u001b[0m\u001b[0;34m=\u001b[0m\u001b[0mcopy\u001b[0m\u001b[0;34m,\u001b[0m \u001b[0merrors\u001b[0m\u001b[0;34m=\u001b[0m\u001b[0merrors\u001b[0m\u001b[0;34m)\u001b[0m\u001b[0;34m\u001b[0m\u001b[0;34m\u001b[0m\u001b[0m\n\u001b[0m\u001b[1;32m   5699\u001b[0m             \u001b[0;32mreturn\u001b[0m \u001b[0mself\u001b[0m\u001b[0;34m.\u001b[0m\u001b[0m_constructor\u001b[0m\u001b[0;34m(\u001b[0m\u001b[0mnew_data\u001b[0m\u001b[0;34m)\u001b[0m\u001b[0;34m.\u001b[0m\u001b[0m__finalize__\u001b[0m\u001b[0;34m(\u001b[0m\u001b[0mself\u001b[0m\u001b[0;34m)\u001b[0m\u001b[0;34m\u001b[0m\u001b[0;34m\u001b[0m\u001b[0m\n\u001b[1;32m   5700\u001b[0m \u001b[0;34m\u001b[0m\u001b[0m\n",
            "\u001b[0;32m/usr/local/lib/python3.6/dist-packages/pandas/core/internals/managers.py\u001b[0m in \u001b[0;36mastype\u001b[0;34m(self, dtype, copy, errors)\u001b[0m\n\u001b[1;32m    580\u001b[0m \u001b[0;34m\u001b[0m\u001b[0m\n\u001b[1;32m    581\u001b[0m     \u001b[0;32mdef\u001b[0m \u001b[0mastype\u001b[0m\u001b[0;34m(\u001b[0m\u001b[0mself\u001b[0m\u001b[0;34m,\u001b[0m \u001b[0mdtype\u001b[0m\u001b[0;34m,\u001b[0m \u001b[0mcopy\u001b[0m\u001b[0;34m:\u001b[0m \u001b[0mbool\u001b[0m \u001b[0;34m=\u001b[0m \u001b[0;32mFalse\u001b[0m\u001b[0;34m,\u001b[0m \u001b[0merrors\u001b[0m\u001b[0;34m:\u001b[0m \u001b[0mstr\u001b[0m \u001b[0;34m=\u001b[0m \u001b[0;34m\"raise\"\u001b[0m\u001b[0;34m)\u001b[0m\u001b[0;34m:\u001b[0m\u001b[0;34m\u001b[0m\u001b[0;34m\u001b[0m\u001b[0m\n\u001b[0;32m--> 582\u001b[0;31m         \u001b[0;32mreturn\u001b[0m \u001b[0mself\u001b[0m\u001b[0;34m.\u001b[0m\u001b[0mapply\u001b[0m\u001b[0;34m(\u001b[0m\u001b[0;34m\"astype\"\u001b[0m\u001b[0;34m,\u001b[0m \u001b[0mdtype\u001b[0m\u001b[0;34m=\u001b[0m\u001b[0mdtype\u001b[0m\u001b[0;34m,\u001b[0m \u001b[0mcopy\u001b[0m\u001b[0;34m=\u001b[0m\u001b[0mcopy\u001b[0m\u001b[0;34m,\u001b[0m \u001b[0merrors\u001b[0m\u001b[0;34m=\u001b[0m\u001b[0merrors\u001b[0m\u001b[0;34m)\u001b[0m\u001b[0;34m\u001b[0m\u001b[0;34m\u001b[0m\u001b[0m\n\u001b[0m\u001b[1;32m    583\u001b[0m \u001b[0;34m\u001b[0m\u001b[0m\n\u001b[1;32m    584\u001b[0m     \u001b[0;32mdef\u001b[0m \u001b[0mconvert\u001b[0m\u001b[0;34m(\u001b[0m\u001b[0mself\u001b[0m\u001b[0;34m,\u001b[0m \u001b[0;34m**\u001b[0m\u001b[0mkwargs\u001b[0m\u001b[0;34m)\u001b[0m\u001b[0;34m:\u001b[0m\u001b[0;34m\u001b[0m\u001b[0;34m\u001b[0m\u001b[0m\n",
            "\u001b[0;32m/usr/local/lib/python3.6/dist-packages/pandas/core/internals/managers.py\u001b[0m in \u001b[0;36mapply\u001b[0;34m(self, f, filter, **kwargs)\u001b[0m\n\u001b[1;32m    440\u001b[0m                 \u001b[0mapplied\u001b[0m \u001b[0;34m=\u001b[0m \u001b[0mb\u001b[0m\u001b[0;34m.\u001b[0m\u001b[0mapply\u001b[0m\u001b[0;34m(\u001b[0m\u001b[0mf\u001b[0m\u001b[0;34m,\u001b[0m \u001b[0;34m**\u001b[0m\u001b[0mkwargs\u001b[0m\u001b[0;34m)\u001b[0m\u001b[0;34m\u001b[0m\u001b[0;34m\u001b[0m\u001b[0m\n\u001b[1;32m    441\u001b[0m             \u001b[0;32melse\u001b[0m\u001b[0;34m:\u001b[0m\u001b[0;34m\u001b[0m\u001b[0;34m\u001b[0m\u001b[0m\n\u001b[0;32m--> 442\u001b[0;31m                 \u001b[0mapplied\u001b[0m \u001b[0;34m=\u001b[0m \u001b[0mgetattr\u001b[0m\u001b[0;34m(\u001b[0m\u001b[0mb\u001b[0m\u001b[0;34m,\u001b[0m \u001b[0mf\u001b[0m\u001b[0;34m)\u001b[0m\u001b[0;34m(\u001b[0m\u001b[0;34m**\u001b[0m\u001b[0mkwargs\u001b[0m\u001b[0;34m)\u001b[0m\u001b[0;34m\u001b[0m\u001b[0;34m\u001b[0m\u001b[0m\n\u001b[0m\u001b[1;32m    443\u001b[0m             \u001b[0mresult_blocks\u001b[0m \u001b[0;34m=\u001b[0m \u001b[0m_extend_blocks\u001b[0m\u001b[0;34m(\u001b[0m\u001b[0mapplied\u001b[0m\u001b[0;34m,\u001b[0m \u001b[0mresult_blocks\u001b[0m\u001b[0;34m)\u001b[0m\u001b[0;34m\u001b[0m\u001b[0;34m\u001b[0m\u001b[0m\n\u001b[1;32m    444\u001b[0m \u001b[0;34m\u001b[0m\u001b[0m\n",
            "\u001b[0;32m/usr/local/lib/python3.6/dist-packages/pandas/core/internals/blocks.py\u001b[0m in \u001b[0;36mastype\u001b[0;34m(self, dtype, copy, errors)\u001b[0m\n\u001b[1;32m    623\u001b[0m             \u001b[0mvals1d\u001b[0m \u001b[0;34m=\u001b[0m \u001b[0mvalues\u001b[0m\u001b[0;34m.\u001b[0m\u001b[0mravel\u001b[0m\u001b[0;34m(\u001b[0m\u001b[0;34m)\u001b[0m\u001b[0;34m\u001b[0m\u001b[0;34m\u001b[0m\u001b[0m\n\u001b[1;32m    624\u001b[0m             \u001b[0;32mtry\u001b[0m\u001b[0;34m:\u001b[0m\u001b[0;34m\u001b[0m\u001b[0;34m\u001b[0m\u001b[0m\n\u001b[0;32m--> 625\u001b[0;31m                 \u001b[0mvalues\u001b[0m \u001b[0;34m=\u001b[0m \u001b[0mastype_nansafe\u001b[0m\u001b[0;34m(\u001b[0m\u001b[0mvals1d\u001b[0m\u001b[0;34m,\u001b[0m \u001b[0mdtype\u001b[0m\u001b[0;34m,\u001b[0m \u001b[0mcopy\u001b[0m\u001b[0;34m=\u001b[0m\u001b[0;32mTrue\u001b[0m\u001b[0;34m)\u001b[0m\u001b[0;34m\u001b[0m\u001b[0;34m\u001b[0m\u001b[0m\n\u001b[0m\u001b[1;32m    626\u001b[0m             \u001b[0;32mexcept\u001b[0m \u001b[0;34m(\u001b[0m\u001b[0mValueError\u001b[0m\u001b[0;34m,\u001b[0m \u001b[0mTypeError\u001b[0m\u001b[0;34m)\u001b[0m\u001b[0;34m:\u001b[0m\u001b[0;34m\u001b[0m\u001b[0;34m\u001b[0m\u001b[0m\n\u001b[1;32m    627\u001b[0m                 \u001b[0;31m# e.g. astype_nansafe can fail on object-dtype of strings\u001b[0m\u001b[0;34m\u001b[0m\u001b[0;34m\u001b[0m\u001b[0;34m\u001b[0m\u001b[0m\n",
            "\u001b[0;32m/usr/local/lib/python3.6/dist-packages/pandas/core/dtypes/cast.py\u001b[0m in \u001b[0;36mastype_nansafe\u001b[0;34m(arr, dtype, copy, skipna)\u001b[0m\n\u001b[1;32m    872\u001b[0m         \u001b[0;31m# work around NumPy brokenness, #1987\u001b[0m\u001b[0;34m\u001b[0m\u001b[0;34m\u001b[0m\u001b[0;34m\u001b[0m\u001b[0m\n\u001b[1;32m    873\u001b[0m         \u001b[0;32mif\u001b[0m \u001b[0mnp\u001b[0m\u001b[0;34m.\u001b[0m\u001b[0missubdtype\u001b[0m\u001b[0;34m(\u001b[0m\u001b[0mdtype\u001b[0m\u001b[0;34m.\u001b[0m\u001b[0mtype\u001b[0m\u001b[0;34m,\u001b[0m \u001b[0mnp\u001b[0m\u001b[0;34m.\u001b[0m\u001b[0minteger\u001b[0m\u001b[0;34m)\u001b[0m\u001b[0;34m:\u001b[0m\u001b[0;34m\u001b[0m\u001b[0;34m\u001b[0m\u001b[0m\n\u001b[0;32m--> 874\u001b[0;31m             \u001b[0;32mreturn\u001b[0m \u001b[0mlib\u001b[0m\u001b[0;34m.\u001b[0m\u001b[0mastype_intsafe\u001b[0m\u001b[0;34m(\u001b[0m\u001b[0marr\u001b[0m\u001b[0;34m.\u001b[0m\u001b[0mravel\u001b[0m\u001b[0;34m(\u001b[0m\u001b[0;34m)\u001b[0m\u001b[0;34m,\u001b[0m \u001b[0mdtype\u001b[0m\u001b[0;34m)\u001b[0m\u001b[0;34m.\u001b[0m\u001b[0mreshape\u001b[0m\u001b[0;34m(\u001b[0m\u001b[0marr\u001b[0m\u001b[0;34m.\u001b[0m\u001b[0mshape\u001b[0m\u001b[0;34m)\u001b[0m\u001b[0;34m\u001b[0m\u001b[0;34m\u001b[0m\u001b[0m\n\u001b[0m\u001b[1;32m    875\u001b[0m \u001b[0;34m\u001b[0m\u001b[0m\n\u001b[1;32m    876\u001b[0m         \u001b[0;31m# if we have a datetime/timedelta array of objects\u001b[0m\u001b[0;34m\u001b[0m\u001b[0;34m\u001b[0m\u001b[0;34m\u001b[0m\u001b[0m\n",
            "\u001b[0;32mpandas/_libs/lib.pyx\u001b[0m in \u001b[0;36mpandas._libs.lib.astype_intsafe\u001b[0;34m()\u001b[0m\n",
            "\u001b[0;31mTypeError\u001b[0m: int() argument must be a string, a bytes-like object or a number, not 'NoneType'"
          ]
        }
      ]
    },
    {
      "cell_type": "code",
      "metadata": {
        "id": "POl5a69nxFSc",
        "colab_type": "code",
        "outputId": "37c0e2ee-92e0-44af-f36f-67ae982bad73",
        "colab": {
          "base_uri": "https://localhost:8080/",
          "height": 312
        }
      },
      "source": [
        "p1 = plt.bar([1, 2, 3], y)\n",
        "p2 = plt.bar([4, 5, 6, 7, 8, 9], y_3)\n",
        "plt.ylabel('Average Sentiment')\n",
        "plt.xlabel('RUCC Number')\n",
        "plt.xticks([1, 2, 3, 4, 5, 6, 7, 8, 9])\n",
        "plt.title('Metro vs. Non-Metro Avg. Sentiment')\n",
        "plt.legend((p1[0], p2[0]), ('Metro', 'Non-metro'))"
      ],
      "execution_count": 0,
      "outputs": [
        {
          "output_type": "execute_result",
          "data": {
            "text/plain": [
              "<matplotlib.legend.Legend at 0x7fc20c6b99b0>"
            ]
          },
          "metadata": {
            "tags": []
          },
          "execution_count": 148
        },
        {
          "output_type": "display_data",
          "data": {
            "image/png": "[encoded data removed]",
            "text/plain": [
              "<Figure size 432x288 with 1 Axes>"
            ]
          },
          "metadata": {
            "tags": [],
            "needs_background": "light"
          }
        }
      ]
    },
    {
      "cell_type": "code",
      "metadata": {
        "id": "3Q2gerOu7Ttl",
        "colab_type": "code",
        "colab": {}
      },
      "source": [
        ""
      ],
      "execution_count": 0,
      "outputs": []
    },
    {
      "cell_type": "code",
      "metadata": {
        "id": "N7mRkOeUPvpW",
        "colab_type": "code",
        "outputId": "cc98316c-fdf0-4811-88b0-a33ee306570e",
        "colab": {
          "base_uri": "https://localhost:8080/",
          "height": 542
        }
      },
      "source": [
        "import plotly.express as px\n",
        "\n",
        "ax = px.bar(x=u,y=y_3, labels={'RUC Number', 'Avg. Sentiment'})\n",
        "ax.update_layout(\n",
        "    xaxis_title=\"RUC Number\",\n",
        "    yaxis_title=\"Avg. Sentiment\")\n",
        "ax.show()"
      ],
      "execution_count": 0,
      "outputs": [
        {
          "output_type": "display_data",
          "data": {
            "text/html": [
              "<html>\n",
              "<head><meta charset=\"utf-8\" /></head>\n",
              "<body>\n",
              "    <div>\n",
              "            <script src=\"https://cdnjs.cloudflare.com/ajax/libs/mathjax/2.7.5/MathJax.js?config=TeX-AMS-MML_SVG\"></script><script type=\"text/javascript\">if (window.MathJax) {MathJax.Hub.Config({SVG: {font: \"STIX-Web\"}});}</script>\n",
              "                <script type=\"text/javascript\">window.PlotlyConfig = {MathJaxConfig: 'local'};</script>\n",
              "        <script src=\"https://cdn.plot.ly/plotly-latest.min.js\"></script>    \n",
              "            <div id=\"a3e2251d-169b-4c20-9ffc-19605f949826\" class=\"plotly-graph-div\" style=\"height:525px; width:100%;\"></div>\n",
              "            <script type=\"text/javascript\">\n",
              "                \n",
              "                    window.PLOTLYENV=window.PLOTLYENV || {};\n",
              "                    \n",
              "                if (document.getElementById(\"a3e2251d-169b-4c20-9ffc-19605f949826\")) {\n",
              "                    Plotly.newPlot(\n",
              "                        'a3e2251d-169b-4c20-9ffc-19605f949826',\n",
              "                        [{\"alignmentgroup\": \"True\", \"hoverlabel\": {\"namelength\": 0}, \"hovertemplate\": \"x=%{x}<br>y=%{y}\", \"legendgroup\": \"\", \"marker\": {\"color\": \"#636efa\"}, \"name\": \"\", \"offsetgroup\": \"\", \"orientation\": \"v\", \"showlegend\": false, \"textposition\": \"auto\", \"type\": \"bar\", \"x\": [\"1\", \"2\", \"3\", \"4\", \"5\", \"6\", \"7\", \"8\", \"9\"], \"xaxis\": \"x\", \"y\": [0.054, 0.04253, 0.01, 0.023, -0.021, -0.032, -0.019, -0.0032, -0.0042], \"yaxis\": \"y\"}],\n",
              "                        {\"barmode\": \"relative\", \"legend\": {\"tracegroupgap\": 0}, \"margin\": {\"t\": 60}, \"template\": {\"data\": {\"bar\": [{\"error_x\": {\"color\": \"#2a3f5f\"}, \"error_y\": {\"color\": \"#2a3f5f\"}, \"marker\": {\"line\": {\"color\": \"#E5ECF6\", \"width\": 0.5}}, \"type\": \"bar\"}], \"barpolar\": [{\"marker\": {\"line\": {\"color\": \"#E5ECF6\", \"width\": 0.5}}, \"type\": \"barpolar\"}], \"carpet\": [{\"aaxis\": {\"endlinecolor\": \"#2a3f5f\", \"gridcolor\": \"white\", \"linecolor\": \"white\", \"minorgridcolor\": \"white\", \"startlinecolor\": \"#2a3f5f\"}, \"baxis\": {\"endlinecolor\": \"#2a3f5f\", \"gridcolor\": \"white\", \"linecolor\": \"white\", \"minorgridcolor\": \"white\", \"startlinecolor\": \"#2a3f5f\"}, \"type\": \"carpet\"}], \"choropleth\": [{\"colorbar\": {\"outlinewidth\": 0, \"ticks\": \"\"}, \"type\": \"choropleth\"}], \"contour\": [{\"colorbar\": {\"outlinewidth\": 0, \"ticks\": \"\"}, \"colorscale\": [[0.0, \"#0d0887\"], [0.1111111111111111, \"#46039f\"], [0.2222222222222222, \"#7201a8\"], [0.3333333333333333, \"#9c179e\"], [0.4444444444444444, \"#bd3786\"], [0.5555555555555556, \"#d8576b\"], [0.6666666666666666, \"#ed7953\"], [0.7777777777777778, \"#fb9f3a\"], [0.8888888888888888, \"#fdca26\"], [1.0, \"#f0f921\"]], \"type\": \"contour\"}], \"contourcarpet\": [{\"colorbar\": {\"outlinewidth\": 0, \"ticks\": \"\"}, \"type\": \"contourcarpet\"}], \"heatmap\": [{\"colorbar\": {\"outlinewidth\": 0, \"ticks\": \"\"}, \"colorscale\": [[0.0, \"#0d0887\"], [0.1111111111111111, \"#46039f\"], [0.2222222222222222, \"#7201a8\"], [0.3333333333333333, \"#9c179e\"], [0.4444444444444444, \"#bd3786\"], [0.5555555555555556, \"#d8576b\"], [0.6666666666666666, \"#ed7953\"], [0.7777777777777778, \"#fb9f3a\"], [0.8888888888888888, \"#fdca26\"], [1.0, \"#f0f921\"]], \"type\": \"heatmap\"}], \"heatmapgl\": [{\"colorbar\": {\"outlinewidth\": 0, \"ticks\": \"\"}, \"colorscale\": [[0.0, \"#0d0887\"], [0.1111111111111111, \"#46039f\"], [0.2222222222222222, \"#7201a8\"], [0.3333333333333333, \"#9c179e\"], [0.4444444444444444, \"#bd3786\"], [0.5555555555555556, \"#d8576b\"], [0.6666666666666666, \"#ed7953\"], [0.7777777777777778, \"#fb9f3a\"], [0.8888888888888888, \"#fdca26\"], [1.0, \"#f0f921\"]], \"type\": \"heatmapgl\"}], \"histogram\": [{\"marker\": {\"colorbar\": {\"outlinewidth\": 0, \"ticks\": \"\"}}, \"type\": \"histogram\"}], \"histogram2d\": [{\"colorbar\": {\"outlinewidth\": 0, \"ticks\": \"\"}, \"colorscale\": [[0.0, \"#0d0887\"], [0.1111111111111111, \"#46039f\"], [0.2222222222222222, \"#7201a8\"], [0.3333333333333333, \"#9c179e\"], [0.4444444444444444, \"#bd3786\"], [0.5555555555555556, \"#d8576b\"], [0.6666666666666666, \"#ed7953\"], [0.7777777777777778, \"#fb9f3a\"], [0.8888888888888888, \"#fdca26\"], [1.0, \"#f0f921\"]], \"type\": \"histogram2d\"}], \"histogram2dcontour\": [{\"colorbar\": {\"outlinewidth\": 0, \"ticks\": \"\"}, \"colorscale\": [[0.0, \"#0d0887\"], [0.1111111111111111, \"#46039f\"], [0.2222222222222222, \"#7201a8\"], [0.3333333333333333, \"#9c179e\"], [0.4444444444444444, \"#bd3786\"], [0.5555555555555556, \"#d8576b\"], [0.6666666666666666, \"#ed7953\"], [0.7777777777777778, \"#fb9f3a\"], [0.8888888888888888, \"#fdca26\"], [1.0, \"#f0f921\"]], \"type\": \"histogram2dcontour\"}], \"mesh3d\": [{\"colorbar\": {\"outlinewidth\": 0, \"ticks\": \"\"}, \"type\": \"mesh3d\"}], \"parcoords\": [{\"line\": {\"colorbar\": {\"outlinewidth\": 0, \"ticks\": \"\"}}, \"type\": \"parcoords\"}], \"pie\": [{\"automargin\": true, \"type\": \"pie\"}], \"scatter\": [{\"marker\": {\"colorbar\": {\"outlinewidth\": 0, \"ticks\": \"\"}}, \"type\": \"scatter\"}], \"scatter3d\": [{\"line\": {\"colorbar\": {\"outlinewidth\": 0, \"ticks\": \"\"}}, \"marker\": {\"colorbar\": {\"outlinewidth\": 0, \"ticks\": \"\"}}, \"type\": \"scatter3d\"}], \"scattercarpet\": [{\"marker\": {\"colorbar\": {\"outlinewidth\": 0, \"ticks\": \"\"}}, \"type\": \"scattercarpet\"}], \"scattergeo\": [{\"marker\": {\"colorbar\": {\"outlinewidth\": 0, \"ticks\": \"\"}}, \"type\": \"scattergeo\"}], \"scattergl\": [{\"marker\": {\"colorbar\": {\"outlinewidth\": 0, \"ticks\": \"\"}}, \"type\": \"scattergl\"}], \"scattermapbox\": [{\"marker\": {\"colorbar\": {\"outlinewidth\": 0, \"ticks\": \"\"}}, \"type\": \"scattermapbox\"}], \"scatterpolar\": [{\"marker\": {\"colorbar\": {\"outlinewidth\": 0, \"ticks\": \"\"}}, \"type\": \"scatterpolar\"}], \"scatterpolargl\": [{\"marker\": {\"colorbar\": {\"outlinewidth\": 0, \"ticks\": \"\"}}, \"type\": \"scatterpolargl\"}], \"scatterternary\": [{\"marker\": {\"colorbar\": {\"outlinewidth\": 0, \"ticks\": \"\"}}, \"type\": \"scatterternary\"}], \"surface\": [{\"colorbar\": {\"outlinewidth\": 0, \"ticks\": \"\"}, \"colorscale\": [[0.0, \"#0d0887\"], [0.1111111111111111, \"#46039f\"], [0.2222222222222222, \"#7201a8\"], [0.3333333333333333, \"#9c179e\"], [0.4444444444444444, \"#bd3786\"], [0.5555555555555556, \"#d8576b\"], [0.6666666666666666, \"#ed7953\"], [0.7777777777777778, \"#fb9f3a\"], [0.8888888888888888, \"#fdca26\"], [1.0, \"#f0f921\"]], \"type\": \"surface\"}], \"table\": [{\"cells\": {\"fill\": {\"color\": \"#EBF0F8\"}, \"line\": {\"color\": \"white\"}}, \"header\": {\"fill\": {\"color\": \"#C8D4E3\"}, \"line\": {\"color\": \"white\"}}, \"type\": \"table\"}]}, \"layout\": {\"annotationdefaults\": {\"arrowcolor\": \"#2a3f5f\", \"arrowhead\": 0, \"arrowwidth\": 1}, \"coloraxis\": {\"colorbar\": {\"outlinewidth\": 0, \"ticks\": \"\"}}, \"colorscale\": {\"diverging\": [[0, \"#8e0152\"], [0.1, \"#c51b7d\"], [0.2, \"#de77ae\"], [0.3, \"#f1b6da\"], [0.4, \"#fde0ef\"], [0.5, \"#f7f7f7\"], [0.6, \"#e6f5d0\"], [0.7, \"#b8e186\"], [0.8, \"#7fbc41\"], [0.9, \"#4d9221\"], [1, \"#276419\"]], \"sequential\": [[0.0, \"#0d0887\"], [0.1111111111111111, \"#46039f\"], [0.2222222222222222, \"#7201a8\"], [0.3333333333333333, \"#9c179e\"], [0.4444444444444444, \"#bd3786\"], [0.5555555555555556, \"#d8576b\"], [0.6666666666666666, \"#ed7953\"], [0.7777777777777778, \"#fb9f3a\"], [0.8888888888888888, \"#fdca26\"], [1.0, \"#f0f921\"]], \"sequentialminus\": [[0.0, \"#0d0887\"], [0.1111111111111111, \"#46039f\"], [0.2222222222222222, \"#7201a8\"], [0.3333333333333333, \"#9c179e\"], [0.4444444444444444, \"#bd3786\"], [0.5555555555555556, \"#d8576b\"], [0.6666666666666666, \"#ed7953\"], [0.7777777777777778, \"#fb9f3a\"], [0.8888888888888888, \"#fdca26\"], [1.0, \"#f0f921\"]]}, \"colorway\": [\"#636efa\", \"#EF553B\", \"#00cc96\", \"#ab63fa\", \"#FFA15A\", \"#19d3f3\", \"#FF6692\", \"#B6E880\", \"#FF97FF\", \"#FECB52\"], \"font\": {\"color\": \"#2a3f5f\"}, \"geo\": {\"bgcolor\": \"white\", \"lakecolor\": \"white\", \"landcolor\": \"#E5ECF6\", \"showlakes\": true, \"showland\": true, \"subunitcolor\": \"white\"}, \"hoverlabel\": {\"align\": \"left\"}, \"hovermode\": \"closest\", \"mapbox\": {\"style\": \"light\"}, \"paper_bgcolor\": \"white\", \"plot_bgcolor\": \"#E5ECF6\", \"polar\": {\"angularaxis\": {\"gridcolor\": \"white\", \"linecolor\": \"white\", \"ticks\": \"\"}, \"bgcolor\": \"#E5ECF6\", \"radialaxis\": {\"gridcolor\": \"white\", \"linecolor\": \"white\", \"ticks\": \"\"}}, \"scene\": {\"xaxis\": {\"backgroundcolor\": \"#E5ECF6\", \"gridcolor\": \"white\", \"gridwidth\": 2, \"linecolor\": \"white\", \"showbackground\": true, \"ticks\": \"\", \"zerolinecolor\": \"white\"}, \"yaxis\": {\"backgroundcolor\": \"#E5ECF6\", \"gridcolor\": \"white\", \"gridwidth\": 2, \"linecolor\": \"white\", \"showbackground\": true, \"ticks\": \"\", \"zerolinecolor\": \"white\"}, \"zaxis\": {\"backgroundcolor\": \"#E5ECF6\", \"gridcolor\": \"white\", \"gridwidth\": 2, \"linecolor\": \"white\", \"showbackground\": true, \"ticks\": \"\", \"zerolinecolor\": \"white\"}}, \"shapedefaults\": {\"line\": {\"color\": \"#2a3f5f\"}}, \"ternary\": {\"aaxis\": {\"gridcolor\": \"white\", \"linecolor\": \"white\", \"ticks\": \"\"}, \"baxis\": {\"gridcolor\": \"white\", \"linecolor\": \"white\", \"ticks\": \"\"}, \"bgcolor\": \"#E5ECF6\", \"caxis\": {\"gridcolor\": \"white\", \"linecolor\": \"white\", \"ticks\": \"\"}}, \"title\": {\"x\": 0.05}, \"xaxis\": {\"automargin\": true, \"gridcolor\": \"white\", \"linecolor\": \"white\", \"ticks\": \"\", \"title\": {\"standoff\": 15}, \"zerolinecolor\": \"white\", \"zerolinewidth\": 2}, \"yaxis\": {\"automargin\": true, \"gridcolor\": \"white\", \"linecolor\": \"white\", \"ticks\": \"\", \"title\": {\"standoff\": 15}, \"zerolinecolor\": \"white\", \"zerolinewidth\": 2}}}, \"xaxis\": {\"anchor\": \"y\", \"domain\": [0.0, 1.0], \"title\": {\"text\": \"RUC Number\"}}, \"yaxis\": {\"anchor\": \"x\", \"domain\": [0.0, 1.0], \"title\": {\"text\": \"Avg. Sentiment\"}}},\n",
              "                        {\"responsive\": true}\n",
              "                    ).then(function(){\n",
              "                            \n",
              "var gd = document.getElementById('a3e2251d-169b-4c20-9ffc-19605f949826');\n",
              "var x = new MutationObserver(function (mutations, observer) {{\n",
              "        var display = window.getComputedStyle(gd).display;\n",
              "        if (!display || display === 'none') {{\n",
              "            console.log([gd, 'removed!']);\n",
              "            Plotly.purge(gd);\n",
              "            observer.disconnect();\n",
              "        }}\n",
              "}});\n",
              "\n",
              "// Listen for the removal of the full notebook cells\n",
              "var notebookContainer = gd.closest('#notebook-container');\n",
              "if (notebookContainer) {{\n",
              "    x.observe(notebookContainer, {childList: true});\n",
              "}}\n",
              "\n",
              "// Listen for the clearing of the current output cell\n",
              "var outputEl = gd.closest('.output');\n",
              "if (outputEl) {{\n",
              "    x.observe(outputEl, {childList: true});\n",
              "}}\n",
              "\n",
              "                        })\n",
              "                };\n",
              "                \n",
              "            </script>\n",
              "        </div>\n",
              "</body>\n",
              "</html>"
            ]
          },
          "metadata": {
            "tags": []
          }
        }
      ]
    },
    {
      "cell_type": "code",
      "metadata": {
        "id": "ZDWGzVAgl2af",
        "colab_type": "code",
        "outputId": "5ea9d84e-85b5-454e-e8cb-bd6af80ee96c",
        "colab": {
          "base_uri": "https://localhost:8080/",
          "height": 303
        }
      },
      "source": [
        "flat_list = dates\n",
        "x1 = []\n",
        "x2 = []\n",
        "x3 = []\n",
        "for item in flat_list: ##Flat_list is just all the dates in order。 #\n",
        "    x = np.mean(df3[df3['date'] == item].score)\n",
        "    x1.append(x)\n",
        "x = list(range(0,len(flat_list)))\n",
        "plt.xticks(x, flat_list, rotation='vertical')\n",
        "\n",
        "f = df3[df3['state'] == \"CA\"]\n",
        "for item in flat_list: ##Flat_list is just all the dates in order。 #\n",
        "    x = np.mean(f[f['date'] == item].score)\n",
        "    x2.append(x)\n",
        "\n",
        "plt.plot(flat_list, x2, color='red')\n",
        "\n",
        "c = df3[df3['state'] == \"NY\"]\n",
        "for item in flat_list: ##Flat_list is just all the dates in order。 #\n",
        "    x = np.mean(c[c['date'] == item].score)\n",
        "    x3.append(x)\n",
        "    \n",
        "plt.plot(flat_list, x3, color='blue')\n",
        "\n",
        "\n",
        "e = df[df3]\n",
        "# plot[6].set_color('r')\n",
        "# plot[7].set_color('r')\n",
        "\n",
        "\n",
        "\n",
        "# plot[13].set_color('r')\n",
        "# plot[14].set_color('r')\n",
        "\n",
        "\n",
        "\n",
        "\n",
        "# plot[20].set_color('r')\n",
        "# plot[21].set_color('r')\n",
        "\n",
        "plt.title(\"CA vs. NY\")\n",
        "plt.show()\n"
      ],
      "execution_count": 0,
      "outputs": [
        {
          "output_type": "display_data",
          "data": {
            "image/png": "[encoded data removed]",
            "text/plain": [
              "<Figure size 432x288 with 1 Axes>"
            ]
          },
          "metadata": {
            "tags": [],
            "needs_background": "light"
          }
        }
      ]
    },
    {
      "cell_type": "code",
      "metadata": {
        "id": "vHui_DjRqZdE",
        "colab_type": "code",
        "outputId": "d6bc2041-1b00-403d-fcf7-e43202e1b535",
        "colab": {
          "base_uri": "https://localhost:8080/",
          "height": 304
        }
      },
      "source": [
        "x2 = []\n",
        "f = df3[df3['state'] == \"CA\"]\n",
        "for item in flat_list: ##Flat_list is just all the dates in order。 #\n",
        "    x = np.mean(f[f['date'] == item].score)\n",
        "    x2.append(x)\n",
        "    x = list(range(0,len(flat_list)))\n",
        "    plt.xticks(x, flat_list, rotation='vertical')\n",
        "plt.plot(flat_list, x2, color='red')"
      ],
      "execution_count": 0,
      "outputs": [
        {
          "output_type": "execute_result",
          "data": {
            "text/plain": [
              "[<matplotlib.lines.Line2D at 0x7ff0f6b78588>]"
            ]
          },
          "metadata": {
            "tags": []
          },
          "execution_count": 330
        },
        {
          "output_type": "display_data",
          "data": {
            "image/png": "[encoded data removed]",
            "text/plain": [
              "<Figure size 432x288 with 1 Axes>"
            ]
          },
          "metadata": {
            "tags": [],
            "needs_background": "light"
          }
        }
      ]
    },
    {
      "cell_type": "code",
      "metadata": {
        "id": "9HrHEQCSRT7a",
        "colab_type": "code",
        "outputId": "eb5ace95-d880-446b-c4c0-981d0f9dc02f",
        "colab": {
          "base_uri": "https://localhost:8080/",
          "height": 121
        }
      },
      "source": [
        "import scipy as sc\n",
        "df4 = df3['median_household_income'].dropna()\n"
      ],
      "execution_count": 0,
      "outputs": [
        {
          "output_type": "execute_result",
          "data": {
            "text/plain": [
              "6973    57633.0\n",
              "6974    56538.0\n",
              "6975    71746.0\n",
              "6976    35097.0\n",
              "6977    71772.0\n",
              "Name: median_household_income, dtype: float64"
            ]
          },
          "metadata": {
            "tags": []
          },
          "execution_count": 312
        }
      ]
    },
    {
      "cell_type": "code",
      "metadata": {
        "id": "2hsu9B3wSYwQ",
        "colab_type": "code",
        "outputId": "c4cd9ef1-8820-4db9-f88a-47860222dee1",
        "colab": {
          "base_uri": "https://localhost:8080/",
          "height": 710
        }
      },
      "source": [
        "df4 = df3.dropna(subset=['score', 'rural_suburban_urban'])\n",
        "sc.stats.pearsonr(df4['score'], df4['rural_urban_suburban'])"
      ],
      "execution_count": 0,
      "outputs": [
        {
          "output_type": "error",
          "ename": "KeyError",
          "evalue": "ignored",
          "traceback": [
            "\u001b[0;31m---------------------------------------------------------------------------\u001b[0m",
            "\u001b[0;31mKeyError\u001b[0m                                  Traceback (most recent call last)",
            "\u001b[0;32m/usr/local/lib/python3.6/dist-packages/pandas/core/indexes/base.py\u001b[0m in \u001b[0;36mget_loc\u001b[0;34m(self, key, method, tolerance)\u001b[0m\n\u001b[1;32m   2645\u001b[0m             \u001b[0;32mtry\u001b[0m\u001b[0;34m:\u001b[0m\u001b[0;34m\u001b[0m\u001b[0;34m\u001b[0m\u001b[0m\n\u001b[0;32m-> 2646\u001b[0;31m                 \u001b[0;32mreturn\u001b[0m \u001b[0mself\u001b[0m\u001b[0;34m.\u001b[0m\u001b[0m_engine\u001b[0m\u001b[0;34m.\u001b[0m\u001b[0mget_loc\u001b[0m\u001b[0;34m(\u001b[0m\u001b[0mkey\u001b[0m\u001b[0;34m)\u001b[0m\u001b[0;34m\u001b[0m\u001b[0;34m\u001b[0m\u001b[0m\n\u001b[0m\u001b[1;32m   2647\u001b[0m             \u001b[0;32mexcept\u001b[0m \u001b[0mKeyError\u001b[0m\u001b[0;34m:\u001b[0m\u001b[0;34m\u001b[0m\u001b[0;34m\u001b[0m\u001b[0m\n",
            "\u001b[0;32mpandas/_libs/index.pyx\u001b[0m in \u001b[0;36mpandas._libs.index.IndexEngine.get_loc\u001b[0;34m()\u001b[0m\n",
            "\u001b[0;32mpandas/_libs/index.pyx\u001b[0m in \u001b[0;36mpandas._libs.index.IndexEngine.get_loc\u001b[0;34m()\u001b[0m\n",
            "\u001b[0;32mpandas/_libs/hashtable_class_helper.pxi\u001b[0m in \u001b[0;36mpandas._libs.hashtable.PyObjectHashTable.get_item\u001b[0;34m()\u001b[0m\n",
            "\u001b[0;32mpandas/_libs/hashtable_class_helper.pxi\u001b[0m in \u001b[0;36mpandas._libs.hashtable.PyObjectHashTable.get_item\u001b[0;34m()\u001b[0m\n",
            "\u001b[0;31mKeyError\u001b[0m: 'rural_urban_suburban'",
            "\nDuring handling of the above exception, another exception occurred:\n",
            "\u001b[0;31mKeyError\u001b[0m                                  Traceback (most recent call last)",
            "\u001b[0;32m<ipython-input-326-e72eb49cf7c1>\u001b[0m in \u001b[0;36m<module>\u001b[0;34m()\u001b[0m\n\u001b[1;32m      1\u001b[0m \u001b[0mdf4\u001b[0m \u001b[0;34m=\u001b[0m \u001b[0mdf3\u001b[0m\u001b[0;34m.\u001b[0m\u001b[0mdropna\u001b[0m\u001b[0;34m(\u001b[0m\u001b[0msubset\u001b[0m\u001b[0;34m=\u001b[0m\u001b[0;34m[\u001b[0m\u001b[0;34m'score'\u001b[0m\u001b[0;34m,\u001b[0m \u001b[0;34m'rural_suburban_urban'\u001b[0m\u001b[0;34m]\u001b[0m\u001b[0;34m)\u001b[0m\u001b[0;34m\u001b[0m\u001b[0;34m\u001b[0m\u001b[0m\n\u001b[0;32m----> 2\u001b[0;31m \u001b[0msc\u001b[0m\u001b[0;34m.\u001b[0m\u001b[0mstats\u001b[0m\u001b[0;34m.\u001b[0m\u001b[0mpearsonr\u001b[0m\u001b[0;34m(\u001b[0m\u001b[0mdf4\u001b[0m\u001b[0;34m[\u001b[0m\u001b[0;34m'score'\u001b[0m\u001b[0;34m]\u001b[0m\u001b[0;34m,\u001b[0m \u001b[0mdf4\u001b[0m\u001b[0;34m[\u001b[0m\u001b[0;34m'rural_urban_suburban'\u001b[0m\u001b[0;34m]\u001b[0m\u001b[0;34m)\u001b[0m\u001b[0;34m\u001b[0m\u001b[0;34m\u001b[0m\u001b[0m\n\u001b[0m",
            "\u001b[0;32m/usr/local/lib/python3.6/dist-packages/pandas/core/frame.py\u001b[0m in \u001b[0;36m__getitem__\u001b[0;34m(self, key)\u001b[0m\n\u001b[1;32m   2798\u001b[0m             \u001b[0;32mif\u001b[0m \u001b[0mself\u001b[0m\u001b[0;34m.\u001b[0m\u001b[0mcolumns\u001b[0m\u001b[0;34m.\u001b[0m\u001b[0mnlevels\u001b[0m \u001b[0;34m>\u001b[0m \u001b[0;36m1\u001b[0m\u001b[0;34m:\u001b[0m\u001b[0;34m\u001b[0m\u001b[0;34m\u001b[0m\u001b[0m\n\u001b[1;32m   2799\u001b[0m                 \u001b[0;32mreturn\u001b[0m \u001b[0mself\u001b[0m\u001b[0;34m.\u001b[0m\u001b[0m_getitem_multilevel\u001b[0m\u001b[0;34m(\u001b[0m\u001b[0mkey\u001b[0m\u001b[0;34m)\u001b[0m\u001b[0;34m\u001b[0m\u001b[0;34m\u001b[0m\u001b[0m\n\u001b[0;32m-> 2800\u001b[0;31m             \u001b[0mindexer\u001b[0m \u001b[0;34m=\u001b[0m \u001b[0mself\u001b[0m\u001b[0;34m.\u001b[0m\u001b[0mcolumns\u001b[0m\u001b[0;34m.\u001b[0m\u001b[0mget_loc\u001b[0m\u001b[0;34m(\u001b[0m\u001b[0mkey\u001b[0m\u001b[0;34m)\u001b[0m\u001b[0;34m\u001b[0m\u001b[0;34m\u001b[0m\u001b[0m\n\u001b[0m\u001b[1;32m   2801\u001b[0m             \u001b[0;32mif\u001b[0m \u001b[0mis_integer\u001b[0m\u001b[0;34m(\u001b[0m\u001b[0mindexer\u001b[0m\u001b[0;34m)\u001b[0m\u001b[0;34m:\u001b[0m\u001b[0;34m\u001b[0m\u001b[0;34m\u001b[0m\u001b[0m\n\u001b[1;32m   2802\u001b[0m                 \u001b[0mindexer\u001b[0m \u001b[0;34m=\u001b[0m \u001b[0;34m[\u001b[0m\u001b[0mindexer\u001b[0m\u001b[0;34m]\u001b[0m\u001b[0;34m\u001b[0m\u001b[0;34m\u001b[0m\u001b[0m\n",
            "\u001b[0;32m/usr/local/lib/python3.6/dist-packages/pandas/core/indexes/base.py\u001b[0m in \u001b[0;36mget_loc\u001b[0;34m(self, key, method, tolerance)\u001b[0m\n\u001b[1;32m   2646\u001b[0m                 \u001b[0;32mreturn\u001b[0m \u001b[0mself\u001b[0m\u001b[0;34m.\u001b[0m\u001b[0m_engine\u001b[0m\u001b[0;34m.\u001b[0m\u001b[0mget_loc\u001b[0m\u001b[0;34m(\u001b[0m\u001b[0mkey\u001b[0m\u001b[0;34m)\u001b[0m\u001b[0;34m\u001b[0m\u001b[0;34m\u001b[0m\u001b[0m\n\u001b[1;32m   2647\u001b[0m             \u001b[0;32mexcept\u001b[0m \u001b[0mKeyError\u001b[0m\u001b[0;34m:\u001b[0m\u001b[0;34m\u001b[0m\u001b[0;34m\u001b[0m\u001b[0m\n\u001b[0;32m-> 2648\u001b[0;31m                 \u001b[0;32mreturn\u001b[0m \u001b[0mself\u001b[0m\u001b[0;34m.\u001b[0m\u001b[0m_engine\u001b[0m\u001b[0;34m.\u001b[0m\u001b[0mget_loc\u001b[0m\u001b[0;34m(\u001b[0m\u001b[0mself\u001b[0m\u001b[0;34m.\u001b[0m\u001b[0m_maybe_cast_indexer\u001b[0m\u001b[0;34m(\u001b[0m\u001b[0mkey\u001b[0m\u001b[0;34m)\u001b[0m\u001b[0;34m)\u001b[0m\u001b[0;34m\u001b[0m\u001b[0;34m\u001b[0m\u001b[0m\n\u001b[0m\u001b[1;32m   2649\u001b[0m         \u001b[0mindexer\u001b[0m \u001b[0;34m=\u001b[0m \u001b[0mself\u001b[0m\u001b[0;34m.\u001b[0m\u001b[0mget_indexer\u001b[0m\u001b[0;34m(\u001b[0m\u001b[0;34m[\u001b[0m\u001b[0mkey\u001b[0m\u001b[0;34m]\u001b[0m\u001b[0;34m,\u001b[0m \u001b[0mmethod\u001b[0m\u001b[0;34m=\u001b[0m\u001b[0mmethod\u001b[0m\u001b[0;34m,\u001b[0m \u001b[0mtolerance\u001b[0m\u001b[0;34m=\u001b[0m\u001b[0mtolerance\u001b[0m\u001b[0;34m)\u001b[0m\u001b[0;34m\u001b[0m\u001b[0;34m\u001b[0m\u001b[0m\n\u001b[1;32m   2650\u001b[0m         \u001b[0;32mif\u001b[0m \u001b[0mindexer\u001b[0m\u001b[0;34m.\u001b[0m\u001b[0mndim\u001b[0m \u001b[0;34m>\u001b[0m \u001b[0;36m1\u001b[0m \u001b[0;32mor\u001b[0m \u001b[0mindexer\u001b[0m\u001b[0;34m.\u001b[0m\u001b[0msize\u001b[0m \u001b[0;34m>\u001b[0m \u001b[0;36m1\u001b[0m\u001b[0;34m:\u001b[0m\u001b[0;34m\u001b[0m\u001b[0;34m\u001b[0m\u001b[0m\n",
            "\u001b[0;32mpandas/_libs/index.pyx\u001b[0m in \u001b[0;36mpandas._libs.index.IndexEngine.get_loc\u001b[0;34m()\u001b[0m\n",
            "\u001b[0;32mpandas/_libs/index.pyx\u001b[0m in \u001b[0;36mpandas._libs.index.IndexEngine.get_loc\u001b[0;34m()\u001b[0m\n",
            "\u001b[0;32mpandas/_libs/hashtable_class_helper.pxi\u001b[0m in \u001b[0;36mpandas._libs.hashtable.PyObjectHashTable.get_item\u001b[0;34m()\u001b[0m\n",
            "\u001b[0;32mpandas/_libs/hashtable_class_helper.pxi\u001b[0m in \u001b[0;36mpandas._libs.hashtable.PyObjectHashTable.get_item\u001b[0;34m()\u001b[0m\n",
            "\u001b[0;31mKeyError\u001b[0m: 'rural_urban_suburban'"
          ]
        }
      ]
    },
    {
      "cell_type": "code",
      "metadata": {
        "id": "byJ8ewCM8yYD",
        "colab_type": "code",
        "colab": {}
      },
      "source": [
        "import plotly.graph_objects as go \n",
        "income_fig = px.histogram(df3, x='median_household_income', y=df3['score'], nbins=10)\n",
        "income_fig.show()"
      ],
      "execution_count": 0,
      "outputs": []
    },
    {
      "cell_type": "code",
      "metadata": {
        "id": "CKMMv2tnARmI",
        "colab_type": "code",
        "outputId": "ce003f24-3288-4f6c-81f3-e98053e6db75",
        "colab": {
          "base_uri": "https://localhost:8080/",
          "height": 486
        }
      },
      "source": [
        "df3.dtypes"
      ],
      "execution_count": 0,
      "outputs": [
        {
          "output_type": "execute_result",
          "data": {
            "text/plain": [
              "level_0                      int64\n",
              "index                        int64\n",
              "Unnamed: 0                   int64\n",
              "Unnamed: 0.1                 int64\n",
              "Unnamed: 0.1.1              object\n",
              "Tweet_id                    object\n",
              "name                        object\n",
              "id                          object\n",
              "location                    object\n",
              "text                        object\n",
              "sentiment                   object\n",
              "age                         object\n",
              "gender                      object\n",
              "date                        object\n",
              "time                        object\n",
              "race                        object\n",
              "score                      float64\n",
              "screen_name                 object\n",
              "Unnamed: 0.1.1.1           float64\n",
              "zipcode                     object\n",
              "state                       object\n",
              "median_household_income     object\n",
              "pop_density                 object\n",
              "county                      string\n",
              "rural_suburban_urban        string\n",
              "county_name                 string\n",
              "dtype: object"
            ]
          },
          "metadata": {
            "tags": []
          },
          "execution_count": 235
        }
      ]
    },
    {
      "cell_type": "code",
      "metadata": {
        "id": "P2hvQwmuBuQ7",
        "colab_type": "code",
        "outputId": "1dc7bd31-9132-40c4-99b6-90e9afb49ef6",
        "colab": {
          "base_uri": "https://localhost:8080/",
          "height": 156
        }
      },
      "source": [
        "df3['median_household_income'] = df3['median_household_income'].astype(\"float\")"
      ],
      "execution_count": 0,
      "outputs": [
        {
          "output_type": "stream",
          "text": [
            "/usr/local/lib/python3.6/dist-packages/ipykernel_launcher.py:1: SettingWithCopyWarning:\n",
            "\n",
            "\n",
            "A value is trying to be set on a copy of a slice from a DataFrame.\n",
            "Try using .loc[row_indexer,col_indexer] = value instead\n",
            "\n",
            "See the caveats in the documentation: https://pandas.pydata.org/pandas-docs/stable/user_guide/indexing.html#returning-a-view-versus-a-copy\n",
            "\n"
          ],
          "name": "stderr"
        }
      ]
    },
    {
      "cell_type": "code",
      "metadata": {
        "id": "Qk7P3ylJAF6X",
        "colab_type": "code",
        "outputId": "ae3f07f9-6f02-4d5b-b888-41d996b14c6b",
        "colab": {
          "base_uri": "https://localhost:8080/",
          "height": 191
        }
      },
      "source": [
        "bins =  np.linspace(df3.median_household_income.min(), df3.median_household_income.max(), 10)\n",
        "groups = df3.groupby(np.digitize(df3.median_household_income, bins))\n",
        "groups.mean().score"
      ],
      "execution_count": 0,
      "outputs": [
        {
          "output_type": "execute_result",
          "data": {
            "text/plain": [
              "1     0.031129\n",
              "2     0.017167\n",
              "3    -0.005079\n",
              "4     0.000003\n",
              "5    -0.017097\n",
              "6     0.056896\n",
              "7    -0.029976\n",
              "9    -0.709600\n",
              "10    0.066141\n",
              "Name: score, dtype: float64"
            ]
          },
          "metadata": {
            "tags": []
          },
          "execution_count": 253
        }
      ]
    },
    {
      "cell_type": "code",
      "metadata": {
        "id": "CIcuzBwWFjkH",
        "colab_type": "code",
        "outputId": "ac0bb9cd-5ed2-4e52-af63-aa70d4210bbf",
        "colab": {
          "base_uri": "https://localhost:8080/",
          "height": 54
        }
      },
      "source": [
        "l = []\n",
        "m = []\n",
        "for b in bins:\n",
        "  l.append(b)\n",
        "print(l)"
      ],
      "execution_count": 0,
      "outputs": [
        {
          "output_type": "stream",
          "text": [
            "[14504.0, 31049.444444444445, 47594.88888888889, 64140.333333333336, 80685.77777777778, 97231.22222222222, 113776.66666666667, 130322.11111111112, 146867.55555555556, 163413.0]\n"
          ],
          "name": "stdout"
        }
      ]
    },
    {
      "cell_type": "code",
      "metadata": {
        "id": "Uxcfdva3Gpkt",
        "colab_type": "code",
        "outputId": "f9156571-36eb-48af-bd15-7bb490498fa6",
        "colab": {
          "base_uri": "https://localhost:8080/",
          "height": 206
        }
      },
      "source": [
        "m = list(groups.mean().score)\n",
        "hey = pd.DataFrame(zip(l, m), columns=['Income Bins', 'Avg. Sentiment'])\n",
        "hey.tail()"
      ],
      "execution_count": 0,
      "outputs": [
        {
          "output_type": "execute_result",
          "data": {
            "text/html": [
              "<div>\n",
              "<style scoped>\n",
              "    .dataframe tbody tr th:only-of-type {\n",
              "        vertical-align: middle;\n",
              "    }\n",
              "\n",
              "    .dataframe tbody tr th {\n",
              "        vertical-align: top;\n",
              "    }\n",
              "\n",
              "    .dataframe thead th {\n",
              "        text-align: right;\n",
              "    }\n",
              "</style>\n",
              "<table border=\"1\" class=\"dataframe\">\n",
              "  <thead>\n",
              "    <tr style=\"text-align: right;\">\n",
              "      <th></th>\n",
              "      <th>Income Bins</th>\n",
              "      <th>Avg. Sentiment</th>\n",
              "    </tr>\n",
              "  </thead>\n",
              "  <tbody>\n",
              "    <tr>\n",
              "      <th>4</th>\n",
              "      <td>80685.777778</td>\n",
              "      <td>-0.017097</td>\n",
              "    </tr>\n",
              "    <tr>\n",
              "      <th>5</th>\n",
              "      <td>97231.222222</td>\n",
              "      <td>0.056896</td>\n",
              "    </tr>\n",
              "    <tr>\n",
              "      <th>6</th>\n",
              "      <td>113776.666667</td>\n",
              "      <td>-0.029976</td>\n",
              "    </tr>\n",
              "    <tr>\n",
              "      <th>7</th>\n",
              "      <td>130322.111111</td>\n",
              "      <td>-0.709600</td>\n",
              "    </tr>\n",
              "    <tr>\n",
              "      <th>8</th>\n",
              "      <td>146867.555556</td>\n",
              "      <td>0.066141</td>\n",
              "    </tr>\n",
              "  </tbody>\n",
              "</table>\n",
              "</div>"
            ],
            "text/plain": [
              "     Income Bins  Avg. Sentiment\n",
              "4   80685.777778       -0.017097\n",
              "5   97231.222222        0.056896\n",
              "6  113776.666667       -0.029976\n",
              "7  130322.111111       -0.709600\n",
              "8  146867.555556        0.066141"
            ]
          },
          "metadata": {
            "tags": []
          },
          "execution_count": 272
        }
      ]
    },
    {
      "cell_type": "code",
      "metadata": {
        "id": "bk7hmZhxJeQO",
        "colab_type": "code",
        "outputId": "5ea58bfe-73ae-45e0-f378-1dfa04ad5832",
        "colab": {
          "base_uri": "https://localhost:8080/",
          "height": 400
        }
      },
      "source": [
        "df3.head()"
      ],
      "execution_count": 0,
      "outputs": [
        {
          "output_type": "execute_result",
          "data": {
            "text/html": [
              "<div>\n",
              "<style scoped>\n",
              "    .dataframe tbody tr th:only-of-type {\n",
              "        vertical-align: middle;\n",
              "    }\n",
              "\n",
              "    .dataframe tbody tr th {\n",
              "        vertical-align: top;\n",
              "    }\n",
              "\n",
              "    .dataframe thead th {\n",
              "        text-align: right;\n",
              "    }\n",
              "</style>\n",
              "<table border=\"1\" class=\"dataframe\">\n",
              "  <thead>\n",
              "    <tr style=\"text-align: right;\">\n",
              "      <th></th>\n",
              "      <th>level_0</th>\n",
              "      <th>index</th>\n",
              "      <th>Unnamed: 0</th>\n",
              "      <th>Unnamed: 0.1</th>\n",
              "      <th>Unnamed: 0.1.1</th>\n",
              "      <th>Tweet_id</th>\n",
              "      <th>name</th>\n",
              "      <th>id</th>\n",
              "      <th>location</th>\n",
              "      <th>text</th>\n",
              "      <th>sentiment</th>\n",
              "      <th>age</th>\n",
              "      <th>gender</th>\n",
              "      <th>date</th>\n",
              "      <th>time</th>\n",
              "      <th>race</th>\n",
              "      <th>score</th>\n",
              "      <th>screen_name</th>\n",
              "      <th>Unnamed: 0.1.1.1</th>\n",
              "      <th>zipcode</th>\n",
              "      <th>state</th>\n",
              "      <th>median_household_income</th>\n",
              "      <th>pop_density</th>\n",
              "      <th>county</th>\n",
              "      <th>rural_suburban_urban</th>\n",
              "      <th>county_name</th>\n",
              "    </tr>\n",
              "  </thead>\n",
              "  <tbody>\n",
              "    <tr>\n",
              "      <th>0</th>\n",
              "      <td>7</td>\n",
              "      <td>22</td>\n",
              "      <td>22</td>\n",
              "      <td>22</td>\n",
              "      <td>22</td>\n",
              "      <td>1246018579151179800</td>\n",
              "      <td>Steve Finlay</td>\n",
              "      <td>176126108</td>\n",
              "      <td>Newfoundland, Canada</td>\n",
              "      <td>NEW | Homemade masks won't protect you against...</td>\n",
              "      <td>Positive</td>\n",
              "      <td>30-39</td>\n",
              "      <td>Male</td>\n",
              "      <td>Apr03</td>\n",
              "      <td>10:15:53</td>\n",
              "      <td>GreaterEuropean,British</td>\n",
              "      <td>0.0813</td>\n",
              "      <td>Electr0z</td>\n",
              "      <td>NaN</td>\n",
              "      <td>10001</td>\n",
              "      <td>NY</td>\n",
              "      <td>81671.0</td>\n",
              "      <td>33959</td>\n",
              "      <td>New York County</td>\n",
              "      <td>1</td>\n",
              "      <td>New York</td>\n",
              "    </tr>\n",
              "    <tr>\n",
              "      <th>1</th>\n",
              "      <td>11</td>\n",
              "      <td>30</td>\n",
              "      <td>30</td>\n",
              "      <td>30</td>\n",
              "      <td>30</td>\n",
              "      <td>1246106235545571300</td>\n",
              "      <td>JM Ngala</td>\n",
              "      <td>1527509845</td>\n",
              "      <td>Nairobi, Kenya</td>\n",
              "      <td>Didier Drogba, Samuel Eto'o and Demba Ba slamm...</td>\n",
              "      <td>Positive</td>\n",
              "      <td>30-39</td>\n",
              "      <td>Male</td>\n",
              "      <td>Apr03</td>\n",
              "      <td>16:04:12</td>\n",
              "      <td>Asian,GreaterEastAsian,EastAsian</td>\n",
              "      <td>0.1471</td>\n",
              "      <td>john_lij</td>\n",
              "      <td>NaN</td>\n",
              "      <td>03901</td>\n",
              "      <td>ME</td>\n",
              "      <td>63264.0</td>\n",
              "      <td>192</td>\n",
              "      <td>York County</td>\n",
              "      <td>1</td>\n",
              "      <td>York</td>\n",
              "    </tr>\n",
              "    <tr>\n",
              "      <th>2</th>\n",
              "      <td>12</td>\n",
              "      <td>32</td>\n",
              "      <td>32</td>\n",
              "      <td>32</td>\n",
              "      <td>32</td>\n",
              "      <td>1246244571832397800</td>\n",
              "      <td>AB Momentum Massage</td>\n",
              "      <td>347580948</td>\n",
              "      <td>Edmonton, AB, Canada</td>\n",
              "      <td>Canadians vs Americans during a time of crisis...</td>\n",
              "      <td>Positive</td>\n",
              "      <td>&gt;40</td>\n",
              "      <td>Female</td>\n",
              "      <td>Apr04</td>\n",
              "      <td>01:13:54</td>\n",
              "      <td>GreaterEuropean,WestEuropean,Nordic</td>\n",
              "      <td>0.6369</td>\n",
              "      <td>AlbertaMomentum</td>\n",
              "      <td>NaN</td>\n",
              "      <td>98001</td>\n",
              "      <td>WA</td>\n",
              "      <td>71746.0</td>\n",
              "      <td>1717</td>\n",
              "      <td>King County</td>\n",
              "      <td>1</td>\n",
              "      <td>King</td>\n",
              "    </tr>\n",
              "    <tr>\n",
              "      <th>3</th>\n",
              "      <td>19</td>\n",
              "      <td>52</td>\n",
              "      <td>52</td>\n",
              "      <td>52</td>\n",
              "      <td>52</td>\n",
              "      <td>1246243309871341600</td>\n",
              "      <td>Geeky Hoody</td>\n",
              "      <td>2817977711</td>\n",
              "      <td>Dallas, TX</td>\n",
              "      <td>I make this look Safe. Thanks mamazolaemporium...</td>\n",
              "      <td>Positive</td>\n",
              "      <td>&lt;=18</td>\n",
              "      <td>Male</td>\n",
              "      <td>Apr04</td>\n",
              "      <td>01:08:53</td>\n",
              "      <td>Asian,IndianSubContinent</td>\n",
              "      <td>0.7003</td>\n",
              "      <td>geekyhoody</td>\n",
              "      <td>NaN</td>\n",
              "      <td>43001</td>\n",
              "      <td>OH</td>\n",
              "      <td>76806.0</td>\n",
              "      <td>90</td>\n",
              "      <td>Licking County</td>\n",
              "      <td>1</td>\n",
              "      <td>Licking</td>\n",
              "    </tr>\n",
              "    <tr>\n",
              "      <th>4</th>\n",
              "      <td>32</td>\n",
              "      <td>83</td>\n",
              "      <td>83</td>\n",
              "      <td>83</td>\n",
              "      <td>83</td>\n",
              "      <td>1245925985821716500</td>\n",
              "      <td>Melissa</td>\n",
              "      <td>867592382069342208</td>\n",
              "      <td>Auburn, WA</td>\n",
              "      <td>Ok, Twitter, you asked for it, I promised it, ...</td>\n",
              "      <td>Neutral</td>\n",
              "      <td>&gt;40</td>\n",
              "      <td>Female</td>\n",
              "      <td>Apr03</td>\n",
              "      <td>04:07:57</td>\n",
              "      <td>GreaterEuropean,WestEuropean,Italian</td>\n",
              "      <td>0.0387</td>\n",
              "      <td>Marusyllus</td>\n",
              "      <td>NaN</td>\n",
              "      <td>36272</td>\n",
              "      <td>AL</td>\n",
              "      <td>37973.0</td>\n",
              "      <td>40</td>\n",
              "      <td>Calhoun County</td>\n",
              "      <td>8</td>\n",
              "      <td>Calhoun</td>\n",
              "    </tr>\n",
              "  </tbody>\n",
              "</table>\n",
              "</div>"
            ],
            "text/plain": [
              "   level_0  index  Unnamed: 0  ...           county rural_suburban_urban county_name\n",
              "0        7     22          22  ...  New York County                    1    New York\n",
              "1       11     30          30  ...      York County                    1        York\n",
              "2       12     32          32  ...      King County                    1        King\n",
              "3       19     52          52  ...   Licking County                    1     Licking\n",
              "4       32     83          83  ...   Calhoun County                    8     Calhoun\n",
              "\n",
              "[5 rows x 26 columns]"
            ]
          },
          "metadata": {
            "tags": []
          },
          "execution_count": 277
        }
      ]
    },
    {
      "cell_type": "code",
      "metadata": {
        "id": "nQKL2rGgJKrM",
        "colab_type": "code",
        "outputId": "3f9374f8-3afa-4a61-838e-89b3b58814bf",
        "colab": {
          "base_uri": "https://localhost:8080/",
          "height": 86
        }
      },
      "source": [
        "for i, row in df3.iterrows():\n",
        "  if (df3.at[i, 'median_household_income'] >= 130000) and (df3.at[i, 'score'] <= -0.8):\n",
        "    print(i)"
      ],
      "execution_count": 0,
      "outputs": [
        {
          "output_type": "stream",
          "text": [
            "1164\n",
            "1217\n",
            "2454\n",
            "4591\n"
          ],
          "name": "stdout"
        }
      ]
    },
    {
      "cell_type": "code",
      "metadata": {
        "id": "uzzUcZoiFAmk",
        "colab_type": "code",
        "outputId": "7d199ddc-ae58-4d2e-bf84-78e226d7d506",
        "colab": {
          "base_uri": "https://localhost:8080/",
          "height": 542
        }
      },
      "source": [
        "income_score = px.bar(hey, x='Income Bins', y = 'Avg. Sentiment')\n",
        "income_score.show()"
      ],
      "execution_count": 0,
      "outputs": [
        {
          "output_type": "display_data",
          "data": {
            "text/html": [
              "<html>\n",
              "<head><meta charset=\"utf-8\" /></head>\n",
              "<body>\n",
              "    <div>\n",
              "            <script src=\"https://cdnjs.cloudflare.com/ajax/libs/mathjax/2.7.5/MathJax.js?config=TeX-AMS-MML_SVG\"></script><script type=\"text/javascript\">if (window.MathJax) {MathJax.Hub.Config({SVG: {font: \"STIX-Web\"}});}</script>\n",
              "                <script type=\"text/javascript\">window.PlotlyConfig = {MathJaxConfig: 'local'};</script>\n",
              "        <script src=\"https://cdn.plot.ly/plotly-latest.min.js\"></script>    \n",
              "            <div id=\"787767d6-708e-4c54-9c24-f3a6db10a3da\" class=\"plotly-graph-div\" style=\"height:525px; width:100%;\"></div>\n",
              "            <script type=\"text/javascript\">\n",
              "                \n",
              "                    window.PLOTLYENV=window.PLOTLYENV || {};\n",
              "                    \n",
              "                if (document.getElementById(\"787767d6-708e-4c54-9c24-f3a6db10a3da\")) {\n",
              "                    Plotly.newPlot(\n",
              "                        '787767d6-708e-4c54-9c24-f3a6db10a3da',\n",
              "                        [{\"alignmentgroup\": \"True\", \"hovertemplate\": \"Income Bins=%{x}<br>Avg. Sentiment=%{y}<extra></extra>\", \"legendgroup\": \"\", \"marker\": {\"color\": \"#636efa\"}, \"name\": \"\", \"offsetgroup\": \"\", \"orientation\": \"v\", \"showlegend\": false, \"textposition\": \"auto\", \"type\": \"bar\", \"x\": [14504.0, 31049.444444444445, 47594.88888888889, 64140.333333333336, 80685.77777777778, 97231.22222222222, 113776.66666666667, 130322.11111111112, 146867.55555555556], \"xaxis\": \"x\", \"y\": [0.031128571428571426, 0.017167153284671572, -0.005078885448916406, 3.1620553359861484e-06, -0.017096739130434732, 0.056895918367346934, -0.029975720164609056, -0.7096, 0.06614108108108112], \"yaxis\": \"y\"}],\n",
              "                        {\"barmode\": \"relative\", \"legend\": {\"tracegroupgap\": 0}, \"margin\": {\"t\": 60}, \"template\": {\"data\": {\"bar\": [{\"error_x\": {\"color\": \"#2a3f5f\"}, \"error_y\": {\"color\": \"#2a3f5f\"}, \"marker\": {\"line\": {\"color\": \"#E5ECF6\", \"width\": 0.5}}, \"type\": \"bar\"}], \"barpolar\": [{\"marker\": {\"line\": {\"color\": \"#E5ECF6\", \"width\": 0.5}}, \"type\": \"barpolar\"}], \"carpet\": [{\"aaxis\": {\"endlinecolor\": \"#2a3f5f\", \"gridcolor\": \"white\", \"linecolor\": \"white\", \"minorgridcolor\": \"white\", \"startlinecolor\": \"#2a3f5f\"}, \"baxis\": {\"endlinecolor\": \"#2a3f5f\", \"gridcolor\": \"white\", \"linecolor\": \"white\", \"minorgridcolor\": \"white\", \"startlinecolor\": \"#2a3f5f\"}, \"type\": \"carpet\"}], \"choropleth\": [{\"colorbar\": {\"outlinewidth\": 0, \"ticks\": \"\"}, \"type\": \"choropleth\"}], \"contour\": [{\"colorbar\": {\"outlinewidth\": 0, \"ticks\": \"\"}, \"colorscale\": [[0.0, \"#0d0887\"], [0.1111111111111111, \"#46039f\"], [0.2222222222222222, \"#7201a8\"], [0.3333333333333333, \"#9c179e\"], [0.4444444444444444, \"#bd3786\"], [0.5555555555555556, \"#d8576b\"], [0.6666666666666666, \"#ed7953\"], [0.7777777777777778, \"#fb9f3a\"], [0.8888888888888888, \"#fdca26\"], [1.0, \"#f0f921\"]], \"type\": \"contour\"}], \"contourcarpet\": [{\"colorbar\": {\"outlinewidth\": 0, \"ticks\": \"\"}, \"type\": \"contourcarpet\"}], \"heatmap\": [{\"colorbar\": {\"outlinewidth\": 0, \"ticks\": \"\"}, \"colorscale\": [[0.0, \"#0d0887\"], [0.1111111111111111, \"#46039f\"], [0.2222222222222222, \"#7201a8\"], [0.3333333333333333, \"#9c179e\"], [0.4444444444444444, \"#bd3786\"], [0.5555555555555556, \"#d8576b\"], [0.6666666666666666, \"#ed7953\"], [0.7777777777777778, \"#fb9f3a\"], [0.8888888888888888, \"#fdca26\"], [1.0, \"#f0f921\"]], \"type\": \"heatmap\"}], \"heatmapgl\": [{\"colorbar\": {\"outlinewidth\": 0, \"ticks\": \"\"}, \"colorscale\": [[0.0, \"#0d0887\"], [0.1111111111111111, \"#46039f\"], [0.2222222222222222, \"#7201a8\"], [0.3333333333333333, \"#9c179e\"], [0.4444444444444444, \"#bd3786\"], [0.5555555555555556, \"#d8576b\"], [0.6666666666666666, \"#ed7953\"], [0.7777777777777778, \"#fb9f3a\"], [0.8888888888888888, \"#fdca26\"], [1.0, \"#f0f921\"]], \"type\": \"heatmapgl\"}], \"histogram\": [{\"marker\": {\"colorbar\": {\"outlinewidth\": 0, \"ticks\": \"\"}}, \"type\": \"histogram\"}], \"histogram2d\": [{\"colorbar\": {\"outlinewidth\": 0, \"ticks\": \"\"}, \"colorscale\": [[0.0, \"#0d0887\"], [0.1111111111111111, \"#46039f\"], [0.2222222222222222, \"#7201a8\"], [0.3333333333333333, \"#9c179e\"], [0.4444444444444444, \"#bd3786\"], [0.5555555555555556, \"#d8576b\"], [0.6666666666666666, \"#ed7953\"], [0.7777777777777778, \"#fb9f3a\"], [0.8888888888888888, \"#fdca26\"], [1.0, \"#f0f921\"]], \"type\": \"histogram2d\"}], \"histogram2dcontour\": [{\"colorbar\": {\"outlinewidth\": 0, \"ticks\": \"\"}, \"colorscale\": [[0.0, \"#0d0887\"], [0.1111111111111111, \"#46039f\"], [0.2222222222222222, \"#7201a8\"], [0.3333333333333333, \"#9c179e\"], [0.4444444444444444, \"#bd3786\"], [0.5555555555555556, \"#d8576b\"], [0.6666666666666666, \"#ed7953\"], [0.7777777777777778, \"#fb9f3a\"], [0.8888888888888888, \"#fdca26\"], [1.0, \"#f0f921\"]], \"type\": \"histogram2dcontour\"}], \"mesh3d\": [{\"colorbar\": {\"outlinewidth\": 0, \"ticks\": \"\"}, \"type\": \"mesh3d\"}], \"parcoords\": [{\"line\": {\"colorbar\": {\"outlinewidth\": 0, \"ticks\": \"\"}}, \"type\": \"parcoords\"}], \"pie\": [{\"automargin\": true, \"type\": \"pie\"}], \"scatter\": [{\"marker\": {\"colorbar\": {\"outlinewidth\": 0, \"ticks\": \"\"}}, \"type\": \"scatter\"}], \"scatter3d\": [{\"line\": {\"colorbar\": {\"outlinewidth\": 0, \"ticks\": \"\"}}, \"marker\": {\"colorbar\": {\"outlinewidth\": 0, \"ticks\": \"\"}}, \"type\": \"scatter3d\"}], \"scattercarpet\": [{\"marker\": {\"colorbar\": {\"outlinewidth\": 0, \"ticks\": \"\"}}, \"type\": \"scattercarpet\"}], \"scattergeo\": [{\"marker\": {\"colorbar\": {\"outlinewidth\": 0, \"ticks\": \"\"}}, \"type\": \"scattergeo\"}], \"scattergl\": [{\"marker\": {\"colorbar\": {\"outlinewidth\": 0, \"ticks\": \"\"}}, \"type\": \"scattergl\"}], \"scattermapbox\": [{\"marker\": {\"colorbar\": {\"outlinewidth\": 0, \"ticks\": \"\"}}, \"type\": \"scattermapbox\"}], \"scatterpolar\": [{\"marker\": {\"colorbar\": {\"outlinewidth\": 0, \"ticks\": \"\"}}, \"type\": \"scatterpolar\"}], \"scatterpolargl\": [{\"marker\": {\"colorbar\": {\"outlinewidth\": 0, \"ticks\": \"\"}}, \"type\": \"scatterpolargl\"}], \"scatterternary\": [{\"marker\": {\"colorbar\": {\"outlinewidth\": 0, \"ticks\": \"\"}}, \"type\": \"scatterternary\"}], \"surface\": [{\"colorbar\": {\"outlinewidth\": 0, \"ticks\": \"\"}, \"colorscale\": [[0.0, \"#0d0887\"], [0.1111111111111111, \"#46039f\"], [0.2222222222222222, \"#7201a8\"], [0.3333333333333333, \"#9c179e\"], [0.4444444444444444, \"#bd3786\"], [0.5555555555555556, \"#d8576b\"], [0.6666666666666666, \"#ed7953\"], [0.7777777777777778, \"#fb9f3a\"], [0.8888888888888888, \"#fdca26\"], [1.0, \"#f0f921\"]], \"type\": \"surface\"}], \"table\": [{\"cells\": {\"fill\": {\"color\": \"#EBF0F8\"}, \"line\": {\"color\": \"white\"}}, \"header\": {\"fill\": {\"color\": \"#C8D4E3\"}, \"line\": {\"color\": \"white\"}}, \"type\": \"table\"}]}, \"layout\": {\"annotationdefaults\": {\"arrowcolor\": \"#2a3f5f\", \"arrowhead\": 0, \"arrowwidth\": 1}, \"coloraxis\": {\"colorbar\": {\"outlinewidth\": 0, \"ticks\": \"\"}}, \"colorscale\": {\"diverging\": [[0, \"#8e0152\"], [0.1, \"#c51b7d\"], [0.2, \"#de77ae\"], [0.3, \"#f1b6da\"], [0.4, \"#fde0ef\"], [0.5, \"#f7f7f7\"], [0.6, \"#e6f5d0\"], [0.7, \"#b8e186\"], [0.8, \"#7fbc41\"], [0.9, \"#4d9221\"], [1, \"#276419\"]], \"sequential\": [[0.0, \"#0d0887\"], [0.1111111111111111, \"#46039f\"], [0.2222222222222222, \"#7201a8\"], [0.3333333333333333, \"#9c179e\"], [0.4444444444444444, \"#bd3786\"], [0.5555555555555556, \"#d8576b\"], [0.6666666666666666, \"#ed7953\"], [0.7777777777777778, \"#fb9f3a\"], [0.8888888888888888, \"#fdca26\"], [1.0, \"#f0f921\"]], \"sequentialminus\": [[0.0, \"#0d0887\"], [0.1111111111111111, \"#46039f\"], [0.2222222222222222, \"#7201a8\"], [0.3333333333333333, \"#9c179e\"], [0.4444444444444444, \"#bd3786\"], [0.5555555555555556, \"#d8576b\"], [0.6666666666666666, \"#ed7953\"], [0.7777777777777778, \"#fb9f3a\"], [0.8888888888888888, \"#fdca26\"], [1.0, \"#f0f921\"]]}, \"colorway\": [\"#636efa\", \"#EF553B\", \"#00cc96\", \"#ab63fa\", \"#FFA15A\", \"#19d3f3\", \"#FF6692\", \"#B6E880\", \"#FF97FF\", \"#FECB52\"], \"font\": {\"color\": \"#2a3f5f\"}, \"geo\": {\"bgcolor\": \"white\", \"lakecolor\": \"white\", \"landcolor\": \"#E5ECF6\", \"showlakes\": true, \"showland\": true, \"subunitcolor\": \"white\"}, \"hoverlabel\": {\"align\": \"left\"}, \"hovermode\": \"closest\", \"mapbox\": {\"style\": \"light\"}, \"paper_bgcolor\": \"white\", \"plot_bgcolor\": \"#E5ECF6\", \"polar\": {\"angularaxis\": {\"gridcolor\": \"white\", \"linecolor\": \"white\", \"ticks\": \"\"}, \"bgcolor\": \"#E5ECF6\", \"radialaxis\": {\"gridcolor\": \"white\", \"linecolor\": \"white\", \"ticks\": \"\"}}, \"scene\": {\"xaxis\": {\"backgroundcolor\": \"#E5ECF6\", \"gridcolor\": \"white\", \"gridwidth\": 2, \"linecolor\": \"white\", \"showbackground\": true, \"ticks\": \"\", \"zerolinecolor\": \"white\"}, \"yaxis\": {\"backgroundcolor\": \"#E5ECF6\", \"gridcolor\": \"white\", \"gridwidth\": 2, \"linecolor\": \"white\", \"showbackground\": true, \"ticks\": \"\", \"zerolinecolor\": \"white\"}, \"zaxis\": {\"backgroundcolor\": \"#E5ECF6\", \"gridcolor\": \"white\", \"gridwidth\": 2, \"linecolor\": \"white\", \"showbackground\": true, \"ticks\": \"\", \"zerolinecolor\": \"white\"}}, \"shapedefaults\": {\"line\": {\"color\": \"#2a3f5f\"}}, \"ternary\": {\"aaxis\": {\"gridcolor\": \"white\", \"linecolor\": \"white\", \"ticks\": \"\"}, \"baxis\": {\"gridcolor\": \"white\", \"linecolor\": \"white\", \"ticks\": \"\"}, \"bgcolor\": \"#E5ECF6\", \"caxis\": {\"gridcolor\": \"white\", \"linecolor\": \"white\", \"ticks\": \"\"}}, \"title\": {\"x\": 0.05}, \"xaxis\": {\"automargin\": true, \"gridcolor\": \"white\", \"linecolor\": \"white\", \"ticks\": \"\", \"title\": {\"standoff\": 15}, \"zerolinecolor\": \"white\", \"zerolinewidth\": 2}, \"yaxis\": {\"automargin\": true, \"gridcolor\": \"white\", \"linecolor\": \"white\", \"ticks\": \"\", \"title\": {\"standoff\": 15}, \"zerolinecolor\": \"white\", \"zerolinewidth\": 2}}}, \"xaxis\": {\"anchor\": \"y\", \"domain\": [0.0, 1.0], \"title\": {\"text\": \"Income Bins\"}}, \"yaxis\": {\"anchor\": \"x\", \"domain\": [0.0, 1.0], \"title\": {\"text\": \"Avg. Sentiment\"}}},\n",
              "                        {\"responsive\": true}\n",
              "                    ).then(function(){\n",
              "                            \n",
              "var gd = document.getElementById('787767d6-708e-4c54-9c24-f3a6db10a3da');\n",
              "var x = new MutationObserver(function (mutations, observer) {{\n",
              "        var display = window.getComputedStyle(gd).display;\n",
              "        if (!display || display === 'none') {{\n",
              "            console.log([gd, 'removed!']);\n",
              "            Plotly.purge(gd);\n",
              "            observer.disconnect();\n",
              "        }}\n",
              "}});\n",
              "\n",
              "// Listen for the removal of the full notebook cells\n",
              "var notebookContainer = gd.closest('#notebook-container');\n",
              "if (notebookContainer) {{\n",
              "    x.observe(notebookContainer, {childList: true});\n",
              "}}\n",
              "\n",
              "// Listen for the clearing of the current output cell\n",
              "var outputEl = gd.closest('.output');\n",
              "if (outputEl) {{\n",
              "    x.observe(outputEl, {childList: true});\n",
              "}}\n",
              "\n",
              "                        })\n",
              "                };\n",
              "                \n",
              "            </script>\n",
              "        </div>\n",
              "</body>\n",
              "</html>"
            ]
          },
          "metadata": {
            "tags": []
          }
        }
      ]
    },
    {
      "cell_type": "code",
      "metadata": {
        "id": "dBxwwb0vIP5S",
        "colab_type": "code",
        "colab": {}
      },
      "source": [
        ""
      ],
      "execution_count": 0,
      "outputs": []
    },
    {
      "cell_type": "code",
      "metadata": {
        "id": "_31DW0aHDMwC",
        "colab_type": "code",
        "outputId": "e7d8726b-3ee8-442f-aef1-3f2ee751feaa",
        "colab": {
          "base_uri": "https://localhost:8080/",
          "height": 69
        }
      },
      "source": [
        "data = pd.concat((df3['median_household_income'], df3['score']), axis=1)\n",
        "data.dtypes"
      ],
      "execution_count": 0,
      "outputs": [
        {
          "output_type": "execute_result",
          "data": {
            "text/plain": [
              "median_household_income    float64\n",
              "score                      float64\n",
              "dtype: object"
            ]
          },
          "metadata": {
            "tags": []
          },
          "execution_count": 244
        }
      ]
    },
    {
      "cell_type": "code",
      "metadata": {
        "id": "qFoCI4BrDUnc",
        "colab_type": "code",
        "outputId": "6689edb7-53bd-4e60-9b90-6dfb7e099c60",
        "colab": {
          "base_uri": "https://localhost:8080/",
          "height": 321
        }
      },
      "source": [
        "digitized = np.digitize(data, bins)"
      ],
      "execution_count": 0,
      "outputs": [
        {
          "output_type": "error",
          "ename": "TypeError",
          "evalue": "ignored",
          "traceback": [
            "\u001b[0;31m---------------------------------------------------------------------------\u001b[0m",
            "\u001b[0;31mTypeError\u001b[0m                                 Traceback (most recent call last)",
            "\u001b[0;32m<ipython-input-245-bfb6a6ddd58d>\u001b[0m in \u001b[0;36m<module>\u001b[0;34m()\u001b[0m\n\u001b[0;32m----> 1\u001b[0;31m \u001b[0mdigitized\u001b[0m \u001b[0;34m=\u001b[0m \u001b[0mnp\u001b[0m\u001b[0;34m.\u001b[0m\u001b[0mdigitize\u001b[0m\u001b[0;34m(\u001b[0m\u001b[0mdata\u001b[0m\u001b[0;34m,\u001b[0m \u001b[0mbins\u001b[0m\u001b[0;34m)\u001b[0m\u001b[0;34m\u001b[0m\u001b[0;34m\u001b[0m\u001b[0m\n\u001b[0m",
            "\u001b[0;32m<__array_function__ internals>\u001b[0m in \u001b[0;36mdigitize\u001b[0;34m(*args, **kwargs)\u001b[0m\n",
            "\u001b[0;32m/usr/local/lib/python3.6/dist-packages/numpy/lib/function_base.py\u001b[0m in \u001b[0;36mdigitize\u001b[0;34m(x, bins, right)\u001b[0m\n\u001b[1;32m   4796\u001b[0m         \u001b[0;32mraise\u001b[0m \u001b[0mTypeError\u001b[0m\u001b[0;34m(\u001b[0m\u001b[0;34m\"x may not be complex\"\u001b[0m\u001b[0;34m)\u001b[0m\u001b[0;34m\u001b[0m\u001b[0;34m\u001b[0m\u001b[0m\n\u001b[1;32m   4797\u001b[0m \u001b[0;34m\u001b[0m\u001b[0m\n\u001b[0;32m-> 4798\u001b[0;31m     \u001b[0mmono\u001b[0m \u001b[0;34m=\u001b[0m \u001b[0m_monotonicity\u001b[0m\u001b[0;34m(\u001b[0m\u001b[0mbins\u001b[0m\u001b[0;34m)\u001b[0m\u001b[0;34m\u001b[0m\u001b[0;34m\u001b[0m\u001b[0m\n\u001b[0m\u001b[1;32m   4799\u001b[0m     \u001b[0;32mif\u001b[0m \u001b[0mmono\u001b[0m \u001b[0;34m==\u001b[0m \u001b[0;36m0\u001b[0m\u001b[0;34m:\u001b[0m\u001b[0;34m\u001b[0m\u001b[0;34m\u001b[0m\u001b[0m\n\u001b[1;32m   4800\u001b[0m         \u001b[0;32mraise\u001b[0m \u001b[0mValueError\u001b[0m\u001b[0;34m(\u001b[0m\u001b[0;34m\"bins must be monotonically increasing or decreasing\"\u001b[0m\u001b[0;34m)\u001b[0m\u001b[0;34m\u001b[0m\u001b[0;34m\u001b[0m\u001b[0m\n",
            "\u001b[0;31mTypeError\u001b[0m: Cannot cast array data from dtype('O') to dtype('float64') according to the rule 'safe'"
          ]
        }
      ]
    },
    {
      "cell_type": "code",
      "metadata": {
        "id": "1GYKWD5d-U9t",
        "colab_type": "code",
        "outputId": "d64749af-92ab-43ba-d80a-cf4b171a2b27",
        "colab": {
          "base_uri": "https://localhost:8080/",
          "height": 373
        }
      },
      "source": [
        "\n",
        "bin_means = [data[digitized == i].mean() for i in range(1, len(bins))]\n",
        "print(bin_means)"
      ],
      "execution_count": 0,
      "outputs": [
        {
          "output_type": "error",
          "ename": "TypeError",
          "evalue": "ignored",
          "traceback": [
            "\u001b[0;31m---------------------------------------------------------------------------\u001b[0m",
            "\u001b[0;31mTypeError\u001b[0m                                 Traceback (most recent call last)",
            "\u001b[0;32m<ipython-input-240-0b6e45fde25a>\u001b[0m in \u001b[0;36m<module>\u001b[0;34m()\u001b[0m\n\u001b[1;32m      1\u001b[0m \u001b[0mdata\u001b[0m \u001b[0;34m=\u001b[0m \u001b[0mpd\u001b[0m\u001b[0;34m.\u001b[0m\u001b[0mconcat\u001b[0m\u001b[0;34m(\u001b[0m\u001b[0;34m(\u001b[0m\u001b[0mdf3\u001b[0m\u001b[0;34m[\u001b[0m\u001b[0;34m'median_household_income'\u001b[0m\u001b[0;34m]\u001b[0m\u001b[0;34m,\u001b[0m \u001b[0mdf3\u001b[0m\u001b[0;34m[\u001b[0m\u001b[0;34m'score'\u001b[0m\u001b[0;34m]\u001b[0m\u001b[0;34m)\u001b[0m\u001b[0;34m,\u001b[0m \u001b[0maxis\u001b[0m\u001b[0;34m=\u001b[0m\u001b[0;36m1\u001b[0m\u001b[0;34m)\u001b[0m\u001b[0;34m\u001b[0m\u001b[0;34m\u001b[0m\u001b[0m\n\u001b[0;32m----> 2\u001b[0;31m \u001b[0mdigitized\u001b[0m \u001b[0;34m=\u001b[0m \u001b[0mnp\u001b[0m\u001b[0;34m.\u001b[0m\u001b[0mdigitize\u001b[0m\u001b[0;34m(\u001b[0m\u001b[0mdata\u001b[0m\u001b[0;34m,\u001b[0m \u001b[0mbins\u001b[0m\u001b[0;34m)\u001b[0m\u001b[0;34m\u001b[0m\u001b[0;34m\u001b[0m\u001b[0m\n\u001b[0m\u001b[1;32m      3\u001b[0m \u001b[0mbin_means\u001b[0m \u001b[0;34m=\u001b[0m \u001b[0;34m[\u001b[0m\u001b[0mdata\u001b[0m\u001b[0;34m[\u001b[0m\u001b[0mdigitized\u001b[0m \u001b[0;34m==\u001b[0m \u001b[0mi\u001b[0m\u001b[0;34m]\u001b[0m\u001b[0;34m.\u001b[0m\u001b[0mmean\u001b[0m\u001b[0;34m(\u001b[0m\u001b[0;34m)\u001b[0m \u001b[0;32mfor\u001b[0m \u001b[0mi\u001b[0m \u001b[0;32min\u001b[0m \u001b[0mrange\u001b[0m\u001b[0;34m(\u001b[0m\u001b[0;36m1\u001b[0m\u001b[0;34m,\u001b[0m \u001b[0mlen\u001b[0m\u001b[0;34m(\u001b[0m\u001b[0mbins\u001b[0m\u001b[0;34m)\u001b[0m\u001b[0;34m)\u001b[0m\u001b[0;34m]\u001b[0m\u001b[0;34m\u001b[0m\u001b[0;34m\u001b[0m\u001b[0m\n\u001b[1;32m      4\u001b[0m \u001b[0mprint\u001b[0m\u001b[0;34m(\u001b[0m\u001b[0mbin_means\u001b[0m\u001b[0;34m)\u001b[0m\u001b[0;34m\u001b[0m\u001b[0;34m\u001b[0m\u001b[0m\n",
            "\u001b[0;32m<__array_function__ internals>\u001b[0m in \u001b[0;36mdigitize\u001b[0;34m(*args, **kwargs)\u001b[0m\n",
            "\u001b[0;32m/usr/local/lib/python3.6/dist-packages/numpy/lib/function_base.py\u001b[0m in \u001b[0;36mdigitize\u001b[0;34m(x, bins, right)\u001b[0m\n\u001b[1;32m   4796\u001b[0m         \u001b[0;32mraise\u001b[0m \u001b[0mTypeError\u001b[0m\u001b[0;34m(\u001b[0m\u001b[0;34m\"x may not be complex\"\u001b[0m\u001b[0;34m)\u001b[0m\u001b[0;34m\u001b[0m\u001b[0;34m\u001b[0m\u001b[0m\n\u001b[1;32m   4797\u001b[0m \u001b[0;34m\u001b[0m\u001b[0m\n\u001b[0;32m-> 4798\u001b[0;31m     \u001b[0mmono\u001b[0m \u001b[0;34m=\u001b[0m \u001b[0m_monotonicity\u001b[0m\u001b[0;34m(\u001b[0m\u001b[0mbins\u001b[0m\u001b[0;34m)\u001b[0m\u001b[0;34m\u001b[0m\u001b[0;34m\u001b[0m\u001b[0m\n\u001b[0m\u001b[1;32m   4799\u001b[0m     \u001b[0;32mif\u001b[0m \u001b[0mmono\u001b[0m \u001b[0;34m==\u001b[0m \u001b[0;36m0\u001b[0m\u001b[0;34m:\u001b[0m\u001b[0;34m\u001b[0m\u001b[0;34m\u001b[0m\u001b[0m\n\u001b[1;32m   4800\u001b[0m         \u001b[0;32mraise\u001b[0m \u001b[0mValueError\u001b[0m\u001b[0;34m(\u001b[0m\u001b[0;34m\"bins must be monotonically increasing or decreasing\"\u001b[0m\u001b[0;34m)\u001b[0m\u001b[0;34m\u001b[0m\u001b[0;34m\u001b[0m\u001b[0m\n",
            "\u001b[0;31mTypeError\u001b[0m: Cannot cast array data from dtype('O') to dtype('float64') according to the rule 'safe'"
          ]
        }
      ]
    },
    {
      "cell_type": "code",
      "metadata": {
        "id": "Sw3mgJ9tDMDg",
        "colab_type": "code",
        "colab": {}
      },
      "source": [
        ""
      ],
      "execution_count": 0,
      "outputs": []
    },
    {
      "cell_type": "code",
      "metadata": {
        "id": "YG7Oqj98_DXW",
        "colab_type": "code",
        "colab": {}
      },
      "source": [
        ""
      ],
      "execution_count": 0,
      "outputs": []
    }
  ]
}